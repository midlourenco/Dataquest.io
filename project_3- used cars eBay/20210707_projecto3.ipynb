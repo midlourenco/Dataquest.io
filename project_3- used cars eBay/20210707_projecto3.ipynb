{
 "cells": [
  {
   "cell_type": "markdown",
   "id": "84934a34",
   "metadata": {},
   "source": [
    "# PROJECT N. 3 - Exploring the data details of used cars sold in eBay <a class=\"tocSkip\">"
   ]
  },
  {
   "cell_type": "markdown",
   "id": "f4cb182f",
   "metadata": {},
   "source": [
    "## 1. Introduction"
   ]
  },
  {
   "cell_type": "markdown",
   "id": "86186f41",
   "metadata": {},
   "source": [
    "### 1.1 Dataset information:"
   ]
  },
  {
   "cell_type": "markdown",
   "id": "c94d518a",
   "metadata": {},
   "source": [
    "This dataset contains information about used cars.\n",
    "This dataset came from a section of German eBay (*eBay Kleinanzeigen*). The original is [here](https://data.world/data-society/used-cars-data). We will work with a modified version with 50 000 data points and 20 columns, scrawled in 2016 by one Kaggle user."
   ]
  },
  {
   "cell_type": "markdown",
   "id": "937205e2",
   "metadata": {},
   "source": [
    "### 1.2. Dataset dictionary:"
   ]
  },
  {
   "cell_type": "markdown",
   "id": "2e33c2a8",
   "metadata": {},
   "source": [
    "* dateCrawled - When this ad was first crawled. All field-values are taken from this date.\n",
    "* name - Name of the car.\n",
    "* seller - Whether the seller is private or a dealer.\n",
    "* offerType - The type of listing\n",
    "* price - The price on the ad to sell the car.\n",
    "* abtest - Whether the listing is included in an A/B test.\n",
    "* vehicleType - The vehicle Type.\n",
    "* yearOfRegistration - The year in which the car was first registered.\n",
    "* gearbox - The transmission type.\n",
    "* powerPS - The power of the car in PS.\n",
    "* model - The car model name.\n",
    "* kilometer - How many kilometers the car has driven.\n",
    "* monthOfRegistration - The month in which the car was first registered.\n",
    "* fuelType - What type of fuel the car uses.\n"
   ]
  },
  {
   "cell_type": "markdown",
   "id": "871fc1a7",
   "metadata": {},
   "source": [
    "### 1.3. Project objectives"
   ]
  },
  {
   "cell_type": "markdown",
   "id": "3de886c8",
   "metadata": {},
   "source": [
    "The aim of this project is to clean the data and analyze the included used car listings. "
   ]
  },
  {
   "cell_type": "markdown",
   "id": "c4e608d0",
   "metadata": {},
   "source": [
    "## 2. Dataset cleaning -  format data, identify outliers, identify wrong values"
   ]
  },
  {
   "cell_type": "markdown",
   "id": "3f7bc853",
   "metadata": {},
   "source": [
    "Let us start to import the library that we probably will need:"
   ]
  },
  {
   "cell_type": "code",
   "execution_count": 1,
   "id": "455185ea",
   "metadata": {},
   "outputs": [],
   "source": [
    "import pandas as pd\n",
    "import numpy as np"
   ]
  },
  {
   "cell_type": "code",
   "execution_count": 2,
   "id": "792e23ff",
   "metadata": {},
   "outputs": [],
   "source": [
    "autos=pd.read_csv(\"autos.csv\")"
   ]
  },
  {
   "cell_type": "code",
   "execution_count": 3,
   "id": "f8aae1fa",
   "metadata": {},
   "outputs": [
    {
     "data": {
      "text/html": [
       "<div>\n",
       "<style scoped>\n",
       "    .dataframe tbody tr th:only-of-type {\n",
       "        vertical-align: middle;\n",
       "    }\n",
       "\n",
       "    .dataframe tbody tr th {\n",
       "        vertical-align: top;\n",
       "    }\n",
       "\n",
       "    .dataframe thead th {\n",
       "        text-align: right;\n",
       "    }\n",
       "</style>\n",
       "<table border=\"1\" class=\"dataframe\">\n",
       "  <thead>\n",
       "    <tr style=\"text-align: right;\">\n",
       "      <th></th>\n",
       "      <th>dateCrawled</th>\n",
       "      <th>name</th>\n",
       "      <th>seller</th>\n",
       "      <th>offerType</th>\n",
       "      <th>price</th>\n",
       "      <th>abtest</th>\n",
       "      <th>vehicleType</th>\n",
       "      <th>yearOfRegistration</th>\n",
       "      <th>gearbox</th>\n",
       "      <th>powerPS</th>\n",
       "      <th>model</th>\n",
       "      <th>odometer</th>\n",
       "      <th>monthOfRegistration</th>\n",
       "      <th>fuelType</th>\n",
       "      <th>brand</th>\n",
       "      <th>notRepairedDamage</th>\n",
       "      <th>dateCreated</th>\n",
       "      <th>nrOfPictures</th>\n",
       "      <th>postalCode</th>\n",
       "      <th>lastSeen</th>\n",
       "    </tr>\n",
       "  </thead>\n",
       "  <tbody>\n",
       "    <tr>\n",
       "      <th>0</th>\n",
       "      <td>2016-03-26 17:47:46</td>\n",
       "      <td>Peugeot_807_160_NAVTECH_ON_BOARD</td>\n",
       "      <td>privat</td>\n",
       "      <td>Angebot</td>\n",
       "      <td>$5,000</td>\n",
       "      <td>control</td>\n",
       "      <td>bus</td>\n",
       "      <td>2004</td>\n",
       "      <td>manuell</td>\n",
       "      <td>158</td>\n",
       "      <td>andere</td>\n",
       "      <td>150,000km</td>\n",
       "      <td>3</td>\n",
       "      <td>lpg</td>\n",
       "      <td>peugeot</td>\n",
       "      <td>nein</td>\n",
       "      <td>2016-03-26 00:00:00</td>\n",
       "      <td>0</td>\n",
       "      <td>79588</td>\n",
       "      <td>2016-04-06 06:45:54</td>\n",
       "    </tr>\n",
       "    <tr>\n",
       "      <th>1</th>\n",
       "      <td>2016-04-04 13:38:56</td>\n",
       "      <td>BMW_740i_4_4_Liter_HAMANN_UMBAU_Mega_Optik</td>\n",
       "      <td>privat</td>\n",
       "      <td>Angebot</td>\n",
       "      <td>$8,500</td>\n",
       "      <td>control</td>\n",
       "      <td>limousine</td>\n",
       "      <td>1997</td>\n",
       "      <td>automatik</td>\n",
       "      <td>286</td>\n",
       "      <td>7er</td>\n",
       "      <td>150,000km</td>\n",
       "      <td>6</td>\n",
       "      <td>benzin</td>\n",
       "      <td>bmw</td>\n",
       "      <td>nein</td>\n",
       "      <td>2016-04-04 00:00:00</td>\n",
       "      <td>0</td>\n",
       "      <td>71034</td>\n",
       "      <td>2016-04-06 14:45:08</td>\n",
       "    </tr>\n",
       "    <tr>\n",
       "      <th>2</th>\n",
       "      <td>2016-03-26 18:57:24</td>\n",
       "      <td>Volkswagen_Golf_1.6_United</td>\n",
       "      <td>privat</td>\n",
       "      <td>Angebot</td>\n",
       "      <td>$8,990</td>\n",
       "      <td>test</td>\n",
       "      <td>limousine</td>\n",
       "      <td>2009</td>\n",
       "      <td>manuell</td>\n",
       "      <td>102</td>\n",
       "      <td>golf</td>\n",
       "      <td>70,000km</td>\n",
       "      <td>7</td>\n",
       "      <td>benzin</td>\n",
       "      <td>volkswagen</td>\n",
       "      <td>nein</td>\n",
       "      <td>2016-03-26 00:00:00</td>\n",
       "      <td>0</td>\n",
       "      <td>35394</td>\n",
       "      <td>2016-04-06 20:15:37</td>\n",
       "    </tr>\n",
       "    <tr>\n",
       "      <th>3</th>\n",
       "      <td>2016-03-12 16:58:10</td>\n",
       "      <td>Smart_smart_fortwo_coupe_softouch/F1/Klima/Pan...</td>\n",
       "      <td>privat</td>\n",
       "      <td>Angebot</td>\n",
       "      <td>$4,350</td>\n",
       "      <td>control</td>\n",
       "      <td>kleinwagen</td>\n",
       "      <td>2007</td>\n",
       "      <td>automatik</td>\n",
       "      <td>71</td>\n",
       "      <td>fortwo</td>\n",
       "      <td>70,000km</td>\n",
       "      <td>6</td>\n",
       "      <td>benzin</td>\n",
       "      <td>smart</td>\n",
       "      <td>nein</td>\n",
       "      <td>2016-03-12 00:00:00</td>\n",
       "      <td>0</td>\n",
       "      <td>33729</td>\n",
       "      <td>2016-03-15 03:16:28</td>\n",
       "    </tr>\n",
       "    <tr>\n",
       "      <th>4</th>\n",
       "      <td>2016-04-01 14:38:50</td>\n",
       "      <td>Ford_Focus_1_6_Benzin_T�V_neu_ist_sehr_gepfleg...</td>\n",
       "      <td>privat</td>\n",
       "      <td>Angebot</td>\n",
       "      <td>$1,350</td>\n",
       "      <td>test</td>\n",
       "      <td>kombi</td>\n",
       "      <td>2003</td>\n",
       "      <td>manuell</td>\n",
       "      <td>0</td>\n",
       "      <td>focus</td>\n",
       "      <td>150,000km</td>\n",
       "      <td>7</td>\n",
       "      <td>benzin</td>\n",
       "      <td>ford</td>\n",
       "      <td>nein</td>\n",
       "      <td>2016-04-01 00:00:00</td>\n",
       "      <td>0</td>\n",
       "      <td>39218</td>\n",
       "      <td>2016-04-01 14:38:50</td>\n",
       "    </tr>\n",
       "    <tr>\n",
       "      <th>...</th>\n",
       "      <td>...</td>\n",
       "      <td>...</td>\n",
       "      <td>...</td>\n",
       "      <td>...</td>\n",
       "      <td>...</td>\n",
       "      <td>...</td>\n",
       "      <td>...</td>\n",
       "      <td>...</td>\n",
       "      <td>...</td>\n",
       "      <td>...</td>\n",
       "      <td>...</td>\n",
       "      <td>...</td>\n",
       "      <td>...</td>\n",
       "      <td>...</td>\n",
       "      <td>...</td>\n",
       "      <td>...</td>\n",
       "      <td>...</td>\n",
       "      <td>...</td>\n",
       "      <td>...</td>\n",
       "      <td>...</td>\n",
       "    </tr>\n",
       "    <tr>\n",
       "      <th>49995</th>\n",
       "      <td>2016-03-27 14:38:19</td>\n",
       "      <td>Audi_Q5_3.0_TDI_qu._S_tr.__Navi__Panorama__Xenon</td>\n",
       "      <td>privat</td>\n",
       "      <td>Angebot</td>\n",
       "      <td>$24,900</td>\n",
       "      <td>control</td>\n",
       "      <td>limousine</td>\n",
       "      <td>2011</td>\n",
       "      <td>automatik</td>\n",
       "      <td>239</td>\n",
       "      <td>q5</td>\n",
       "      <td>100,000km</td>\n",
       "      <td>1</td>\n",
       "      <td>diesel</td>\n",
       "      <td>audi</td>\n",
       "      <td>nein</td>\n",
       "      <td>2016-03-27 00:00:00</td>\n",
       "      <td>0</td>\n",
       "      <td>82131</td>\n",
       "      <td>2016-04-01 13:47:40</td>\n",
       "    </tr>\n",
       "    <tr>\n",
       "      <th>49996</th>\n",
       "      <td>2016-03-28 10:50:25</td>\n",
       "      <td>Opel_Astra_F_Cabrio_Bertone_Edition___T�V_neu+...</td>\n",
       "      <td>privat</td>\n",
       "      <td>Angebot</td>\n",
       "      <td>$1,980</td>\n",
       "      <td>control</td>\n",
       "      <td>cabrio</td>\n",
       "      <td>1996</td>\n",
       "      <td>manuell</td>\n",
       "      <td>75</td>\n",
       "      <td>astra</td>\n",
       "      <td>150,000km</td>\n",
       "      <td>5</td>\n",
       "      <td>benzin</td>\n",
       "      <td>opel</td>\n",
       "      <td>nein</td>\n",
       "      <td>2016-03-28 00:00:00</td>\n",
       "      <td>0</td>\n",
       "      <td>44807</td>\n",
       "      <td>2016-04-02 14:18:02</td>\n",
       "    </tr>\n",
       "    <tr>\n",
       "      <th>49997</th>\n",
       "      <td>2016-04-02 14:44:48</td>\n",
       "      <td>Fiat_500_C_1.2_Dualogic_Lounge</td>\n",
       "      <td>privat</td>\n",
       "      <td>Angebot</td>\n",
       "      <td>$13,200</td>\n",
       "      <td>test</td>\n",
       "      <td>cabrio</td>\n",
       "      <td>2014</td>\n",
       "      <td>automatik</td>\n",
       "      <td>69</td>\n",
       "      <td>500</td>\n",
       "      <td>5,000km</td>\n",
       "      <td>11</td>\n",
       "      <td>benzin</td>\n",
       "      <td>fiat</td>\n",
       "      <td>nein</td>\n",
       "      <td>2016-04-02 00:00:00</td>\n",
       "      <td>0</td>\n",
       "      <td>73430</td>\n",
       "      <td>2016-04-04 11:47:27</td>\n",
       "    </tr>\n",
       "    <tr>\n",
       "      <th>49998</th>\n",
       "      <td>2016-03-08 19:25:42</td>\n",
       "      <td>Audi_A3_2.0_TDI_Sportback_Ambition</td>\n",
       "      <td>privat</td>\n",
       "      <td>Angebot</td>\n",
       "      <td>$22,900</td>\n",
       "      <td>control</td>\n",
       "      <td>kombi</td>\n",
       "      <td>2013</td>\n",
       "      <td>manuell</td>\n",
       "      <td>150</td>\n",
       "      <td>a3</td>\n",
       "      <td>40,000km</td>\n",
       "      <td>11</td>\n",
       "      <td>diesel</td>\n",
       "      <td>audi</td>\n",
       "      <td>nein</td>\n",
       "      <td>2016-03-08 00:00:00</td>\n",
       "      <td>0</td>\n",
       "      <td>35683</td>\n",
       "      <td>2016-04-05 16:45:07</td>\n",
       "    </tr>\n",
       "    <tr>\n",
       "      <th>49999</th>\n",
       "      <td>2016-03-14 00:42:12</td>\n",
       "      <td>Opel_Vectra_1.6_16V</td>\n",
       "      <td>privat</td>\n",
       "      <td>Angebot</td>\n",
       "      <td>$1,250</td>\n",
       "      <td>control</td>\n",
       "      <td>limousine</td>\n",
       "      <td>1996</td>\n",
       "      <td>manuell</td>\n",
       "      <td>101</td>\n",
       "      <td>vectra</td>\n",
       "      <td>150,000km</td>\n",
       "      <td>1</td>\n",
       "      <td>benzin</td>\n",
       "      <td>opel</td>\n",
       "      <td>nein</td>\n",
       "      <td>2016-03-13 00:00:00</td>\n",
       "      <td>0</td>\n",
       "      <td>45897</td>\n",
       "      <td>2016-04-06 21:18:48</td>\n",
       "    </tr>\n",
       "  </tbody>\n",
       "</table>\n",
       "<p>50000 rows × 20 columns</p>\n",
       "</div>"
      ],
      "text/plain": [
       "               dateCrawled                                               name  \\\n",
       "0      2016-03-26 17:47:46                   Peugeot_807_160_NAVTECH_ON_BOARD   \n",
       "1      2016-04-04 13:38:56         BMW_740i_4_4_Liter_HAMANN_UMBAU_Mega_Optik   \n",
       "2      2016-03-26 18:57:24                         Volkswagen_Golf_1.6_United   \n",
       "3      2016-03-12 16:58:10  Smart_smart_fortwo_coupe_softouch/F1/Klima/Pan...   \n",
       "4      2016-04-01 14:38:50  Ford_Focus_1_6_Benzin_T�V_neu_ist_sehr_gepfleg...   \n",
       "...                    ...                                                ...   \n",
       "49995  2016-03-27 14:38:19   Audi_Q5_3.0_TDI_qu._S_tr.__Navi__Panorama__Xenon   \n",
       "49996  2016-03-28 10:50:25  Opel_Astra_F_Cabrio_Bertone_Edition___T�V_neu+...   \n",
       "49997  2016-04-02 14:44:48                     Fiat_500_C_1.2_Dualogic_Lounge   \n",
       "49998  2016-03-08 19:25:42                 Audi_A3_2.0_TDI_Sportback_Ambition   \n",
       "49999  2016-03-14 00:42:12                                Opel_Vectra_1.6_16V   \n",
       "\n",
       "       seller offerType    price   abtest vehicleType  yearOfRegistration  \\\n",
       "0      privat   Angebot   $5,000  control         bus                2004   \n",
       "1      privat   Angebot   $8,500  control   limousine                1997   \n",
       "2      privat   Angebot   $8,990     test   limousine                2009   \n",
       "3      privat   Angebot   $4,350  control  kleinwagen                2007   \n",
       "4      privat   Angebot   $1,350     test       kombi                2003   \n",
       "...       ...       ...      ...      ...         ...                 ...   \n",
       "49995  privat   Angebot  $24,900  control   limousine                2011   \n",
       "49996  privat   Angebot   $1,980  control      cabrio                1996   \n",
       "49997  privat   Angebot  $13,200     test      cabrio                2014   \n",
       "49998  privat   Angebot  $22,900  control       kombi                2013   \n",
       "49999  privat   Angebot   $1,250  control   limousine                1996   \n",
       "\n",
       "         gearbox  powerPS   model   odometer  monthOfRegistration fuelType  \\\n",
       "0        manuell      158  andere  150,000km                    3      lpg   \n",
       "1      automatik      286     7er  150,000km                    6   benzin   \n",
       "2        manuell      102    golf   70,000km                    7   benzin   \n",
       "3      automatik       71  fortwo   70,000km                    6   benzin   \n",
       "4        manuell        0   focus  150,000km                    7   benzin   \n",
       "...          ...      ...     ...        ...                  ...      ...   \n",
       "49995  automatik      239      q5  100,000km                    1   diesel   \n",
       "49996    manuell       75   astra  150,000km                    5   benzin   \n",
       "49997  automatik       69     500    5,000km                   11   benzin   \n",
       "49998    manuell      150      a3   40,000km                   11   diesel   \n",
       "49999    manuell      101  vectra  150,000km                    1   benzin   \n",
       "\n",
       "            brand notRepairedDamage          dateCreated  nrOfPictures  \\\n",
       "0         peugeot              nein  2016-03-26 00:00:00             0   \n",
       "1             bmw              nein  2016-04-04 00:00:00             0   \n",
       "2      volkswagen              nein  2016-03-26 00:00:00             0   \n",
       "3           smart              nein  2016-03-12 00:00:00             0   \n",
       "4            ford              nein  2016-04-01 00:00:00             0   \n",
       "...           ...               ...                  ...           ...   \n",
       "49995        audi              nein  2016-03-27 00:00:00             0   \n",
       "49996        opel              nein  2016-03-28 00:00:00             0   \n",
       "49997        fiat              nein  2016-04-02 00:00:00             0   \n",
       "49998        audi              nein  2016-03-08 00:00:00             0   \n",
       "49999        opel              nein  2016-03-13 00:00:00             0   \n",
       "\n",
       "       postalCode             lastSeen  \n",
       "0           79588  2016-04-06 06:45:54  \n",
       "1           71034  2016-04-06 14:45:08  \n",
       "2           35394  2016-04-06 20:15:37  \n",
       "3           33729  2016-03-15 03:16:28  \n",
       "4           39218  2016-04-01 14:38:50  \n",
       "...           ...                  ...  \n",
       "49995       82131  2016-04-01 13:47:40  \n",
       "49996       44807  2016-04-02 14:18:02  \n",
       "49997       73430  2016-04-04 11:47:27  \n",
       "49998       35683  2016-04-05 16:45:07  \n",
       "49999       45897  2016-04-06 21:18:48  \n",
       "\n",
       "[50000 rows x 20 columns]"
      ]
     },
     "execution_count": 3,
     "metadata": {},
     "output_type": "execute_result"
    }
   ],
   "source": [
    "autos"
   ]
  },
  {
   "cell_type": "code",
   "execution_count": 4,
   "id": "43f2a36e",
   "metadata": {},
   "outputs": [
    {
     "data": {
      "text/html": [
       "<div>\n",
       "<style scoped>\n",
       "    .dataframe tbody tr th:only-of-type {\n",
       "        vertical-align: middle;\n",
       "    }\n",
       "\n",
       "    .dataframe tbody tr th {\n",
       "        vertical-align: top;\n",
       "    }\n",
       "\n",
       "    .dataframe thead th {\n",
       "        text-align: right;\n",
       "    }\n",
       "</style>\n",
       "<table border=\"1\" class=\"dataframe\">\n",
       "  <thead>\n",
       "    <tr style=\"text-align: right;\">\n",
       "      <th></th>\n",
       "      <th>dateCrawled</th>\n",
       "      <th>name</th>\n",
       "      <th>seller</th>\n",
       "      <th>offerType</th>\n",
       "      <th>price</th>\n",
       "      <th>abtest</th>\n",
       "      <th>vehicleType</th>\n",
       "      <th>yearOfRegistration</th>\n",
       "      <th>gearbox</th>\n",
       "      <th>powerPS</th>\n",
       "      <th>model</th>\n",
       "      <th>odometer</th>\n",
       "      <th>monthOfRegistration</th>\n",
       "      <th>fuelType</th>\n",
       "      <th>brand</th>\n",
       "      <th>notRepairedDamage</th>\n",
       "      <th>dateCreated</th>\n",
       "      <th>nrOfPictures</th>\n",
       "      <th>postalCode</th>\n",
       "      <th>lastSeen</th>\n",
       "    </tr>\n",
       "  </thead>\n",
       "  <tbody>\n",
       "    <tr>\n",
       "      <th>0</th>\n",
       "      <td>2016-03-26 17:47:46</td>\n",
       "      <td>Peugeot_807_160_NAVTECH_ON_BOARD</td>\n",
       "      <td>privat</td>\n",
       "      <td>Angebot</td>\n",
       "      <td>$5,000</td>\n",
       "      <td>control</td>\n",
       "      <td>bus</td>\n",
       "      <td>2004</td>\n",
       "      <td>manuell</td>\n",
       "      <td>158</td>\n",
       "      <td>andere</td>\n",
       "      <td>150,000km</td>\n",
       "      <td>3</td>\n",
       "      <td>lpg</td>\n",
       "      <td>peugeot</td>\n",
       "      <td>nein</td>\n",
       "      <td>2016-03-26 00:00:00</td>\n",
       "      <td>0</td>\n",
       "      <td>79588</td>\n",
       "      <td>2016-04-06 06:45:54</td>\n",
       "    </tr>\n",
       "    <tr>\n",
       "      <th>1</th>\n",
       "      <td>2016-04-04 13:38:56</td>\n",
       "      <td>BMW_740i_4_4_Liter_HAMANN_UMBAU_Mega_Optik</td>\n",
       "      <td>privat</td>\n",
       "      <td>Angebot</td>\n",
       "      <td>$8,500</td>\n",
       "      <td>control</td>\n",
       "      <td>limousine</td>\n",
       "      <td>1997</td>\n",
       "      <td>automatik</td>\n",
       "      <td>286</td>\n",
       "      <td>7er</td>\n",
       "      <td>150,000km</td>\n",
       "      <td>6</td>\n",
       "      <td>benzin</td>\n",
       "      <td>bmw</td>\n",
       "      <td>nein</td>\n",
       "      <td>2016-04-04 00:00:00</td>\n",
       "      <td>0</td>\n",
       "      <td>71034</td>\n",
       "      <td>2016-04-06 14:45:08</td>\n",
       "    </tr>\n",
       "    <tr>\n",
       "      <th>2</th>\n",
       "      <td>2016-03-26 18:57:24</td>\n",
       "      <td>Volkswagen_Golf_1.6_United</td>\n",
       "      <td>privat</td>\n",
       "      <td>Angebot</td>\n",
       "      <td>$8,990</td>\n",
       "      <td>test</td>\n",
       "      <td>limousine</td>\n",
       "      <td>2009</td>\n",
       "      <td>manuell</td>\n",
       "      <td>102</td>\n",
       "      <td>golf</td>\n",
       "      <td>70,000km</td>\n",
       "      <td>7</td>\n",
       "      <td>benzin</td>\n",
       "      <td>volkswagen</td>\n",
       "      <td>nein</td>\n",
       "      <td>2016-03-26 00:00:00</td>\n",
       "      <td>0</td>\n",
       "      <td>35394</td>\n",
       "      <td>2016-04-06 20:15:37</td>\n",
       "    </tr>\n",
       "    <tr>\n",
       "      <th>3</th>\n",
       "      <td>2016-03-12 16:58:10</td>\n",
       "      <td>Smart_smart_fortwo_coupe_softouch/F1/Klima/Pan...</td>\n",
       "      <td>privat</td>\n",
       "      <td>Angebot</td>\n",
       "      <td>$4,350</td>\n",
       "      <td>control</td>\n",
       "      <td>kleinwagen</td>\n",
       "      <td>2007</td>\n",
       "      <td>automatik</td>\n",
       "      <td>71</td>\n",
       "      <td>fortwo</td>\n",
       "      <td>70,000km</td>\n",
       "      <td>6</td>\n",
       "      <td>benzin</td>\n",
       "      <td>smart</td>\n",
       "      <td>nein</td>\n",
       "      <td>2016-03-12 00:00:00</td>\n",
       "      <td>0</td>\n",
       "      <td>33729</td>\n",
       "      <td>2016-03-15 03:16:28</td>\n",
       "    </tr>\n",
       "    <tr>\n",
       "      <th>4</th>\n",
       "      <td>2016-04-01 14:38:50</td>\n",
       "      <td>Ford_Focus_1_6_Benzin_T�V_neu_ist_sehr_gepfleg...</td>\n",
       "      <td>privat</td>\n",
       "      <td>Angebot</td>\n",
       "      <td>$1,350</td>\n",
       "      <td>test</td>\n",
       "      <td>kombi</td>\n",
       "      <td>2003</td>\n",
       "      <td>manuell</td>\n",
       "      <td>0</td>\n",
       "      <td>focus</td>\n",
       "      <td>150,000km</td>\n",
       "      <td>7</td>\n",
       "      <td>benzin</td>\n",
       "      <td>ford</td>\n",
       "      <td>nein</td>\n",
       "      <td>2016-04-01 00:00:00</td>\n",
       "      <td>0</td>\n",
       "      <td>39218</td>\n",
       "      <td>2016-04-01 14:38:50</td>\n",
       "    </tr>\n",
       "  </tbody>\n",
       "</table>\n",
       "</div>"
      ],
      "text/plain": [
       "           dateCrawled                                               name  \\\n",
       "0  2016-03-26 17:47:46                   Peugeot_807_160_NAVTECH_ON_BOARD   \n",
       "1  2016-04-04 13:38:56         BMW_740i_4_4_Liter_HAMANN_UMBAU_Mega_Optik   \n",
       "2  2016-03-26 18:57:24                         Volkswagen_Golf_1.6_United   \n",
       "3  2016-03-12 16:58:10  Smart_smart_fortwo_coupe_softouch/F1/Klima/Pan...   \n",
       "4  2016-04-01 14:38:50  Ford_Focus_1_6_Benzin_T�V_neu_ist_sehr_gepfleg...   \n",
       "\n",
       "   seller offerType   price   abtest vehicleType  yearOfRegistration  \\\n",
       "0  privat   Angebot  $5,000  control         bus                2004   \n",
       "1  privat   Angebot  $8,500  control   limousine                1997   \n",
       "2  privat   Angebot  $8,990     test   limousine                2009   \n",
       "3  privat   Angebot  $4,350  control  kleinwagen                2007   \n",
       "4  privat   Angebot  $1,350     test       kombi                2003   \n",
       "\n",
       "     gearbox  powerPS   model   odometer  monthOfRegistration fuelType  \\\n",
       "0    manuell      158  andere  150,000km                    3      lpg   \n",
       "1  automatik      286     7er  150,000km                    6   benzin   \n",
       "2    manuell      102    golf   70,000km                    7   benzin   \n",
       "3  automatik       71  fortwo   70,000km                    6   benzin   \n",
       "4    manuell        0   focus  150,000km                    7   benzin   \n",
       "\n",
       "        brand notRepairedDamage          dateCreated  nrOfPictures  \\\n",
       "0     peugeot              nein  2016-03-26 00:00:00             0   \n",
       "1         bmw              nein  2016-04-04 00:00:00             0   \n",
       "2  volkswagen              nein  2016-03-26 00:00:00             0   \n",
       "3       smart              nein  2016-03-12 00:00:00             0   \n",
       "4        ford              nein  2016-04-01 00:00:00             0   \n",
       "\n",
       "   postalCode             lastSeen  \n",
       "0       79588  2016-04-06 06:45:54  \n",
       "1       71034  2016-04-06 14:45:08  \n",
       "2       35394  2016-04-06 20:15:37  \n",
       "3       33729  2016-03-15 03:16:28  \n",
       "4       39218  2016-04-01 14:38:50  "
      ]
     },
     "execution_count": 4,
     "metadata": {},
     "output_type": "execute_result"
    }
   ],
   "source": [
    "autos.head()"
   ]
  },
  {
   "cell_type": "code",
   "execution_count": 5,
   "id": "2a4d1a56",
   "metadata": {},
   "outputs": [
    {
     "name": "stdout",
     "output_type": "stream",
     "text": [
      "<class 'pandas.core.frame.DataFrame'>\n",
      "RangeIndex: 50000 entries, 0 to 49999\n",
      "Data columns (total 20 columns):\n",
      " #   Column               Non-Null Count  Dtype \n",
      "---  ------               --------------  ----- \n",
      " 0   dateCrawled          50000 non-null  object\n",
      " 1   name                 50000 non-null  object\n",
      " 2   seller               50000 non-null  object\n",
      " 3   offerType            50000 non-null  object\n",
      " 4   price                50000 non-null  object\n",
      " 5   abtest               50000 non-null  object\n",
      " 6   vehicleType          44905 non-null  object\n",
      " 7   yearOfRegistration   50000 non-null  int64 \n",
      " 8   gearbox              47320 non-null  object\n",
      " 9   powerPS              50000 non-null  int64 \n",
      " 10  model                47242 non-null  object\n",
      " 11  odometer             50000 non-null  object\n",
      " 12  monthOfRegistration  50000 non-null  int64 \n",
      " 13  fuelType             45518 non-null  object\n",
      " 14  brand                50000 non-null  object\n",
      " 15  notRepairedDamage    40171 non-null  object\n",
      " 16  dateCreated          50000 non-null  object\n",
      " 17  nrOfPictures         50000 non-null  int64 \n",
      " 18  postalCode           50000 non-null  int64 \n",
      " 19  lastSeen             50000 non-null  object\n",
      "dtypes: int64(5), object(15)\n",
      "memory usage: 7.6+ MB\n"
     ]
    }
   ],
   "source": [
    "autos.info()"
   ]
  },
  {
   "cell_type": "markdown",
   "id": "7a5da251",
   "metadata": {},
   "source": [
    "### 2.1 - First notes:\n",
    "**Checking the above information, we can take the following notes:**\n",
    "* we have 20 columns and 50 000 rows.\n",
    "\n",
    "* columns labels:\n",
    "    - we can check that there are a mix of upper and lower cases (camelcase). To make it easier work with dataset, we should pass all labels to lower cases and replace the space between words by underscore (snakecase). <span style='background :yellow' > (please check following point 2.2)</span>\n",
    "    \n",
    "* columns data type vs information:\n",
    "    - checking datatype, we only have 5 columns which type is `int64`, the remaining 16 columns has data type `object`. \n",
    "    - however we can check that columns like `price` and `odometer` even contains numeric information are object because contains \"$\" and \"km\". We can transformed them in numeric type, removing this special characters <span style='background :yellow' > (please check following point 2.3)</span>\n",
    "    - there are also 3 columns with date information, `dateCrawled`, `dateCreated` and `lastSee`, which type is object. Probably it is better format those information as date time. <span style='background :yellow' > (please check following point 2.4)</span>\n",
    "\n",
    "* columns with null values:\n",
    "    - as we can see, we have some columns which contains nulls values `vehicleType`, `gearbox`, `model`, `fuelType`, `notRepairedDamage`. We will need to inspect and decide what we can do, if it can be revised, or if we will need to delete those rows.\n",
    "\n",
    " * text information is in German. We may need to translate it to English (using`.map`, to understand easily the meaning).\n",
    " \n",
    "* column `name` contains a lot information, which we can split and insert in different new columns. For example before first underscore we have the brand name - as we have already one column with this information, we don't need to duplicate this information. Between next two underscore we have the car model, however we also have one column with car model. Anyway, if we identify any interesting info, we can isolate it in one new column, and do some specific analyse"
   ]
  },
  {
   "cell_type": "markdown",
   "id": "e4e1d244",
   "metadata": {},
   "source": [
    "### 2.2 - Format columns labels to snakecase:"
   ]
  },
  {
   "cell_type": "code",
   "execution_count": 6,
   "id": "ef175e0f",
   "metadata": {},
   "outputs": [
    {
     "data": {
      "text/plain": [
       "Index(['dateCrawled', 'name', 'seller', 'offerType', 'price', 'abtest',\n",
       "       'vehicleType', 'yearOfRegistration', 'gearbox', 'powerPS', 'model',\n",
       "       'odometer', 'monthOfRegistration', 'fuelType', 'brand',\n",
       "       'notRepairedDamage', 'dateCreated', 'nrOfPictures', 'postalCode',\n",
       "       'lastSeen'],\n",
       "      dtype='object')"
      ]
     },
     "execution_count": 6,
     "metadata": {},
     "output_type": "execute_result"
    }
   ],
   "source": [
    "#list of columns names:\n",
    "autos.columns"
   ]
  },
  {
   "cell_type": "code",
   "execution_count": 7,
   "id": "3d086a42",
   "metadata": {
    "scrolled": true
   },
   "outputs": [
    {
     "data": {
      "text/plain": [
       "Index(['date_crawled', 'name', 'seller', 'offer_type', 'price', 'abtest',\n",
       "       'vehicle_type', 'registration_year', 'gearbox', 'powerPS', 'model',\n",
       "       'odometer', 'registration_month', 'fuel_type', 'brand',\n",
       "       'unrepaired_damage', 'ad_created', 'pic_num', 'postal_code',\n",
       "       'last_seen'],\n",
       "      dtype='object')"
      ]
     },
     "execution_count": 7,
     "metadata": {},
     "output_type": "execute_result"
    }
   ],
   "source": [
    "#reanme following columns:\n",
    "\n",
    "autos.rename({\n",
    "    \"dateCrawled\":\"date_crawled\",\n",
    "    \"offerType\":\"offer_type\",\n",
    "    \"vehicleType\":\"vehicle_type\",\n",
    "    \"yearOfRegistration\":\"registration_year\",\n",
    "    \"monthOfRegistration\":\"registration_month\",\n",
    "    \"fuelType\":\"fuel_type\",\n",
    "    \"notRepairedDamage\":\"unrepaired_damage\",\n",
    "    \"dateCreated\":\"ad_created\", \n",
    "    \"nrOfPictures\":\"pic_num\",\n",
    "    \"postalCode\":\"postal_code\",\n",
    "    \"lastSeen\":\"last_seen\"},\n",
    "    axis=1, inplace=True)\n",
    "\n",
    "autos.columns"
   ]
  },
  {
   "cell_type": "code",
   "execution_count": 8,
   "id": "11e00ab5",
   "metadata": {
    "scrolled": true
   },
   "outputs": [
    {
     "data": {
      "text/html": [
       "<div>\n",
       "<style scoped>\n",
       "    .dataframe tbody tr th:only-of-type {\n",
       "        vertical-align: middle;\n",
       "    }\n",
       "\n",
       "    .dataframe tbody tr th {\n",
       "        vertical-align: top;\n",
       "    }\n",
       "\n",
       "    .dataframe thead th {\n",
       "        text-align: right;\n",
       "    }\n",
       "</style>\n",
       "<table border=\"1\" class=\"dataframe\">\n",
       "  <thead>\n",
       "    <tr style=\"text-align: right;\">\n",
       "      <th></th>\n",
       "      <th>date_crawled</th>\n",
       "      <th>name</th>\n",
       "      <th>seller</th>\n",
       "      <th>offer_type</th>\n",
       "      <th>price</th>\n",
       "      <th>abtest</th>\n",
       "      <th>vehicle_type</th>\n",
       "      <th>registration_year</th>\n",
       "      <th>gearbox</th>\n",
       "      <th>powerPS</th>\n",
       "      <th>model</th>\n",
       "      <th>odometer</th>\n",
       "      <th>registration_month</th>\n",
       "      <th>fuel_type</th>\n",
       "      <th>brand</th>\n",
       "      <th>unrepaired_damage</th>\n",
       "      <th>ad_created</th>\n",
       "      <th>pic_num</th>\n",
       "      <th>postal_code</th>\n",
       "      <th>last_seen</th>\n",
       "    </tr>\n",
       "  </thead>\n",
       "  <tbody>\n",
       "    <tr>\n",
       "      <th>0</th>\n",
       "      <td>2016-03-26 17:47:46</td>\n",
       "      <td>Peugeot_807_160_NAVTECH_ON_BOARD</td>\n",
       "      <td>privat</td>\n",
       "      <td>Angebot</td>\n",
       "      <td>$5,000</td>\n",
       "      <td>control</td>\n",
       "      <td>bus</td>\n",
       "      <td>2004</td>\n",
       "      <td>manuell</td>\n",
       "      <td>158</td>\n",
       "      <td>andere</td>\n",
       "      <td>150,000km</td>\n",
       "      <td>3</td>\n",
       "      <td>lpg</td>\n",
       "      <td>peugeot</td>\n",
       "      <td>nein</td>\n",
       "      <td>2016-03-26 00:00:00</td>\n",
       "      <td>0</td>\n",
       "      <td>79588</td>\n",
       "      <td>2016-04-06 06:45:54</td>\n",
       "    </tr>\n",
       "    <tr>\n",
       "      <th>1</th>\n",
       "      <td>2016-04-04 13:38:56</td>\n",
       "      <td>BMW_740i_4_4_Liter_HAMANN_UMBAU_Mega_Optik</td>\n",
       "      <td>privat</td>\n",
       "      <td>Angebot</td>\n",
       "      <td>$8,500</td>\n",
       "      <td>control</td>\n",
       "      <td>limousine</td>\n",
       "      <td>1997</td>\n",
       "      <td>automatik</td>\n",
       "      <td>286</td>\n",
       "      <td>7er</td>\n",
       "      <td>150,000km</td>\n",
       "      <td>6</td>\n",
       "      <td>benzin</td>\n",
       "      <td>bmw</td>\n",
       "      <td>nein</td>\n",
       "      <td>2016-04-04 00:00:00</td>\n",
       "      <td>0</td>\n",
       "      <td>71034</td>\n",
       "      <td>2016-04-06 14:45:08</td>\n",
       "    </tr>\n",
       "    <tr>\n",
       "      <th>2</th>\n",
       "      <td>2016-03-26 18:57:24</td>\n",
       "      <td>Volkswagen_Golf_1.6_United</td>\n",
       "      <td>privat</td>\n",
       "      <td>Angebot</td>\n",
       "      <td>$8,990</td>\n",
       "      <td>test</td>\n",
       "      <td>limousine</td>\n",
       "      <td>2009</td>\n",
       "      <td>manuell</td>\n",
       "      <td>102</td>\n",
       "      <td>golf</td>\n",
       "      <td>70,000km</td>\n",
       "      <td>7</td>\n",
       "      <td>benzin</td>\n",
       "      <td>volkswagen</td>\n",
       "      <td>nein</td>\n",
       "      <td>2016-03-26 00:00:00</td>\n",
       "      <td>0</td>\n",
       "      <td>35394</td>\n",
       "      <td>2016-04-06 20:15:37</td>\n",
       "    </tr>\n",
       "    <tr>\n",
       "      <th>3</th>\n",
       "      <td>2016-03-12 16:58:10</td>\n",
       "      <td>Smart_smart_fortwo_coupe_softouch/F1/Klima/Pan...</td>\n",
       "      <td>privat</td>\n",
       "      <td>Angebot</td>\n",
       "      <td>$4,350</td>\n",
       "      <td>control</td>\n",
       "      <td>kleinwagen</td>\n",
       "      <td>2007</td>\n",
       "      <td>automatik</td>\n",
       "      <td>71</td>\n",
       "      <td>fortwo</td>\n",
       "      <td>70,000km</td>\n",
       "      <td>6</td>\n",
       "      <td>benzin</td>\n",
       "      <td>smart</td>\n",
       "      <td>nein</td>\n",
       "      <td>2016-03-12 00:00:00</td>\n",
       "      <td>0</td>\n",
       "      <td>33729</td>\n",
       "      <td>2016-03-15 03:16:28</td>\n",
       "    </tr>\n",
       "    <tr>\n",
       "      <th>4</th>\n",
       "      <td>2016-04-01 14:38:50</td>\n",
       "      <td>Ford_Focus_1_6_Benzin_T�V_neu_ist_sehr_gepfleg...</td>\n",
       "      <td>privat</td>\n",
       "      <td>Angebot</td>\n",
       "      <td>$1,350</td>\n",
       "      <td>test</td>\n",
       "      <td>kombi</td>\n",
       "      <td>2003</td>\n",
       "      <td>manuell</td>\n",
       "      <td>0</td>\n",
       "      <td>focus</td>\n",
       "      <td>150,000km</td>\n",
       "      <td>7</td>\n",
       "      <td>benzin</td>\n",
       "      <td>ford</td>\n",
       "      <td>nein</td>\n",
       "      <td>2016-04-01 00:00:00</td>\n",
       "      <td>0</td>\n",
       "      <td>39218</td>\n",
       "      <td>2016-04-01 14:38:50</td>\n",
       "    </tr>\n",
       "  </tbody>\n",
       "</table>\n",
       "</div>"
      ],
      "text/plain": [
       "          date_crawled                                               name  \\\n",
       "0  2016-03-26 17:47:46                   Peugeot_807_160_NAVTECH_ON_BOARD   \n",
       "1  2016-04-04 13:38:56         BMW_740i_4_4_Liter_HAMANN_UMBAU_Mega_Optik   \n",
       "2  2016-03-26 18:57:24                         Volkswagen_Golf_1.6_United   \n",
       "3  2016-03-12 16:58:10  Smart_smart_fortwo_coupe_softouch/F1/Klima/Pan...   \n",
       "4  2016-04-01 14:38:50  Ford_Focus_1_6_Benzin_T�V_neu_ist_sehr_gepfleg...   \n",
       "\n",
       "   seller offer_type   price   abtest vehicle_type  registration_year  \\\n",
       "0  privat    Angebot  $5,000  control          bus               2004   \n",
       "1  privat    Angebot  $8,500  control    limousine               1997   \n",
       "2  privat    Angebot  $8,990     test    limousine               2009   \n",
       "3  privat    Angebot  $4,350  control   kleinwagen               2007   \n",
       "4  privat    Angebot  $1,350     test        kombi               2003   \n",
       "\n",
       "     gearbox  powerPS   model   odometer  registration_month fuel_type  \\\n",
       "0    manuell      158  andere  150,000km                   3       lpg   \n",
       "1  automatik      286     7er  150,000km                   6    benzin   \n",
       "2    manuell      102    golf   70,000km                   7    benzin   \n",
       "3  automatik       71  fortwo   70,000km                   6    benzin   \n",
       "4    manuell        0   focus  150,000km                   7    benzin   \n",
       "\n",
       "        brand unrepaired_damage           ad_created  pic_num  postal_code  \\\n",
       "0     peugeot              nein  2016-03-26 00:00:00        0        79588   \n",
       "1         bmw              nein  2016-04-04 00:00:00        0        71034   \n",
       "2  volkswagen              nein  2016-03-26 00:00:00        0        35394   \n",
       "3       smart              nein  2016-03-12 00:00:00        0        33729   \n",
       "4        ford              nein  2016-04-01 00:00:00        0        39218   \n",
       "\n",
       "             last_seen  \n",
       "0  2016-04-06 06:45:54  \n",
       "1  2016-04-06 14:45:08  \n",
       "2  2016-04-06 20:15:37  \n",
       "3  2016-03-15 03:16:28  \n",
       "4  2016-04-01 14:38:50  "
      ]
     },
     "execution_count": 8,
     "metadata": {},
     "output_type": "execute_result"
    }
   ],
   "source": [
    "autos.head()"
   ]
  },
  {
   "cell_type": "markdown",
   "id": "f9cd183f",
   "metadata": {},
   "source": [
    "### 2.3 - Convert text column to numeric type"
   ]
  },
  {
   "cell_type": "markdown",
   "id": "1fcaf77b",
   "metadata": {},
   "source": [
    "#### 2.3.1- Column `price`"
   ]
  },
  {
   "cell_type": "markdown",
   "id": "a970d13b",
   "metadata": {},
   "source": [
    "As we detected before, we can conver `price` and `odemeter` to numeric type, just removing \"$\" and \"km\", respectively."
   ]
  },
  {
   "cell_type": "code",
   "execution_count": 9,
   "id": "4ba72269",
   "metadata": {
    "scrolled": false
   },
   "outputs": [
    {
     "name": "stderr",
     "output_type": "stream",
     "text": [
      "<ipython-input-9-48ac3c5553ea>:1: FutureWarning: The default value of regex will change from True to False in a future version. In addition, single character regular expressions will*not* be treated as literal strings when regex=True.\n",
      "  autos[\"price\"]=autos[\"price\"].str.replace(\"$\", \"\")\n"
     ]
    }
   ],
   "source": [
    "autos[\"price\"]=autos[\"price\"].str.replace(\"$\", \"\")\n",
    "autos[\"price\"]=autos[\"price\"].str.replace(\",\", \"\").astype(float)"
   ]
  },
  {
   "cell_type": "code",
   "execution_count": 10,
   "id": "d8d52a6e",
   "metadata": {},
   "outputs": [
    {
     "name": "stdout",
     "output_type": "stream",
     "text": [
      "float64\n"
     ]
    }
   ],
   "source": [
    "#print(autos[\"price\"])\n",
    "print(autos[\"price\"].dtype)"
   ]
  },
  {
   "cell_type": "code",
   "execution_count": 11,
   "id": "c7c3f120",
   "metadata": {},
   "outputs": [],
   "source": [
    "#autos[\"price\"]=\"{:,}\".format(autos[\"price\"])\n",
    "#print(autos[\"price\"])"
   ]
  },
  {
   "cell_type": "code",
   "execution_count": 12,
   "id": "348cd1de",
   "metadata": {},
   "outputs": [
    {
     "name": "stdout",
     "output_type": "stream",
     "text": [
      "0         5000.0\n",
      "1         8500.0\n",
      "2         8990.0\n",
      "3         4350.0\n",
      "4         1350.0\n",
      "          ...   \n",
      "49995    24900.0\n",
      "49996     1980.0\n",
      "49997    13200.0\n",
      "49998    22900.0\n",
      "49999     1250.0\n",
      "Name: price_dollar, Length: 50000, dtype: float64\n"
     ]
    }
   ],
   "source": [
    "autos.rename({\"price\":\"price_dollar\"}, axis=1, inplace=True)\n",
    "print(autos[\"price_dollar\"])"
   ]
  },
  {
   "cell_type": "code",
   "execution_count": 13,
   "id": "6c1cd400",
   "metadata": {},
   "outputs": [
    {
     "name": "stdout",
     "output_type": "stream",
     "text": [
      "count    5.000000e+04\n",
      "mean     9.840044e+03\n",
      "std      4.811044e+05\n",
      "min      0.000000e+00\n",
      "25%      1.100000e+03\n",
      "50%      2.950000e+03\n",
      "75%      7.200000e+03\n",
      "max      1.000000e+08\n",
      "Name: price_dollar, dtype: float64\n"
     ]
    }
   ],
   "source": [
    "print(autos['price_dollar'].describe())"
   ]
  },
  {
   "cell_type": "markdown",
   "id": "aa705aea",
   "metadata": {},
   "source": [
    "When we tried to inspect the price column with series.descibe() we found the result came in scientific notation. To solve this question we will use format the float numbers with comma on thousand position and with 3 decimal digits:"
   ]
  },
  {
   "cell_type": "code",
   "execution_count": 14,
   "id": "7e9649ea",
   "metadata": {},
   "outputs": [],
   "source": [
    "pd.options.display.float_format = '{:,.3f}'.format"
   ]
  },
  {
   "cell_type": "code",
   "execution_count": 15,
   "id": "dc20b2b4",
   "metadata": {},
   "outputs": [
    {
     "name": "stdout",
     "output_type": "stream",
     "text": [
      "count       50,000.000\n",
      "mean         9,840.044\n",
      "std        481,104.381\n",
      "min              0.000\n",
      "25%          1,100.000\n",
      "50%          2,950.000\n",
      "75%          7,200.000\n",
      "max     99,999,999.000\n",
      "Name: price_dollar, dtype: float64\n"
     ]
    }
   ],
   "source": [
    "#rechecking price column:\n",
    "print(autos['price_dollar'].describe())"
   ]
  },
  {
   "cell_type": "markdown",
   "id": "70581440",
   "metadata": {},
   "source": [
    "#### 2.3.2- Column `odometer`"
   ]
  },
  {
   "cell_type": "code",
   "execution_count": 16,
   "id": "c6e9d7ca",
   "metadata": {},
   "outputs": [
    {
     "name": "stdout",
     "output_type": "stream",
     "text": [
      "float64\n"
     ]
    }
   ],
   "source": [
    "autos[\"odometer\"]=autos[\"odometer\"].str.replace(\"km\", \"\")\n",
    "autos[\"odometer\"]=autos[\"odometer\"].str.replace(\",\", \"\").astype(float)\n",
    "#print(autos[\"odometer\"])\n",
    "print(autos[\"odometer\"].dtype)"
   ]
  },
  {
   "cell_type": "code",
   "execution_count": 17,
   "id": "b4b142fb",
   "metadata": {},
   "outputs": [
    {
     "name": "stdout",
     "output_type": "stream",
     "text": [
      "0       150,000.000\n",
      "1       150,000.000\n",
      "2        70,000.000\n",
      "3        70,000.000\n",
      "4       150,000.000\n",
      "            ...    \n",
      "49995   100,000.000\n",
      "49996   150,000.000\n",
      "49997     5,000.000\n",
      "49998    40,000.000\n",
      "49999   150,000.000\n",
      "Name: odometer_km, Length: 50000, dtype: float64\n"
     ]
    }
   ],
   "source": [
    "autos.rename({\"odometer\":\"odometer_km\"}, axis=1, inplace=True)\n",
    "print(autos[\"odometer_km\"])"
   ]
  },
  {
   "cell_type": "markdown",
   "id": "c9ff1cd2",
   "metadata": {},
   "source": [
    "### 2.4 - Converts date columns to datetime type"
   ]
  },
  {
   "cell_type": "code",
   "execution_count": 18,
   "id": "8fb1b35c",
   "metadata": {},
   "outputs": [],
   "source": [
    "import datetime"
   ]
  },
  {
   "cell_type": "code",
   "execution_count": 19,
   "id": "a2461eee",
   "metadata": {},
   "outputs": [
    {
     "data": {
      "text/html": [
       "<div>\n",
       "<style scoped>\n",
       "    .dataframe tbody tr th:only-of-type {\n",
       "        vertical-align: middle;\n",
       "    }\n",
       "\n",
       "    .dataframe tbody tr th {\n",
       "        vertical-align: top;\n",
       "    }\n",
       "\n",
       "    .dataframe thead th {\n",
       "        text-align: right;\n",
       "    }\n",
       "</style>\n",
       "<table border=\"1\" class=\"dataframe\">\n",
       "  <thead>\n",
       "    <tr style=\"text-align: right;\">\n",
       "      <th></th>\n",
       "      <th>date_crawled</th>\n",
       "      <th>ad_created</th>\n",
       "      <th>last_seen</th>\n",
       "      <th>registration_year</th>\n",
       "      <th>registration_month</th>\n",
       "    </tr>\n",
       "  </thead>\n",
       "  <tbody>\n",
       "    <tr>\n",
       "      <th>0</th>\n",
       "      <td>2016-03-26 17:47:46</td>\n",
       "      <td>2016-03-26 00:00:00</td>\n",
       "      <td>2016-04-06 06:45:54</td>\n",
       "      <td>2004</td>\n",
       "      <td>3</td>\n",
       "    </tr>\n",
       "    <tr>\n",
       "      <th>1</th>\n",
       "      <td>2016-04-04 13:38:56</td>\n",
       "      <td>2016-04-04 00:00:00</td>\n",
       "      <td>2016-04-06 14:45:08</td>\n",
       "      <td>1997</td>\n",
       "      <td>6</td>\n",
       "    </tr>\n",
       "    <tr>\n",
       "      <th>2</th>\n",
       "      <td>2016-03-26 18:57:24</td>\n",
       "      <td>2016-03-26 00:00:00</td>\n",
       "      <td>2016-04-06 20:15:37</td>\n",
       "      <td>2009</td>\n",
       "      <td>7</td>\n",
       "    </tr>\n",
       "    <tr>\n",
       "      <th>3</th>\n",
       "      <td>2016-03-12 16:58:10</td>\n",
       "      <td>2016-03-12 00:00:00</td>\n",
       "      <td>2016-03-15 03:16:28</td>\n",
       "      <td>2007</td>\n",
       "      <td>6</td>\n",
       "    </tr>\n",
       "    <tr>\n",
       "      <th>4</th>\n",
       "      <td>2016-04-01 14:38:50</td>\n",
       "      <td>2016-04-01 00:00:00</td>\n",
       "      <td>2016-04-01 14:38:50</td>\n",
       "      <td>2003</td>\n",
       "      <td>7</td>\n",
       "    </tr>\n",
       "  </tbody>\n",
       "</table>\n",
       "</div>"
      ],
      "text/plain": [
       "          date_crawled           ad_created            last_seen  \\\n",
       "0  2016-03-26 17:47:46  2016-03-26 00:00:00  2016-04-06 06:45:54   \n",
       "1  2016-04-04 13:38:56  2016-04-04 00:00:00  2016-04-06 14:45:08   \n",
       "2  2016-03-26 18:57:24  2016-03-26 00:00:00  2016-04-06 20:15:37   \n",
       "3  2016-03-12 16:58:10  2016-03-12 00:00:00  2016-03-15 03:16:28   \n",
       "4  2016-04-01 14:38:50  2016-04-01 00:00:00  2016-04-01 14:38:50   \n",
       "\n",
       "   registration_year  registration_month  \n",
       "0               2004                   3  \n",
       "1               1997                   6  \n",
       "2               2009                   7  \n",
       "3               2007                   6  \n",
       "4               2003                   7  "
      ]
     },
     "execution_count": 19,
     "metadata": {},
     "output_type": "execute_result"
    }
   ],
   "source": [
    "autos[['date_crawled','ad_created','last_seen','registration_year','registration_month']][0:5]"
   ]
  },
  {
   "cell_type": "code",
   "execution_count": 20,
   "id": "be49e893",
   "metadata": {
    "scrolled": false
   },
   "outputs": [],
   "source": [
    "#(autos['date_crawled'].str[:10]).value_counts(dropna=False).sort_index()\n",
    "autos['date_crawled']=pd.to_datetime(autos['date_crawled'], format='%Y-%m-%d %H:%M:%S')"
   ]
  },
  {
   "cell_type": "code",
   "execution_count": 21,
   "id": "640c30e6",
   "metadata": {},
   "outputs": [],
   "source": [
    "#(autos['ad_created'].str[:10]).value_counts(dropna=False).sort_index()\n",
    "autos['ad_created']=pd.to_datetime(autos['ad_created'], format='%Y-%m-%d %H:%M:%S')"
   ]
  },
  {
   "cell_type": "code",
   "execution_count": 22,
   "id": "49662425",
   "metadata": {},
   "outputs": [],
   "source": [
    "#(autos['last_seen'].str[:10]).value_counts(dropna=False).sort_index()\n",
    "autos['last_seen']=pd.to_datetime(autos['last_seen'], format='%Y-%m-%d %H:%M:%S')"
   ]
  },
  {
   "cell_type": "code",
   "execution_count": 23,
   "id": "9fd1e18e",
   "metadata": {},
   "outputs": [],
   "source": [
    "autos['registration_year']=pd.to_datetime(autos['registration_year'], format='%Y',errors='ignore')\n",
    "#we cannot converter to datetime format while we have wrong information on this column"
   ]
  },
  {
   "cell_type": "code",
   "execution_count": 24,
   "id": "ef758a41",
   "metadata": {},
   "outputs": [],
   "source": [
    "#as we have some rows without month information, we need to replace the zero by nan:\n",
    "#we can do it with the following:\n",
    "#autos.loc[autos['registration_month']==0, \"registration_month\"]=np.nan\n",
    "#or using error\"coerce\"\n",
    "\n",
    "autos['registration_month']=pd.to_datetime(autos['registration_month'], format='%m',errors='coerce').dt.month\n",
    "\n",
    "#we will not leave this column in datetime format because we want only see the month information, so it will be int84"
   ]
  },
  {
   "cell_type": "code",
   "execution_count": 25,
   "id": "59124ecb",
   "metadata": {
    "scrolled": false
   },
   "outputs": [
    {
     "name": "stdout",
     "output_type": "stream",
     "text": [
      "<class 'pandas.core.frame.DataFrame'>\n",
      "RangeIndex: 50000 entries, 0 to 49999\n",
      "Data columns (total 20 columns):\n",
      " #   Column              Non-Null Count  Dtype         \n",
      "---  ------              --------------  -----         \n",
      " 0   date_crawled        50000 non-null  datetime64[ns]\n",
      " 1   name                50000 non-null  object        \n",
      " 2   seller              50000 non-null  object        \n",
      " 3   offer_type          50000 non-null  object        \n",
      " 4   price_dollar        50000 non-null  float64       \n",
      " 5   abtest              50000 non-null  object        \n",
      " 6   vehicle_type        44905 non-null  object        \n",
      " 7   registration_year   50000 non-null  int64         \n",
      " 8   gearbox             47320 non-null  object        \n",
      " 9   powerPS             50000 non-null  int64         \n",
      " 10  model               47242 non-null  object        \n",
      " 11  odometer_km         50000 non-null  float64       \n",
      " 12  registration_month  44925 non-null  float64       \n",
      " 13  fuel_type           45518 non-null  object        \n",
      " 14  brand               50000 non-null  object        \n",
      " 15  unrepaired_damage   40171 non-null  object        \n",
      " 16  ad_created          50000 non-null  datetime64[ns]\n",
      " 17  pic_num             50000 non-null  int64         \n",
      " 18  postal_code         50000 non-null  int64         \n",
      " 19  last_seen           50000 non-null  datetime64[ns]\n",
      "dtypes: datetime64[ns](3), float64(3), int64(4), object(10)\n",
      "memory usage: 7.6+ MB\n"
     ]
    }
   ],
   "source": [
    "autos.info()"
   ]
  },
  {
   "cell_type": "markdown",
   "id": "1e87fe94",
   "metadata": {},
   "source": [
    "**Checking statistics of datetime type:**"
   ]
  },
  {
   "cell_type": "code",
   "execution_count": 26,
   "id": "25d6c218",
   "metadata": {
    "scrolled": false
   },
   "outputs": [
    {
     "data": {
      "text/html": [
       "<div>\n",
       "<style scoped>\n",
       "    .dataframe tbody tr th:only-of-type {\n",
       "        vertical-align: middle;\n",
       "    }\n",
       "\n",
       "    .dataframe tbody tr th {\n",
       "        vertical-align: top;\n",
       "    }\n",
       "\n",
       "    .dataframe thead th {\n",
       "        text-align: right;\n",
       "    }\n",
       "</style>\n",
       "<table border=\"1\" class=\"dataframe\">\n",
       "  <thead>\n",
       "    <tr style=\"text-align: right;\">\n",
       "      <th></th>\n",
       "      <th>date_crawled</th>\n",
       "      <th>ad_created</th>\n",
       "      <th>last_seen</th>\n",
       "    </tr>\n",
       "  </thead>\n",
       "  <tbody>\n",
       "    <tr>\n",
       "      <th>count</th>\n",
       "      <td>50000</td>\n",
       "      <td>50000</td>\n",
       "      <td>50000</td>\n",
       "    </tr>\n",
       "    <tr>\n",
       "      <th>mean</th>\n",
       "      <td>2016-03-21 13:43:25.697280</td>\n",
       "      <td>2016-03-20 19:41:34.656000</td>\n",
       "      <td>2016-03-30 04:04:36.309079808</td>\n",
       "    </tr>\n",
       "    <tr>\n",
       "      <th>min</th>\n",
       "      <td>2016-03-05 14:06:30</td>\n",
       "      <td>2015-06-11 00:00:00</td>\n",
       "      <td>2016-03-05 14:45:46</td>\n",
       "    </tr>\n",
       "    <tr>\n",
       "      <th>25%</th>\n",
       "      <td>2016-03-13 14:51:25.750000128</td>\n",
       "      <td>2016-03-13 00:00:00</td>\n",
       "      <td>2016-03-23 11:11:33.500000</td>\n",
       "    </tr>\n",
       "    <tr>\n",
       "      <th>50%</th>\n",
       "      <td>2016-03-21 17:53:56</td>\n",
       "      <td>2016-03-21 00:00:00</td>\n",
       "      <td>2016-04-04 01:17:24</td>\n",
       "    </tr>\n",
       "    <tr>\n",
       "      <th>75%</th>\n",
       "      <td>2016-03-29 14:36:47.750000128</td>\n",
       "      <td>2016-03-29 00:00:00</td>\n",
       "      <td>2016-04-06 10:45:28.249999872</td>\n",
       "    </tr>\n",
       "    <tr>\n",
       "      <th>max</th>\n",
       "      <td>2016-04-07 14:36:56</td>\n",
       "      <td>2016-04-07 00:00:00</td>\n",
       "      <td>2016-04-07 14:58:50</td>\n",
       "    </tr>\n",
       "  </tbody>\n",
       "</table>\n",
       "</div>"
      ],
      "text/plain": [
       "                        date_crawled                  ad_created  \\\n",
       "count                          50000                       50000   \n",
       "mean      2016-03-21 13:43:25.697280  2016-03-20 19:41:34.656000   \n",
       "min              2016-03-05 14:06:30         2015-06-11 00:00:00   \n",
       "25%    2016-03-13 14:51:25.750000128         2016-03-13 00:00:00   \n",
       "50%              2016-03-21 17:53:56         2016-03-21 00:00:00   \n",
       "75%    2016-03-29 14:36:47.750000128         2016-03-29 00:00:00   \n",
       "max              2016-04-07 14:36:56         2016-04-07 00:00:00   \n",
       "\n",
       "                           last_seen  \n",
       "count                          50000  \n",
       "mean   2016-03-30 04:04:36.309079808  \n",
       "min              2016-03-05 14:45:46  \n",
       "25%       2016-03-23 11:11:33.500000  \n",
       "50%              2016-04-04 01:17:24  \n",
       "75%    2016-04-06 10:45:28.249999872  \n",
       "max              2016-04-07 14:58:50  "
      ]
     },
     "execution_count": 26,
     "metadata": {},
     "output_type": "execute_result"
    }
   ],
   "source": [
    "autos.describe(include=\"datetime64\", datetime_is_numeric=True)"
   ]
  },
  {
   "cell_type": "markdown",
   "id": "cd1e6c7f",
   "metadata": {},
   "source": [
    "Checking above information, we don't see anything strange. So, we will not remove anything fromt these columns"
   ]
  },
  {
   "cell_type": "markdown",
   "id": "fce60523",
   "metadata": {},
   "source": [
    "### 2.5 - Checking statistics of numeric columns (exept datetime type)"
   ]
  },
  {
   "cell_type": "code",
   "execution_count": 27,
   "id": "20ef025b",
   "metadata": {},
   "outputs": [
    {
     "data": {
      "text/html": [
       "<div>\n",
       "<style scoped>\n",
       "    .dataframe tbody tr th:only-of-type {\n",
       "        vertical-align: middle;\n",
       "    }\n",
       "\n",
       "    .dataframe tbody tr th {\n",
       "        vertical-align: top;\n",
       "    }\n",
       "\n",
       "    .dataframe thead th {\n",
       "        text-align: right;\n",
       "    }\n",
       "</style>\n",
       "<table border=\"1\" class=\"dataframe\">\n",
       "  <thead>\n",
       "    <tr style=\"text-align: right;\">\n",
       "      <th></th>\n",
       "      <th>price_dollar</th>\n",
       "      <th>registration_year</th>\n",
       "      <th>powerPS</th>\n",
       "      <th>odometer_km</th>\n",
       "      <th>registration_month</th>\n",
       "      <th>pic_num</th>\n",
       "      <th>postal_code</th>\n",
       "    </tr>\n",
       "  </thead>\n",
       "  <tbody>\n",
       "    <tr>\n",
       "      <th>count</th>\n",
       "      <td>50,000.000</td>\n",
       "      <td>50,000.000</td>\n",
       "      <td>50,000.000</td>\n",
       "      <td>50,000.000</td>\n",
       "      <td>44,925.000</td>\n",
       "      <td>50,000.000</td>\n",
       "      <td>50,000.000</td>\n",
       "    </tr>\n",
       "    <tr>\n",
       "      <th>mean</th>\n",
       "      <td>9,840.044</td>\n",
       "      <td>2,005.073</td>\n",
       "      <td>116.356</td>\n",
       "      <td>125,732.700</td>\n",
       "      <td>6.370</td>\n",
       "      <td>0.000</td>\n",
       "      <td>50,813.627</td>\n",
       "    </tr>\n",
       "    <tr>\n",
       "      <th>std</th>\n",
       "      <td>481,104.381</td>\n",
       "      <td>105.713</td>\n",
       "      <td>209.217</td>\n",
       "      <td>40,042.212</td>\n",
       "      <td>3.349</td>\n",
       "      <td>0.000</td>\n",
       "      <td>25,779.748</td>\n",
       "    </tr>\n",
       "    <tr>\n",
       "      <th>min</th>\n",
       "      <td>0.000</td>\n",
       "      <td>1,000.000</td>\n",
       "      <td>0.000</td>\n",
       "      <td>5,000.000</td>\n",
       "      <td>1.000</td>\n",
       "      <td>0.000</td>\n",
       "      <td>1,067.000</td>\n",
       "    </tr>\n",
       "    <tr>\n",
       "      <th>25%</th>\n",
       "      <td>1,100.000</td>\n",
       "      <td>1,999.000</td>\n",
       "      <td>70.000</td>\n",
       "      <td>125,000.000</td>\n",
       "      <td>3.000</td>\n",
       "      <td>0.000</td>\n",
       "      <td>30,451.000</td>\n",
       "    </tr>\n",
       "    <tr>\n",
       "      <th>50%</th>\n",
       "      <td>2,950.000</td>\n",
       "      <td>2,003.000</td>\n",
       "      <td>105.000</td>\n",
       "      <td>150,000.000</td>\n",
       "      <td>6.000</td>\n",
       "      <td>0.000</td>\n",
       "      <td>49,577.000</td>\n",
       "    </tr>\n",
       "    <tr>\n",
       "      <th>75%</th>\n",
       "      <td>7,200.000</td>\n",
       "      <td>2,008.000</td>\n",
       "      <td>150.000</td>\n",
       "      <td>150,000.000</td>\n",
       "      <td>9.000</td>\n",
       "      <td>0.000</td>\n",
       "      <td>71,540.000</td>\n",
       "    </tr>\n",
       "    <tr>\n",
       "      <th>max</th>\n",
       "      <td>99,999,999.000</td>\n",
       "      <td>9,999.000</td>\n",
       "      <td>17,700.000</td>\n",
       "      <td>150,000.000</td>\n",
       "      <td>12.000</td>\n",
       "      <td>0.000</td>\n",
       "      <td>99,998.000</td>\n",
       "    </tr>\n",
       "  </tbody>\n",
       "</table>\n",
       "</div>"
      ],
      "text/plain": [
       "        price_dollar  registration_year    powerPS  odometer_km  \\\n",
       "count     50,000.000         50,000.000 50,000.000   50,000.000   \n",
       "mean       9,840.044          2,005.073    116.356  125,732.700   \n",
       "std      481,104.381            105.713    209.217   40,042.212   \n",
       "min            0.000          1,000.000      0.000    5,000.000   \n",
       "25%        1,100.000          1,999.000     70.000  125,000.000   \n",
       "50%        2,950.000          2,003.000    105.000  150,000.000   \n",
       "75%        7,200.000          2,008.000    150.000  150,000.000   \n",
       "max   99,999,999.000          9,999.000 17,700.000  150,000.000   \n",
       "\n",
       "       registration_month    pic_num  postal_code  \n",
       "count          44,925.000 50,000.000   50,000.000  \n",
       "mean                6.370      0.000   50,813.627  \n",
       "std                 3.349      0.000   25,779.748  \n",
       "min                 1.000      0.000    1,067.000  \n",
       "25%                 3.000      0.000   30,451.000  \n",
       "50%                 6.000      0.000   49,577.000  \n",
       "75%                 9.000      0.000   71,540.000  \n",
       "max                12.000      0.000   99,998.000  "
      ]
     },
     "execution_count": 27,
     "metadata": {},
     "output_type": "execute_result"
    }
   ],
   "source": [
    "autos.describe()"
   ]
  },
  {
   "cell_type": "markdown",
   "id": "51941d8d",
   "metadata": {},
   "source": [
    "Using the function `dataframe.describe` we can see some relevant information, which we will need to solve.\n",
    "1. Checking the results of `price_dollar`, we can see that the minimum price is 0 (zero), which should be a mistake.\n",
    "1. Checking the results of `registration_year`, we can see that the minimum year is 1000 and maximum ist 9999, which are obviously incorrect.\n",
    "1. Checking the results of `registration_month`, we can see that the minimum month is 0 (zero), which is not correct.\n",
    "1. Checking the results of `postal_code` information, we can see that the  minimum postal code has only 4 digits, and other statistics has 5 digits, which could mean some mistake."
   ]
  },
  {
   "cell_type": "markdown",
   "id": "0dd5869a",
   "metadata": {},
   "source": [
    "#### 2.5.1 - Checking price column details"
   ]
  },
  {
   "cell_type": "code",
   "execution_count": 28,
   "id": "292c1d42",
   "metadata": {
    "scrolled": true
   },
   "outputs": [
    {
     "data": {
      "text/plain": [
       "0.000             1421\n",
       "1.000              156\n",
       "2.000                3\n",
       "3.000                1\n",
       "5.000                2\n",
       "                  ... \n",
       "10,000,000.000       1\n",
       "11,111,111.000       2\n",
       "12,345,678.000       3\n",
       "27,322,222.000       1\n",
       "99,999,999.000       1\n",
       "Name: price_dollar, Length: 2357, dtype: int64"
      ]
     },
     "execution_count": 28,
     "metadata": {},
     "output_type": "execute_result"
    }
   ],
   "source": [
    "autos[\"price_dollar\"].value_counts().sort_index()"
   ]
  },
  {
   "cell_type": "code",
   "execution_count": 29,
   "id": "2d95a042",
   "metadata": {
    "scrolled": true
   },
   "outputs": [
    {
     "data": {
      "text/plain": [
       "0.000     1421\n",
       "1.000      156\n",
       "2.000        3\n",
       "3.000        1\n",
       "5.000        2\n",
       "8.000        1\n",
       "9.000        1\n",
       "10.000       7\n",
       "11.000       2\n",
       "12.000       3\n",
       "13.000       2\n",
       "14.000       1\n",
       "15.000       2\n",
       "17.000       3\n",
       "18.000       1\n",
       "20.000       4\n",
       "25.000       5\n",
       "29.000       1\n",
       "30.000       7\n",
       "35.000       1\n",
       "40.000       6\n",
       "45.000       4\n",
       "47.000       1\n",
       "49.000       4\n",
       "50.000      49\n",
       "Name: price_dollar, dtype: int64"
      ]
     },
     "execution_count": 29,
     "metadata": {},
     "output_type": "execute_result"
    }
   ],
   "source": [
    "autos[\"price_dollar\"].value_counts().sort_index().head(25)"
   ]
  },
  {
   "cell_type": "code",
   "execution_count": 30,
   "id": "8c5a9003",
   "metadata": {
    "scrolled": true
   },
   "outputs": [
    {
     "data": {
      "text/plain": [
       "99,999,999.000    1\n",
       "27,322,222.000    1\n",
       "12,345,678.000    3\n",
       "11,111,111.000    2\n",
       "10,000,000.000    1\n",
       "3,890,000.000     1\n",
       "1,300,000.000     1\n",
       "1,234,566.000     1\n",
       "999,999.000       2\n",
       "999,990.000       1\n",
       "350,000.000       1\n",
       "345,000.000       1\n",
       "Name: price_dollar, dtype: int64"
      ]
     },
     "execution_count": 30,
     "metadata": {},
     "output_type": "execute_result"
    }
   ],
   "source": [
    "autos[\"price_dollar\"].value_counts().sort_index(ascending=False).head(12)"
   ]
  },
  {
   "cell_type": "code",
   "execution_count": 31,
   "id": "e09fb1a9",
   "metadata": {},
   "outputs": [
    {
     "data": {
      "text/html": [
       "<div>\n",
       "<style scoped>\n",
       "    .dataframe tbody tr th:only-of-type {\n",
       "        vertical-align: middle;\n",
       "    }\n",
       "\n",
       "    .dataframe tbody tr th {\n",
       "        vertical-align: top;\n",
       "    }\n",
       "\n",
       "    .dataframe thead th {\n",
       "        text-align: right;\n",
       "    }\n",
       "</style>\n",
       "<table border=\"1\" class=\"dataframe\">\n",
       "  <thead>\n",
       "    <tr style=\"text-align: right;\">\n",
       "      <th></th>\n",
       "      <th>price_dollar</th>\n",
       "      <th>registration_year</th>\n",
       "    </tr>\n",
       "  </thead>\n",
       "  <tbody>\n",
       "    <tr>\n",
       "      <th>25</th>\n",
       "      <td>90.000</td>\n",
       "      <td>1996</td>\n",
       "    </tr>\n",
       "    <tr>\n",
       "      <th>27</th>\n",
       "      <td>0.000</td>\n",
       "      <td>2005</td>\n",
       "    </tr>\n",
       "    <tr>\n",
       "      <th>30</th>\n",
       "      <td>80.000</td>\n",
       "      <td>2002</td>\n",
       "    </tr>\n",
       "    <tr>\n",
       "      <th>55</th>\n",
       "      <td>1.000</td>\n",
       "      <td>2017</td>\n",
       "    </tr>\n",
       "    <tr>\n",
       "      <th>64</th>\n",
       "      <td>40.000</td>\n",
       "      <td>2011</td>\n",
       "    </tr>\n",
       "    <tr>\n",
       "      <th>...</th>\n",
       "      <td>...</td>\n",
       "      <td>...</td>\n",
       "    </tr>\n",
       "    <tr>\n",
       "      <th>49884</th>\n",
       "      <td>0.000</td>\n",
       "      <td>1999</td>\n",
       "    </tr>\n",
       "    <tr>\n",
       "      <th>49943</th>\n",
       "      <td>0.000</td>\n",
       "      <td>2016</td>\n",
       "    </tr>\n",
       "    <tr>\n",
       "      <th>49960</th>\n",
       "      <td>0.000</td>\n",
       "      <td>1999</td>\n",
       "    </tr>\n",
       "    <tr>\n",
       "      <th>49974</th>\n",
       "      <td>0.000</td>\n",
       "      <td>1983</td>\n",
       "    </tr>\n",
       "    <tr>\n",
       "      <th>49984</th>\n",
       "      <td>0.000</td>\n",
       "      <td>2000</td>\n",
       "    </tr>\n",
       "  </tbody>\n",
       "</table>\n",
       "<p>1762 rows × 2 columns</p>\n",
       "</div>"
      ],
      "text/plain": [
       "       price_dollar  registration_year\n",
       "25           90.000               1996\n",
       "27            0.000               2005\n",
       "30           80.000               2002\n",
       "55            1.000               2017\n",
       "64           40.000               2011\n",
       "...             ...                ...\n",
       "49884         0.000               1999\n",
       "49943         0.000               2016\n",
       "49960         0.000               1999\n",
       "49974         0.000               1983\n",
       "49984         0.000               2000\n",
       "\n",
       "[1762 rows x 2 columns]"
      ]
     },
     "execution_count": 31,
     "metadata": {},
     "output_type": "execute_result"
    }
   ],
   "source": [
    "autos.loc[autos[\"price_dollar\"]<100,(\"price_dollar\",\"registration_year\")]"
   ]
  },
  {
   "cell_type": "markdown",
   "id": "3ad3b284",
   "metadata": {},
   "source": [
    "**--> We have 1421 rows without price information, some rows with very low price like 1usd, 2usd, 5usd.**\n",
    "**otherwise we have columns with very high price like 99,999,999usd which should not make sense.**\n",
    "**We must remove at least the values lower than 50 and higher or equal than 999990**\n",
    "\n",
    "We tried to understand if prices equals to zero have some correlation with registration_year (if cars are too old, but we didn't find any correlation.\n",
    "\n",
    "To take a decision which values we will remove we will try to check price distribution for intervals.\n",
    "\n",
    "We we will create following price ranges:\n",
    "* prices equals to zero (because we already identify a big number of results here)\n",
    "* until 50 dollars\n",
    "* between 100 to 1000 dollars\n",
    "* between 1000 to 10000\n",
    "* between 10000 to 350000 dollars\n",
    "* more than 350000 dollars\n",
    "\n",
    "Let's see how this categories behave.\n"
   ]
  },
  {
   "cell_type": "code",
   "execution_count": 32,
   "id": "eaddeac2",
   "metadata": {},
   "outputs": [
    {
     "name": "stdout",
     "output_type": "stream",
     "text": [
      "{'p_0': 1421, 'p_until_50': 267, 'p_100_1000': 10103, 'p_1000_10000': 29928, 'p10000_350000': 8059, 'p_more_350000': 222}\n"
     ]
    }
   ],
   "source": [
    "# Creating the empty dictionary\n",
    "price_dist = {'p_0':0,'p_until_50':0,'p_100_1000':0, 'p_1000_10000':0, 'p10000_350000':0,\n",
    "              'p_more_350000':0}\n",
    "\n",
    "# Populating it\n",
    "for row in autos['price_dollar']:\n",
    "    if row==0:\n",
    "        price_dist['p_0'] += 1\n",
    "    elif row <= 50:\n",
    "        price_dist['p_until_50'] += 1\n",
    "    elif 100 < row <= 1000:\n",
    "        price_dist['p_100_1000'] += 1\n",
    "    elif 1000 < row <= 10000:\n",
    "        price_dist['p_1000_10000'] += 1\n",
    "    elif 10000 < row <= 350000:\n",
    "        price_dist['p10000_350000'] += 1\n",
    "    else:\n",
    "        price_dist['p_more_350000'] += 1\n",
    "print(price_dist)"
   ]
  },
  {
   "cell_type": "markdown",
   "id": "bb0a9e58",
   "metadata": {},
   "source": [
    "**--> Based on this results we will remove pricpointes lower than 50 and higher than 350k dollars.** <span style='background :yellow'>(check point 4)</span>"
   ]
  },
  {
   "cell_type": "code",
   "execution_count": 33,
   "id": "24f2be24",
   "metadata": {},
   "outputs": [
    {
     "name": "stdout",
     "output_type": "stream",
     "text": [
      "percentage of price lower than 50 is :3.38%\n",
      "percentage of price higher than 350000 is :0.44%\n"
     ]
    }
   ],
   "source": [
    "print(\"percentage of price lower than 50 is :{:.2f}%\".format(((price_dist[\"p_0\"]+price_dist[\"p_until_50\"])/50000)*100))\n",
    "print(\"percentage of price higher than 350000 is :{:.2f}%\".format(((price_dist[\"p_more_350000\"])/50000)*100))"
   ]
  },
  {
   "cell_type": "markdown",
   "id": "b6f88cef",
   "metadata": {},
   "source": [
    "#### 2.5.2 - Checking` registration_year` column details"
   ]
  },
  {
   "cell_type": "code",
   "execution_count": 34,
   "id": "1df7ce11",
   "metadata": {
    "scrolled": true
   },
   "outputs": [
    {
     "data": {
      "text/plain": [
       "1000    1\n",
       "1001    1\n",
       "1111    1\n",
       "1500    1\n",
       "1800    2\n",
       "1910    9\n",
       "1927    1\n",
       "1929    1\n",
       "1931    1\n",
       "1934    2\n",
       "Name: registration_year, dtype: int64"
      ]
     },
     "execution_count": 34,
     "metadata": {},
     "output_type": "execute_result"
    }
   ],
   "source": [
    "autos[\"registration_year\"].value_counts(dropna=False).sort_index().head(10)"
   ]
  },
  {
   "cell_type": "markdown",
   "id": "996dd9ac",
   "metadata": {},
   "source": [
    "**-->We must remove year lower than 1910**"
   ]
  },
  {
   "cell_type": "code",
   "execution_count": 35,
   "id": "045828e9",
   "metadata": {
    "scrolled": true
   },
   "outputs": [
    {
     "data": {
      "text/plain": [
       "9999       4\n",
       "9996       1\n",
       "9000       2\n",
       "8888       1\n",
       "6200       1\n",
       "5911       1\n",
       "5000       4\n",
       "4800       1\n",
       "4500       1\n",
       "4100       1\n",
       "2800       1\n",
       "2019       3\n",
       "2018     492\n",
       "2017    1453\n",
       "2016    1316\n",
       "2015     399\n",
       "2014     666\n",
       "2013     806\n",
       "2012    1323\n",
       "2011    1634\n",
       "Name: registration_year, dtype: int64"
      ]
     },
     "execution_count": 35,
     "metadata": {},
     "output_type": "execute_result"
    }
   ],
   "source": [
    "autos[\"registration_year\"].value_counts(dropna=False).sort_index(ascending=False).head(20)"
   ]
  },
  {
   "cell_type": "markdown",
   "id": "52c75fc3",
   "metadata": {},
   "source": [
    "**-->We must remove year higher than 2016 (date of this dataset)**\n"
   ]
  },
  {
   "cell_type": "markdown",
   "id": "37da5858",
   "metadata": {},
   "source": [
    "#### 2.5.3 - Checking` registration_month` column details"
   ]
  },
  {
   "cell_type": "code",
   "execution_count": 36,
   "id": "97da7530",
   "metadata": {
    "scrolled": false
   },
   "outputs": [
    {
     "data": {
      "text/plain": [
       "NaN       5075\n",
       "3.000     5071\n",
       "6.000     4368\n",
       "5.000     4107\n",
       "4.000     4102\n",
       "7.000     3949\n",
       "10.000    3651\n",
       "12.000    3447\n",
       "9.000     3389\n",
       "11.000    3360\n",
       "1.000     3282\n",
       "8.000     3191\n",
       "2.000     3008\n",
       "Name: registration_month, dtype: int64"
      ]
     },
     "execution_count": 36,
     "metadata": {},
     "output_type": "execute_result"
    }
   ],
   "source": [
    "#autos[\"registration_month\"].dt.month.value_counts()\n",
    "autos[\"registration_month\"].value_counts(dropna=False)"
   ]
  },
  {
   "cell_type": "markdown",
   "id": "cfe02d78",
   "metadata": {},
   "source": [
    "**--> We have 5075 rows, without month infortmation!** However it represents 10% of values. We should not just remove it... Let us proceed to try to understand if this will have impact on our study."
   ]
  },
  {
   "cell_type": "markdown",
   "id": "2e6ab5e9",
   "metadata": {},
   "source": [
    "#### 2.5.4 - Checking` postal_code` column details"
   ]
  },
  {
   "cell_type": "code",
   "execution_count": 37,
   "id": "e18e4953",
   "metadata": {
    "scrolled": true
   },
   "outputs": [
    {
     "data": {
      "text/plain": [
       "1067    11\n",
       "1069     7\n",
       "1097     4\n",
       "1099    10\n",
       "1108     2\n",
       "1109     9\n",
       "1127     3\n",
       "1129     8\n",
       "1139    15\n",
       "1156     4\n",
       "Name: postal_code, dtype: int64"
      ]
     },
     "execution_count": 37,
     "metadata": {},
     "output_type": "execute_result"
    }
   ],
   "source": [
    "autos[\"postal_code\"].value_counts().sort_index().head(10)"
   ]
  },
  {
   "cell_type": "markdown",
   "id": "35f7e408",
   "metadata": {},
   "source": [
    "--> We can conclude that it is usual to have zip code only with 4 digits, so it should not represent one problem. We will not remove anything here"
   ]
  },
  {
   "cell_type": "markdown",
   "id": "494a772d",
   "metadata": {},
   "source": [
    "#### 2.5.5 - Checking` odometer_km` column details"
   ]
  },
  {
   "cell_type": "code",
   "execution_count": 38,
   "id": "1c38ac18",
   "metadata": {},
   "outputs": [
    {
     "data": {
      "text/plain": [
       "5,000.000        967\n",
       "10,000.000       264\n",
       "20,000.000       784\n",
       "30,000.000       789\n",
       "40,000.000       819\n",
       "50,000.000      1027\n",
       "60,000.000      1164\n",
       "70,000.000      1230\n",
       "80,000.000      1436\n",
       "90,000.000      1757\n",
       "100,000.000     2169\n",
       "125,000.000     5170\n",
       "150,000.000    32424\n",
       "Name: odometer_km, dtype: int64"
      ]
     },
     "execution_count": 38,
     "metadata": {},
     "output_type": "execute_result"
    }
   ],
   "source": [
    "autos[\"odometer_km\"].value_counts().sort_index()"
   ]
  },
  {
   "cell_type": "markdown",
   "id": "faf67a14",
   "metadata": {},
   "source": [
    "--> Following what we can see, there is nothing strange. so we will not remove anything here."
   ]
  },
  {
   "cell_type": "markdown",
   "id": "094505f6",
   "metadata": {},
   "source": [
    "### 2.6 - Checking statistics of non-numeric columns"
   ]
  },
  {
   "cell_type": "code",
   "execution_count": 39,
   "id": "4136a904",
   "metadata": {},
   "outputs": [
    {
     "data": {
      "text/html": [
       "<div>\n",
       "<style scoped>\n",
       "    .dataframe tbody tr th:only-of-type {\n",
       "        vertical-align: middle;\n",
       "    }\n",
       "\n",
       "    .dataframe tbody tr th {\n",
       "        vertical-align: top;\n",
       "    }\n",
       "\n",
       "    .dataframe thead th {\n",
       "        text-align: right;\n",
       "    }\n",
       "</style>\n",
       "<table border=\"1\" class=\"dataframe\">\n",
       "  <thead>\n",
       "    <tr style=\"text-align: right;\">\n",
       "      <th></th>\n",
       "      <th>name</th>\n",
       "      <th>seller</th>\n",
       "      <th>offer_type</th>\n",
       "      <th>abtest</th>\n",
       "      <th>vehicle_type</th>\n",
       "      <th>gearbox</th>\n",
       "      <th>model</th>\n",
       "      <th>fuel_type</th>\n",
       "      <th>brand</th>\n",
       "      <th>unrepaired_damage</th>\n",
       "    </tr>\n",
       "  </thead>\n",
       "  <tbody>\n",
       "    <tr>\n",
       "      <th>count</th>\n",
       "      <td>50000</td>\n",
       "      <td>50000</td>\n",
       "      <td>50000</td>\n",
       "      <td>50000</td>\n",
       "      <td>44905</td>\n",
       "      <td>47320</td>\n",
       "      <td>47242</td>\n",
       "      <td>45518</td>\n",
       "      <td>50000</td>\n",
       "      <td>40171</td>\n",
       "    </tr>\n",
       "    <tr>\n",
       "      <th>unique</th>\n",
       "      <td>38754</td>\n",
       "      <td>2</td>\n",
       "      <td>2</td>\n",
       "      <td>2</td>\n",
       "      <td>8</td>\n",
       "      <td>2</td>\n",
       "      <td>245</td>\n",
       "      <td>7</td>\n",
       "      <td>40</td>\n",
       "      <td>2</td>\n",
       "    </tr>\n",
       "    <tr>\n",
       "      <th>top</th>\n",
       "      <td>Ford_Fiesta</td>\n",
       "      <td>privat</td>\n",
       "      <td>Angebot</td>\n",
       "      <td>test</td>\n",
       "      <td>limousine</td>\n",
       "      <td>manuell</td>\n",
       "      <td>golf</td>\n",
       "      <td>benzin</td>\n",
       "      <td>volkswagen</td>\n",
       "      <td>nein</td>\n",
       "    </tr>\n",
       "    <tr>\n",
       "      <th>freq</th>\n",
       "      <td>78</td>\n",
       "      <td>49999</td>\n",
       "      <td>49999</td>\n",
       "      <td>25756</td>\n",
       "      <td>12859</td>\n",
       "      <td>36993</td>\n",
       "      <td>4024</td>\n",
       "      <td>30107</td>\n",
       "      <td>10687</td>\n",
       "      <td>35232</td>\n",
       "    </tr>\n",
       "  </tbody>\n",
       "</table>\n",
       "</div>"
      ],
      "text/plain": [
       "               name  seller offer_type abtest vehicle_type  gearbox  model  \\\n",
       "count         50000   50000      50000  50000        44905    47320  47242   \n",
       "unique        38754       2          2      2            8        2    245   \n",
       "top     Ford_Fiesta  privat    Angebot   test    limousine  manuell   golf   \n",
       "freq             78   49999      49999  25756        12859    36993   4024   \n",
       "\n",
       "       fuel_type       brand unrepaired_damage  \n",
       "count      45518       50000             40171  \n",
       "unique         7          40                 2  \n",
       "top       benzin  volkswagen              nein  \n",
       "freq       30107       10687             35232  "
      ]
     },
     "execution_count": 39,
     "metadata": {},
     "output_type": "execute_result"
    }
   ],
   "source": [
    "#autos.describe(include=\"all\")\n",
    "autos.describe(include=\"object\")"
   ]
  },
  {
   "cell_type": "markdown",
   "id": "828b594b",
   "metadata": {},
   "source": [
    "Using the function `dataframe.describe` with `include=object`, we can see statistcs for non-numerical columns, and we can see some relevant information, which we will need to solve.\n",
    "1. Checking the results of `seller` and `offer_type`, we can see that almost all values in these columns has the same value (only one seller is not privat and only one offer is not Angebot type). \n",
    "\n",
    "2. Checking the results of `abtest`,`gearbox` and `unrepaired_damage` , we can see that the results are split between 2 values, which is correct, if there is not nulls in these columns:\n",
    "    - abtest: should be test or control;\n",
    "    - gearbox: should be manuell or automatic;\n",
    "    - unrepaired_damage: should be nein or ja.\n",
    "\n",
    "3. Checking the results of `vehicle_type` and `fuel_type`, we can see that we have 8 and 7 different types of each. We should inspect this uniques values and confirm if it is correct. \n"
   ]
  },
  {
   "cell_type": "markdown",
   "id": "8d4b3bbd",
   "metadata": {},
   "source": [
    "###### 2.6.1 - Checking `seller` and `offer tyoe` columns details"
   ]
  },
  {
   "cell_type": "code",
   "execution_count": 40,
   "id": "cd002d21",
   "metadata": {},
   "outputs": [
    {
     "name": "stdout",
     "output_type": "stream",
     "text": [
      "Angebot    49999\n",
      "Gesuch         1\n",
      "Name: offer_type, dtype: int64\n"
     ]
    }
   ],
   "source": [
    "print(autos[\"offer_type\"].value_counts(dropna=False))"
   ]
  },
  {
   "cell_type": "code",
   "execution_count": 41,
   "id": "2325dc7d",
   "metadata": {},
   "outputs": [
    {
     "name": "stdout",
     "output_type": "stream",
     "text": [
      "privat        49999\n",
      "gewerblich        1\n",
      "Name: seller, dtype: int64\n"
     ]
    }
   ],
   "source": [
    "print(autos[\"seller\"].value_counts(dropna=False))"
   ]
  },
  {
   "cell_type": "markdown",
   "id": "362ab7d8",
   "metadata": {},
   "source": [
    "#### 2.6.2 - Checking `abtest`,  `gearbox` and `offer tyoe` columns details"
   ]
  },
  {
   "cell_type": "code",
   "execution_count": 42,
   "id": "b22b1688",
   "metadata": {},
   "outputs": [
    {
     "name": "stdout",
     "output_type": "stream",
     "text": [
      "test       25756\n",
      "control    24244\n",
      "Name: abtest, dtype: int64\n"
     ]
    }
   ],
   "source": [
    "print(autos[\"abtest\"].value_counts(dropna=False))"
   ]
  },
  {
   "cell_type": "code",
   "execution_count": 43,
   "id": "c1ec441a",
   "metadata": {},
   "outputs": [
    {
     "name": "stdout",
     "output_type": "stream",
     "text": [
      "manuell      36993\n",
      "automatik    10327\n",
      "NaN           2680\n",
      "Name: gearbox, dtype: int64\n"
     ]
    }
   ],
   "source": [
    "print(autos[\"gearbox\"].value_counts(dropna=False))"
   ]
  },
  {
   "cell_type": "code",
   "execution_count": 44,
   "id": "fd6edeab",
   "metadata": {},
   "outputs": [
    {
     "name": "stdout",
     "output_type": "stream",
     "text": [
      "nein    35232\n",
      "NaN      9829\n",
      "ja       4939\n",
      "Name: unrepaired_damage, dtype: int64\n"
     ]
    }
   ],
   "source": [
    "print(autos[\"unrepaired_damage\"].value_counts(dropna=False))"
   ]
  },
  {
   "cell_type": "markdown",
   "id": "6b792ddf",
   "metadata": {},
   "source": [
    " **--> According to our results, we can see that:**\n",
    " \n",
    " * we have big qty of NaN values in `gearbox`and `unrepaired_damaged`, so we cannot remove it directly. Let us see if it has impact on our analyze. If don't have we will keep this NaN values here.\n"
   ]
  },
  {
   "cell_type": "code",
   "execution_count": 45,
   "id": "7106d139",
   "metadata": {},
   "outputs": [
    {
     "name": "stdout",
     "output_type": "stream",
     "text": [
      "limousine     12859\n",
      "kleinwagen    10822\n",
      "kombi          9127\n",
      "NaN            5095\n",
      "bus            4093\n",
      "cabrio         3061\n",
      "coupe          2537\n",
      "suv            1986\n",
      "andere          420\n",
      "Name: vehicle_type, dtype: int64\n"
     ]
    }
   ],
   "source": [
    "print(autos[\"vehicle_type\"].value_counts(dropna=False))"
   ]
  },
  {
   "cell_type": "code",
   "execution_count": 46,
   "id": "762ec592",
   "metadata": {},
   "outputs": [
    {
     "name": "stdout",
     "output_type": "stream",
     "text": [
      "benzin     30107\n",
      "diesel     14567\n",
      "NaN         4482\n",
      "lpg          691\n",
      "cng           75\n",
      "hybrid        37\n",
      "andere        22\n",
      "elektro       19\n",
      "Name: fuel_type, dtype: int64\n"
     ]
    }
   ],
   "source": [
    "print(autos[\"fuel_type\"].value_counts(dropna=False))"
   ]
  },
  {
   "cell_type": "markdown",
   "id": "ca01ef63",
   "metadata": {},
   "source": [
    "**--> According to our following inspection,except NaN values, other values are regarding real different types of vehicles or fuel.**"
   ]
  },
  {
   "cell_type": "markdown",
   "id": "d6eb62e6",
   "metadata": {},
   "source": [
    "### 2.7 - Translate text from german to english"
   ]
  },
  {
   "cell_type": "code",
   "execution_count": 47,
   "id": "8bd6f37b",
   "metadata": {},
   "outputs": [
    {
     "name": "stdout",
     "output_type": "stream",
     "text": [
      "manual       36993\n",
      "automatic    10327\n",
      "NaN           2680\n",
      "Name: gearbox, dtype: int64\n"
     ]
    }
   ],
   "source": [
    "dic_gearbox={\"manuell\":\"manual\", \"automatik\":\"automatic\"}\n",
    "autos[\"gearbox\"]=autos[\"gearbox\"].map(dic_gearbox)\n",
    "print(autos[\"gearbox\"].value_counts(dropna=False))"
   ]
  },
  {
   "cell_type": "code",
   "execution_count": 48,
   "id": "f029c968",
   "metadata": {
    "scrolled": true
   },
   "outputs": [
    {
     "name": "stdout",
     "output_type": "stream",
     "text": [
      "no     35232\n",
      "NaN     9829\n",
      "yes     4939\n",
      "Name: unrepaired_damage, dtype: int64\n"
     ]
    }
   ],
   "source": [
    "dic_unrepaired={\"nein\":\"no\", \"ja\":\"yes\"}\n",
    "autos[\"unrepaired_damage\"]=autos[\"unrepaired_damage\"].map(dic_unrepaired)\n",
    "print(autos[\"unrepaired_damage\"].value_counts(dropna=False))"
   ]
  },
  {
   "cell_type": "code",
   "execution_count": 49,
   "id": "12f92adb",
   "metadata": {},
   "outputs": [
    {
     "name": "stdout",
     "output_type": "stream",
     "text": [
      "sedan            12859\n",
      "small car        10822\n",
      "station wagon     9127\n",
      "NaN               5095\n",
      "bus               4093\n",
      "convertible       3061\n",
      "coupe             2537\n",
      "suv               1986\n",
      "other              420\n",
      "Name: vehicle_type, dtype: int64\n"
     ]
    }
   ],
   "source": [
    "dic_vehicle_type=({\n",
    "    \"limousine\":\"sedan\",\n",
    "    \"kleinwagen\":\"small car\",\n",
    "    \"kombi\":\"station wagon\",\n",
    "    \"NaN\":\"NaN\",\n",
    "    \"bus\":\"bus\",\n",
    "    \"cabrio\":\"convertible\",\n",
    "    \"coupe\":\"coupe\",\n",
    "    \"suv\":\"suv\",    \n",
    "    \"andere\":\"other\"})\n",
    "autos[\"vehicle_type\"]=autos[\"vehicle_type\"].map(dic_vehicle_type)\n",
    "print(autos[\"vehicle_type\"].value_counts(dropna=False))"
   ]
  },
  {
   "cell_type": "code",
   "execution_count": 50,
   "id": "c96489c1",
   "metadata": {},
   "outputs": [
    {
     "name": "stdout",
     "output_type": "stream",
     "text": [
      "petrol     30107\n",
      "diesel     14567\n",
      "NaN         4482\n",
      "lpg          691\n",
      "cng           75\n",
      "hybrid        37\n",
      "other         22\n",
      "electro       19\n",
      "Name: fuel_type, dtype: int64\n"
     ]
    }
   ],
   "source": [
    "dic_fuel_type=({\n",
    "    \"benzin\":\"petrol\",\n",
    "    \"diesel\":\"diesel\",\n",
    "    \"NaN\":\"NaN\",\n",
    "    \"lpg\":\"lpg\",\n",
    "    \"cng\":\"cng\",\n",
    "    \"hybrid\":\"hybrid\",\n",
    "    \"andere\":\"other\",\n",
    "    \"elektro\":\"electro\"})\n",
    "autos[\"fuel_type\"]=autos[\"fuel_type\"].map(dic_fuel_type)\n",
    "print(autos[\"fuel_type\"].value_counts(dropna=False))"
   ]
  },
  {
   "cell_type": "code",
   "execution_count": 51,
   "id": "ea773f25",
   "metadata": {},
   "outputs": [],
   "source": [
    "#autos[\"model\"]=autos[\"name\"].str.split(\"_\").str[1]\n",
    "#autos[\"model\"]"
   ]
  },
  {
   "cell_type": "markdown",
   "id": "e21e368f",
   "metadata": {},
   "source": [
    "## 3 - Dataset cleaning -  remove outliers values"
   ]
  },
  {
   "cell_type": "code",
   "execution_count": 52,
   "id": "eb4a290a",
   "metadata": {},
   "outputs": [
    {
     "name": "stdout",
     "output_type": "stream",
     "text": [
      "Dataset original shape:\n",
      "(50000, 20)\n"
     ]
    }
   ],
   "source": [
    "print(\"Dataset original shape:\")\n",
    "print(autos.shape)"
   ]
  },
  {
   "cell_type": "code",
   "execution_count": 53,
   "id": "349d2cf2",
   "metadata": {},
   "outputs": [
    {
     "name": "stdout",
     "output_type": "stream",
     "text": [
      "Shape after delete outliers of price:\n",
      "(48347, 20)\n"
     ]
    }
   ],
   "source": [
    "#from price_dollar-  as we conclude we will remove some rows\n",
    "#autos_select=autos[autos[\"price_dollar\"]==0].remove()\n",
    "autos=autos.loc[autos[\"price_dollar\"].between(50,350000)]\n",
    "print(\"Shape after delete outliers of price:\")\n",
    "print(autos.shape)"
   ]
  },
  {
   "cell_type": "code",
   "execution_count": 54,
   "id": "9d0a5ab0",
   "metadata": {},
   "outputs": [
    {
     "name": "stdout",
     "output_type": "stream",
     "text": [
      "Shape after delete outliers of registration_year:\n",
      "(46473, 20)\n"
     ]
    }
   ],
   "source": [
    "#from odometer_km - based on results that we got, we will not remove any rows\n",
    "#from registration_year - basde on our previous conclusions we will remove some rows:\n",
    "autos=autos.loc[autos[\"registration_year\"].between(1910,2016)]\n",
    "print(\"Shape after delete outliers of registration_year:\")\n",
    "print(autos.shape)\n"
   ]
  },
  {
   "cell_type": "code",
   "execution_count": 55,
   "id": "aa437447",
   "metadata": {},
   "outputs": [
    {
     "data": {
      "text/html": [
       "<div>\n",
       "<style scoped>\n",
       "    .dataframe tbody tr th:only-of-type {\n",
       "        vertical-align: middle;\n",
       "    }\n",
       "\n",
       "    .dataframe tbody tr th {\n",
       "        vertical-align: top;\n",
       "    }\n",
       "\n",
       "    .dataframe thead th {\n",
       "        text-align: right;\n",
       "    }\n",
       "</style>\n",
       "<table border=\"1\" class=\"dataframe\">\n",
       "  <thead>\n",
       "    <tr style=\"text-align: right;\">\n",
       "      <th></th>\n",
       "      <th>date_crawled</th>\n",
       "      <th>name</th>\n",
       "      <th>seller</th>\n",
       "      <th>offer_type</th>\n",
       "      <th>price_dollar</th>\n",
       "      <th>abtest</th>\n",
       "      <th>vehicle_type</th>\n",
       "      <th>registration_year</th>\n",
       "      <th>gearbox</th>\n",
       "      <th>powerPS</th>\n",
       "      <th>model</th>\n",
       "      <th>odometer_km</th>\n",
       "      <th>registration_month</th>\n",
       "      <th>fuel_type</th>\n",
       "      <th>brand</th>\n",
       "      <th>unrepaired_damage</th>\n",
       "      <th>ad_created</th>\n",
       "      <th>pic_num</th>\n",
       "      <th>postal_code</th>\n",
       "      <th>last_seen</th>\n",
       "    </tr>\n",
       "  </thead>\n",
       "  <tbody>\n",
       "    <tr>\n",
       "      <th>count</th>\n",
       "      <td>46473</td>\n",
       "      <td>46473</td>\n",
       "      <td>46473</td>\n",
       "      <td>46473</td>\n",
       "      <td>46,473.000</td>\n",
       "      <td>46473</td>\n",
       "      <td>43872</td>\n",
       "      <td>46,473.000</td>\n",
       "      <td>44453</td>\n",
       "      <td>46,473.000</td>\n",
       "      <td>44321</td>\n",
       "      <td>46,473.000</td>\n",
       "      <td>42,554.000</td>\n",
       "      <td>43252</td>\n",
       "      <td>46473</td>\n",
       "      <td>38311</td>\n",
       "      <td>46473</td>\n",
       "      <td>46,473.000</td>\n",
       "      <td>46,473.000</td>\n",
       "      <td>46473</td>\n",
       "    </tr>\n",
       "    <tr>\n",
       "      <th>unique</th>\n",
       "      <td>NaN</td>\n",
       "      <td>35613</td>\n",
       "      <td>2</td>\n",
       "      <td>1</td>\n",
       "      <td>NaN</td>\n",
       "      <td>2</td>\n",
       "      <td>8</td>\n",
       "      <td>NaN</td>\n",
       "      <td>2</td>\n",
       "      <td>NaN</td>\n",
       "      <td>244</td>\n",
       "      <td>NaN</td>\n",
       "      <td>NaN</td>\n",
       "      <td>7</td>\n",
       "      <td>40</td>\n",
       "      <td>2</td>\n",
       "      <td>NaN</td>\n",
       "      <td>NaN</td>\n",
       "      <td>NaN</td>\n",
       "      <td>NaN</td>\n",
       "    </tr>\n",
       "    <tr>\n",
       "      <th>top</th>\n",
       "      <td>NaN</td>\n",
       "      <td>BMW_316i</td>\n",
       "      <td>privat</td>\n",
       "      <td>Angebot</td>\n",
       "      <td>NaN</td>\n",
       "      <td>test</td>\n",
       "      <td>sedan</td>\n",
       "      <td>NaN</td>\n",
       "      <td>manual</td>\n",
       "      <td>NaN</td>\n",
       "      <td>golf</td>\n",
       "      <td>NaN</td>\n",
       "      <td>NaN</td>\n",
       "      <td>petrol</td>\n",
       "      <td>volkswagen</td>\n",
       "      <td>no</td>\n",
       "      <td>NaN</td>\n",
       "      <td>NaN</td>\n",
       "      <td>NaN</td>\n",
       "      <td>NaN</td>\n",
       "    </tr>\n",
       "    <tr>\n",
       "      <th>freq</th>\n",
       "      <td>NaN</td>\n",
       "      <td>75</td>\n",
       "      <td>46472</td>\n",
       "      <td>46473</td>\n",
       "      <td>NaN</td>\n",
       "      <td>23948</td>\n",
       "      <td>12567</td>\n",
       "      <td>NaN</td>\n",
       "      <td>34619</td>\n",
       "      <td>NaN</td>\n",
       "      <td>3695</td>\n",
       "      <td>NaN</td>\n",
       "      <td>NaN</td>\n",
       "      <td>28449</td>\n",
       "      <td>9821</td>\n",
       "      <td>33794</td>\n",
       "      <td>NaN</td>\n",
       "      <td>NaN</td>\n",
       "      <td>NaN</td>\n",
       "      <td>NaN</td>\n",
       "    </tr>\n",
       "    <tr>\n",
       "      <th>mean</th>\n",
       "      <td>2016-03-21 13:21:44.805177344</td>\n",
       "      <td>NaN</td>\n",
       "      <td>NaN</td>\n",
       "      <td>NaN</td>\n",
       "      <td>6,004.439</td>\n",
       "      <td>NaN</td>\n",
       "      <td>NaN</td>\n",
       "      <td>2,002.931</td>\n",
       "      <td>NaN</td>\n",
       "      <td>118.168</td>\n",
       "      <td>NaN</td>\n",
       "      <td>125,688.787</td>\n",
       "      <td>6.378</td>\n",
       "      <td>NaN</td>\n",
       "      <td>NaN</td>\n",
       "      <td>NaN</td>\n",
       "      <td>2016-03-20 19:19:03.141178880</td>\n",
       "      <td>0.000</td>\n",
       "      <td>51,118.913</td>\n",
       "      <td>2016-03-30 05:52:13.654874880</td>\n",
       "    </tr>\n",
       "    <tr>\n",
       "      <th>min</th>\n",
       "      <td>2016-03-05 14:06:30</td>\n",
       "      <td>NaN</td>\n",
       "      <td>NaN</td>\n",
       "      <td>NaN</td>\n",
       "      <td>50.000</td>\n",
       "      <td>NaN</td>\n",
       "      <td>NaN</td>\n",
       "      <td>1,910.000</td>\n",
       "      <td>NaN</td>\n",
       "      <td>0.000</td>\n",
       "      <td>NaN</td>\n",
       "      <td>5,000.000</td>\n",
       "      <td>1.000</td>\n",
       "      <td>NaN</td>\n",
       "      <td>NaN</td>\n",
       "      <td>NaN</td>\n",
       "      <td>2015-06-11 00:00:00</td>\n",
       "      <td>0.000</td>\n",
       "      <td>1,067.000</td>\n",
       "      <td>2016-03-05 14:45:46</td>\n",
       "    </tr>\n",
       "    <tr>\n",
       "      <th>25%</th>\n",
       "      <td>2016-03-13 13:52:31</td>\n",
       "      <td>NaN</td>\n",
       "      <td>NaN</td>\n",
       "      <td>NaN</td>\n",
       "      <td>1,250.000</td>\n",
       "      <td>NaN</td>\n",
       "      <td>NaN</td>\n",
       "      <td>1,999.000</td>\n",
       "      <td>NaN</td>\n",
       "      <td>75.000</td>\n",
       "      <td>NaN</td>\n",
       "      <td>100,000.000</td>\n",
       "      <td>3.000</td>\n",
       "      <td>NaN</td>\n",
       "      <td>NaN</td>\n",
       "      <td>NaN</td>\n",
       "      <td>2016-03-13 00:00:00</td>\n",
       "      <td>0.000</td>\n",
       "      <td>30,853.000</td>\n",
       "      <td>2016-03-23 13:48:53</td>\n",
       "    </tr>\n",
       "    <tr>\n",
       "      <th>50%</th>\n",
       "      <td>2016-03-21 17:46:58</td>\n",
       "      <td>NaN</td>\n",
       "      <td>NaN</td>\n",
       "      <td>NaN</td>\n",
       "      <td>3,149.000</td>\n",
       "      <td>NaN</td>\n",
       "      <td>NaN</td>\n",
       "      <td>2,003.000</td>\n",
       "      <td>NaN</td>\n",
       "      <td>109.000</td>\n",
       "      <td>NaN</td>\n",
       "      <td>150,000.000</td>\n",
       "      <td>6.000</td>\n",
       "      <td>NaN</td>\n",
       "      <td>NaN</td>\n",
       "      <td>NaN</td>\n",
       "      <td>2016-03-21 00:00:00</td>\n",
       "      <td>0.000</td>\n",
       "      <td>49,832.000</td>\n",
       "      <td>2016-04-04 07:47:19</td>\n",
       "    </tr>\n",
       "    <tr>\n",
       "      <th>75%</th>\n",
       "      <td>2016-03-29 14:46:30</td>\n",
       "      <td>NaN</td>\n",
       "      <td>NaN</td>\n",
       "      <td>NaN</td>\n",
       "      <td>7,500.000</td>\n",
       "      <td>NaN</td>\n",
       "      <td>NaN</td>\n",
       "      <td>2,008.000</td>\n",
       "      <td>NaN</td>\n",
       "      <td>150.000</td>\n",
       "      <td>NaN</td>\n",
       "      <td>150,000.000</td>\n",
       "      <td>9.000</td>\n",
       "      <td>NaN</td>\n",
       "      <td>NaN</td>\n",
       "      <td>NaN</td>\n",
       "      <td>2016-03-29 00:00:00</td>\n",
       "      <td>0.000</td>\n",
       "      <td>72,070.000</td>\n",
       "      <td>2016-04-06 11:15:36</td>\n",
       "    </tr>\n",
       "    <tr>\n",
       "      <th>max</th>\n",
       "      <td>2016-04-07 14:36:56</td>\n",
       "      <td>NaN</td>\n",
       "      <td>NaN</td>\n",
       "      <td>NaN</td>\n",
       "      <td>350,000.000</td>\n",
       "      <td>NaN</td>\n",
       "      <td>NaN</td>\n",
       "      <td>2,016.000</td>\n",
       "      <td>NaN</td>\n",
       "      <td>17,700.000</td>\n",
       "      <td>NaN</td>\n",
       "      <td>150,000.000</td>\n",
       "      <td>12.000</td>\n",
       "      <td>NaN</td>\n",
       "      <td>NaN</td>\n",
       "      <td>NaN</td>\n",
       "      <td>2016-04-07 00:00:00</td>\n",
       "      <td>0.000</td>\n",
       "      <td>99,998.000</td>\n",
       "      <td>2016-04-07 14:58:50</td>\n",
       "    </tr>\n",
       "    <tr>\n",
       "      <th>std</th>\n",
       "      <td>NaN</td>\n",
       "      <td>NaN</td>\n",
       "      <td>NaN</td>\n",
       "      <td>NaN</td>\n",
       "      <td>9,189.710</td>\n",
       "      <td>NaN</td>\n",
       "      <td>NaN</td>\n",
       "      <td>7.129</td>\n",
       "      <td>NaN</td>\n",
       "      <td>185.230</td>\n",
       "      <td>NaN</td>\n",
       "      <td>39,687.056</td>\n",
       "      <td>3.351</td>\n",
       "      <td>NaN</td>\n",
       "      <td>NaN</td>\n",
       "      <td>NaN</td>\n",
       "      <td>NaN</td>\n",
       "      <td>0.000</td>\n",
       "      <td>25,751.370</td>\n",
       "      <td>NaN</td>\n",
       "    </tr>\n",
       "  </tbody>\n",
       "</table>\n",
       "</div>"
      ],
      "text/plain": [
       "                         date_crawled      name  seller offer_type  \\\n",
       "count                           46473     46473   46473      46473   \n",
       "unique                            NaN     35613       2          1   \n",
       "top                               NaN  BMW_316i  privat    Angebot   \n",
       "freq                              NaN        75   46472      46473   \n",
       "mean    2016-03-21 13:21:44.805177344       NaN     NaN        NaN   \n",
       "min               2016-03-05 14:06:30       NaN     NaN        NaN   \n",
       "25%               2016-03-13 13:52:31       NaN     NaN        NaN   \n",
       "50%               2016-03-21 17:46:58       NaN     NaN        NaN   \n",
       "75%               2016-03-29 14:46:30       NaN     NaN        NaN   \n",
       "max               2016-04-07 14:36:56       NaN     NaN        NaN   \n",
       "std                               NaN       NaN     NaN        NaN   \n",
       "\n",
       "        price_dollar abtest vehicle_type  registration_year gearbox  \\\n",
       "count     46,473.000  46473        43872         46,473.000   44453   \n",
       "unique           NaN      2            8                NaN       2   \n",
       "top              NaN   test        sedan                NaN  manual   \n",
       "freq             NaN  23948        12567                NaN   34619   \n",
       "mean       6,004.439    NaN          NaN          2,002.931     NaN   \n",
       "min           50.000    NaN          NaN          1,910.000     NaN   \n",
       "25%        1,250.000    NaN          NaN          1,999.000     NaN   \n",
       "50%        3,149.000    NaN          NaN          2,003.000     NaN   \n",
       "75%        7,500.000    NaN          NaN          2,008.000     NaN   \n",
       "max      350,000.000    NaN          NaN          2,016.000     NaN   \n",
       "std        9,189.710    NaN          NaN              7.129     NaN   \n",
       "\n",
       "          powerPS  model  odometer_km  registration_month fuel_type  \\\n",
       "count  46,473.000  44321   46,473.000          42,554.000     43252   \n",
       "unique        NaN    244          NaN                 NaN         7   \n",
       "top           NaN   golf          NaN                 NaN    petrol   \n",
       "freq          NaN   3695          NaN                 NaN     28449   \n",
       "mean      118.168    NaN  125,688.787               6.378       NaN   \n",
       "min         0.000    NaN    5,000.000               1.000       NaN   \n",
       "25%        75.000    NaN  100,000.000               3.000       NaN   \n",
       "50%       109.000    NaN  150,000.000               6.000       NaN   \n",
       "75%       150.000    NaN  150,000.000               9.000       NaN   \n",
       "max    17,700.000    NaN  150,000.000              12.000       NaN   \n",
       "std       185.230    NaN   39,687.056               3.351       NaN   \n",
       "\n",
       "             brand unrepaired_damage                     ad_created  \\\n",
       "count        46473             38311                          46473   \n",
       "unique          40                 2                            NaN   \n",
       "top     volkswagen                no                            NaN   \n",
       "freq          9821             33794                            NaN   \n",
       "mean           NaN               NaN  2016-03-20 19:19:03.141178880   \n",
       "min            NaN               NaN            2015-06-11 00:00:00   \n",
       "25%            NaN               NaN            2016-03-13 00:00:00   \n",
       "50%            NaN               NaN            2016-03-21 00:00:00   \n",
       "75%            NaN               NaN            2016-03-29 00:00:00   \n",
       "max            NaN               NaN            2016-04-07 00:00:00   \n",
       "std            NaN               NaN                            NaN   \n",
       "\n",
       "          pic_num  postal_code                      last_seen  \n",
       "count  46,473.000   46,473.000                          46473  \n",
       "unique        NaN          NaN                            NaN  \n",
       "top           NaN          NaN                            NaN  \n",
       "freq          NaN          NaN                            NaN  \n",
       "mean        0.000   51,118.913  2016-03-30 05:52:13.654874880  \n",
       "min         0.000    1,067.000            2016-03-05 14:45:46  \n",
       "25%         0.000   30,853.000            2016-03-23 13:48:53  \n",
       "50%         0.000   49,832.000            2016-04-04 07:47:19  \n",
       "75%         0.000   72,070.000            2016-04-06 11:15:36  \n",
       "max         0.000   99,998.000            2016-04-07 14:58:50  \n",
       "std         0.000   25,751.370                            NaN  "
      ]
     },
     "execution_count": 55,
     "metadata": {},
     "output_type": "execute_result"
    }
   ],
   "source": [
    "#autos_select[\"price_dollar\"].value_counts(normalize=True).sort_index()\n",
    "autos.describe(include=\"all\", datetime_is_numeric=True)"
   ]
  },
  {
   "cell_type": "markdown",
   "id": "92c5d764",
   "metadata": {},
   "source": [
    "## 4 - Checking interesing facts"
   ]
  },
  {
   "cell_type": "markdown",
   "id": "6c3f33b1",
   "metadata": {},
   "source": [
    "### 4.1 - What are the most commons brands? "
   ]
  },
  {
   "cell_type": "markdown",
   "id": "bd2d3e00",
   "metadata": {},
   "source": [
    "First, we will aggregate the items by car brands"
   ]
  },
  {
   "cell_type": "code",
   "execution_count": 56,
   "id": "90293903",
   "metadata": {
    "scrolled": true
   },
   "outputs": [
    {
     "name": "stdout",
     "output_type": "stream",
     "text": [
      "What are the uniques brandes in our dataset: \n",
      " ['peugeot' 'bmw' 'volkswagen' 'smart' 'ford' 'chrysler' 'seat' 'renault'\n",
      " 'mercedes_benz' 'audi' 'sonstige_autos' 'opel' 'mazda' 'porsche' 'mini'\n",
      " 'toyota' 'dacia' 'nissan' 'jeep' 'saab' 'volvo' 'mitsubishi' 'jaguar'\n",
      " 'fiat' 'skoda' 'subaru' 'kia' 'citroen' 'chevrolet' 'hyundai' 'honda'\n",
      " 'daewoo' 'suzuki' 'trabant' 'land_rover' 'alfa_romeo' 'lada' 'rover'\n",
      " 'daihatsu' 'lancia'] \n",
      "\n",
      "How many brands do we have in our dataset? \n",
      " 40\n"
     ]
    }
   ],
   "source": [
    "# Checking the unique brand values\n",
    "print(\"What are the uniques brandes in our dataset: \\n\", autos[\"brand\"].unique(),\"\\n\")\n",
    "print(\"How many brands do we have in our dataset? \\n\", autos[\"brand\"].unique().shape[0])"
   ]
  },
  {
   "cell_type": "code",
   "execution_count": 57,
   "id": "24804d90",
   "metadata": {
    "scrolled": false
   },
   "outputs": [
    {
     "name": "stdout",
     "output_type": "stream",
     "text": [
      "TOP 15 of quantity of cars per brand:\n",
      "volkswagen       9821\n",
      "bmw              5110\n",
      "opel             4987\n",
      "mercedes_benz    4485\n",
      "audi             4025\n",
      "ford             3252\n",
      "renault          2193\n",
      "peugeot          1390\n",
      "fiat             1195\n",
      "seat              848\n",
      "skoda             763\n",
      "nissan            712\n",
      "mazda             709\n",
      "smart             659\n",
      "citroen           653\n",
      "Name: brand, dtype: int64\n",
      "\n",
      "\n",
      "TOP 15 percentage of cars per brand:\n",
      "volkswagen      21.133\n",
      "bmw             10.996\n",
      "opel            10.731\n",
      "mercedes_benz    9.651\n",
      "audi             8.661\n",
      "ford             6.998\n",
      "renault          4.719\n",
      "peugeot          2.991\n",
      "fiat             2.571\n",
      "seat             1.825\n",
      "skoda            1.642\n",
      "nissan           1.532\n",
      "mazda            1.526\n",
      "smart            1.418\n",
      "citroen          1.405\n",
      "Name: brand, dtype: float64\n"
     ]
    }
   ],
   "source": [
    "print(\"TOP 15 of quantity of cars per brand:\")\n",
    "print(autos[\"brand\"].value_counts().head(15))\n",
    "\n",
    "\n",
    "print(\"\\n\")\n",
    "print(\"TOP 15 percentage of cars per brand:\")\n",
    "print((((autos[\"brand\"].value_counts())/autos[\"brand\"].shape)*100).head(15))"
   ]
  },
  {
   "cell_type": "markdown",
   "id": "6d4735fe",
   "metadata": {},
   "source": [
    "<span style=\"background:yellow\"> Based on this values, we can easily conclude that the brands with more cars in this dataset are `volkswagen`,`bmw`and`opel`<\\span>"
   ]
  },
  {
   "cell_type": "markdown",
   "id": "1475c83c",
   "metadata": {},
   "source": [
    "### 4.2 - What are the relation between the most commons brands and its mean price? "
   ]
  },
  {
   "cell_type": "code",
   "execution_count": 58,
   "id": "27b6b245",
   "metadata": {},
   "outputs": [],
   "source": [
    "freq_perc=((autos[\"brand\"].value_counts()/autos[\"brand\"].shape)*100)"
   ]
  },
  {
   "cell_type": "code",
   "execution_count": 59,
   "id": "09d4e781",
   "metadata": {},
   "outputs": [
    {
     "name": "stdout",
     "output_type": "stream",
     "text": [
      "0.15708045531814172\n"
     ]
    }
   ],
   "source": [
    "print(freq_perc[\"jaguar\"])"
   ]
  },
  {
   "cell_type": "code",
   "execution_count": 60,
   "id": "b1d4f74b",
   "metadata": {},
   "outputs": [
    {
     "name": "stdout",
     "output_type": "stream",
     "text": [
      "{'peugeot': [3100.6928057553955, 2.9909840122221505], 'bmw': [8376.805088062622, 10.99563187226992], 'volkswagen': [5424.9185419000105, 21.132700707937943], 'smart': [3591.0212443095597, 1.4180276719815805], 'ford': [3762.1165436654364, 6.997611516364341], 'chrysler': [3465.743902439024, 0.35289307770103073], 'seat': [4423.116745283019, 1.824715426161427], 'renault': [2483.889192886457, 4.718869020721709], 'mercedes_benz': [8663.059308807135, 9.65076496029953], 'audi': [9373.771428571428, 8.66094291308932], 'sonstige_autos': [12642.134228187919, 0.9618488154412239], 'opel': [2996.0850210547424, 10.730962063994147], 'mazda': [4112.596614950635, 1.525617024939212], 'porsche': [46455.89323843416, 0.604652163621888], 'mini': [10639.450980392157, 0.8779291201342715], 'toyota': [5167.091062394604, 1.2760097260775074], 'dacia': [5915.528455284553, 0.264669808275773], 'nissan': [4750.063202247191, 1.5320723861166698], 'jeep': [11650.5, 0.22808942827017836], 'saab': [3211.6493506493507, 0.16568760355475223], 'volvo': [4993.208037825059, 0.9102059260215609], 'mitsubishi': [3430.25, 0.817679082477998], 'jaguar': [11635.493150684932, 0.15708045531814172], 'fiat': [2818.456066945607, 2.5713855356873885], 'skoda': [6393.018348623853, 1.6418135261334537], 'subaru': [4033.7551020408164, 0.21087513179695738], 'kia': [5982.330303030303, 0.7100897295203666], 'citroen': [3784.924961715161, 1.405116949626665], 'chevrolet': [6709.358490566037, 0.5702235706754459], 'hyundai': [5376.740899357602, 1.0048845566242766], 'honda': [4119.109589041096, 0.7854022765907086], 'daewoo': [1064.0579710144928, 0.14847330708153123], 'suzuki': [4111.572463768116, 0.5938932283261249], 'trabant': [1818.609375, 0.1377143717857681], 'land_rover': [19108.091836734693, 0.21087513179695738], 'alfa_romeo': [4100.915857605178, 0.6649022012781616], 'lada': [2688.296296296296, 0.05809825059712091], 'rover': [1602.2903225806451, 0.13341079766746283], 'daihatsu': [1636.1965811965813, 0.2517590859208573], 'lancia': [3444.877551020408, 0.10543756589847869]}\n"
     ]
    }
   ],
   "source": [
    "#creating empty dictionary to strore our aggregate data\n",
    "\n",
    "brand_avg_price={}\n",
    "\n",
    "\n",
    "#populating our dictionary with average price per brand (because we think it can be useful, we will also add the brand freq)\n",
    "for each in autos[\"brand\"].unique():\n",
    "    avg_price=autos.loc[autos[\"brand\"]==each, \"price_dollar\"].mean()\n",
    "    brand_avg_price[each]=[avg_price,freq_perc[each]]\n",
    "print(brand_avg_price)\n",
    "\n",
    "\n"
   ]
  },
  {
   "cell_type": "markdown",
   "id": "d1b3903b",
   "metadata": {},
   "source": [
    "However, it is not easy read the values print in a dictionary format. "
   ]
  },
  {
   "cell_type": "markdown",
   "id": "765c80e5",
   "metadata": {},
   "source": [
    "Let us see, how will be the dictionary if we use pretty print from json:"
   ]
  },
  {
   "cell_type": "code",
   "execution_count": 61,
   "id": "dfc24927",
   "metadata": {
    "scrolled": true
   },
   "outputs": [
    {
     "name": "stdout",
     "output_type": "stream",
     "text": [
      "{\n",
      "    \"peugeot\": [\n",
      "        3100.6928057553955,\n",
      "        2.9909840122221505\n",
      "    ],\n",
      "    \"bmw\": [\n",
      "        8376.805088062622,\n",
      "        10.99563187226992\n",
      "    ],\n",
      "    \"volkswagen\": [\n",
      "        5424.9185419000105,\n",
      "        21.132700707937943\n",
      "    ],\n",
      "    \"smart\": [\n",
      "        3591.0212443095597,\n",
      "        1.4180276719815805\n",
      "    ],\n",
      "    \"ford\": [\n",
      "        3762.1165436654364,\n",
      "        6.997611516364341\n",
      "    ],\n",
      "    \"chrysler\": [\n",
      "        3465.743902439024,\n",
      "        0.35289307770103073\n",
      "    ],\n",
      "    \"seat\": [\n",
      "        4423.116745283019,\n",
      "        1.824715426161427\n",
      "    ],\n",
      "    \"renault\": [\n",
      "        2483.889192886457,\n",
      "        4.718869020721709\n",
      "    ],\n",
      "    \"mercedes_benz\": [\n",
      "        8663.059308807135,\n",
      "        9.65076496029953\n",
      "    ],\n",
      "    \"audi\": [\n",
      "        9373.771428571428,\n",
      "        8.66094291308932\n",
      "    ],\n",
      "    \"sonstige_autos\": [\n",
      "        12642.134228187919,\n",
      "        0.9618488154412239\n",
      "    ],\n",
      "    \"opel\": [\n",
      "        2996.0850210547424,\n",
      "        10.730962063994147\n",
      "    ],\n",
      "    \"mazda\": [\n",
      "        4112.596614950635,\n",
      "        1.525617024939212\n",
      "    ],\n",
      "    \"porsche\": [\n",
      "        46455.89323843416,\n",
      "        0.604652163621888\n",
      "    ],\n",
      "    \"mini\": [\n",
      "        10639.450980392157,\n",
      "        0.8779291201342715\n",
      "    ],\n",
      "    \"toyota\": [\n",
      "        5167.091062394604,\n",
      "        1.2760097260775074\n",
      "    ],\n",
      "    \"dacia\": [\n",
      "        5915.528455284553,\n",
      "        0.264669808275773\n",
      "    ],\n",
      "    \"nissan\": [\n",
      "        4750.063202247191,\n",
      "        1.5320723861166698\n",
      "    ],\n",
      "    \"jeep\": [\n",
      "        11650.5,\n",
      "        0.22808942827017836\n",
      "    ],\n",
      "    \"saab\": [\n",
      "        3211.6493506493507,\n",
      "        0.16568760355475223\n",
      "    ],\n",
      "    \"volvo\": [\n",
      "        4993.208037825059,\n",
      "        0.9102059260215609\n",
      "    ],\n",
      "    \"mitsubishi\": [\n",
      "        3430.25,\n",
      "        0.817679082477998\n",
      "    ],\n",
      "    \"jaguar\": [\n",
      "        11635.493150684932,\n",
      "        0.15708045531814172\n",
      "    ],\n",
      "    \"fiat\": [\n",
      "        2818.456066945607,\n",
      "        2.5713855356873885\n",
      "    ],\n",
      "    \"skoda\": [\n",
      "        6393.018348623853,\n",
      "        1.6418135261334537\n",
      "    ],\n",
      "    \"subaru\": [\n",
      "        4033.7551020408164,\n",
      "        0.21087513179695738\n",
      "    ],\n",
      "    \"kia\": [\n",
      "        5982.330303030303,\n",
      "        0.7100897295203666\n",
      "    ],\n",
      "    \"citroen\": [\n",
      "        3784.924961715161,\n",
      "        1.405116949626665\n",
      "    ],\n",
      "    \"chevrolet\": [\n",
      "        6709.358490566037,\n",
      "        0.5702235706754459\n",
      "    ],\n",
      "    \"hyundai\": [\n",
      "        5376.740899357602,\n",
      "        1.0048845566242766\n",
      "    ],\n",
      "    \"honda\": [\n",
      "        4119.109589041096,\n",
      "        0.7854022765907086\n",
      "    ],\n",
      "    \"daewoo\": [\n",
      "        1064.0579710144928,\n",
      "        0.14847330708153123\n",
      "    ],\n",
      "    \"suzuki\": [\n",
      "        4111.572463768116,\n",
      "        0.5938932283261249\n",
      "    ],\n",
      "    \"trabant\": [\n",
      "        1818.609375,\n",
      "        0.1377143717857681\n",
      "    ],\n",
      "    \"land_rover\": [\n",
      "        19108.091836734693,\n",
      "        0.21087513179695738\n",
      "    ],\n",
      "    \"alfa_romeo\": [\n",
      "        4100.915857605178,\n",
      "        0.6649022012781616\n",
      "    ],\n",
      "    \"lada\": [\n",
      "        2688.296296296296,\n",
      "        0.05809825059712091\n",
      "    ],\n",
      "    \"rover\": [\n",
      "        1602.2903225806451,\n",
      "        0.13341079766746283\n",
      "    ],\n",
      "    \"daihatsu\": [\n",
      "        1636.1965811965813,\n",
      "        0.2517590859208573\n",
      "    ],\n",
      "    \"lancia\": [\n",
      "        3444.877551020408,\n",
      "        0.10543756589847869\n",
      "    ]\n",
      "}\n"
     ]
    }
   ],
   "source": [
    "import json\n",
    "print(json.dumps(brand_avg_price, indent=4))"
   ]
  },
  {
   "cell_type": "markdown",
   "id": "4b682bae",
   "metadata": {},
   "source": [
    "It is much more readable. However, it is still not easy to compare the values. So, we decide to pass this values to a data frame"
   ]
  },
  {
   "cell_type": "code",
   "execution_count": 62,
   "id": "4817e321",
   "metadata": {
    "scrolled": true
   },
   "outputs": [
    {
     "name": "stdout",
     "output_type": "stream",
     "text": [
      "TOP 5 cheaper brands:\n"
     ]
    },
    {
     "data": {
      "text/html": [
       "<div>\n",
       "<style scoped>\n",
       "    .dataframe tbody tr th:only-of-type {\n",
       "        vertical-align: middle;\n",
       "    }\n",
       "\n",
       "    .dataframe tbody tr th {\n",
       "        vertical-align: top;\n",
       "    }\n",
       "\n",
       "    .dataframe thead th {\n",
       "        text-align: right;\n",
       "    }\n",
       "</style>\n",
       "<table border=\"1\" class=\"dataframe\">\n",
       "  <thead>\n",
       "    <tr style=\"text-align: right;\">\n",
       "      <th></th>\n",
       "      <th>mean_price_dol</th>\n",
       "      <th>freq_percentage</th>\n",
       "    </tr>\n",
       "  </thead>\n",
       "  <tbody>\n",
       "    <tr>\n",
       "      <th>daewoo</th>\n",
       "      <td>1,064.058</td>\n",
       "      <td>0.148</td>\n",
       "    </tr>\n",
       "    <tr>\n",
       "      <th>rover</th>\n",
       "      <td>1,602.290</td>\n",
       "      <td>0.133</td>\n",
       "    </tr>\n",
       "    <tr>\n",
       "      <th>daihatsu</th>\n",
       "      <td>1,636.197</td>\n",
       "      <td>0.252</td>\n",
       "    </tr>\n",
       "    <tr>\n",
       "      <th>trabant</th>\n",
       "      <td>1,818.609</td>\n",
       "      <td>0.138</td>\n",
       "    </tr>\n",
       "    <tr>\n",
       "      <th>renault</th>\n",
       "      <td>2,483.889</td>\n",
       "      <td>4.719</td>\n",
       "    </tr>\n",
       "  </tbody>\n",
       "</table>\n",
       "</div>"
      ],
      "text/plain": [
       "          mean_price_dol  freq_percentage\n",
       "daewoo         1,064.058            0.148\n",
       "rover          1,602.290            0.133\n",
       "daihatsu       1,636.197            0.252\n",
       "trabant        1,818.609            0.138\n",
       "renault        2,483.889            4.719"
      ]
     },
     "execution_count": 62,
     "metadata": {},
     "output_type": "execute_result"
    }
   ],
   "source": [
    "#Transform the dictionary in the dataframe:\n",
    "df_brand_price=pd.DataFrame.from_dict(brand_avg_price,orient=\"index\", columns=[\"mean_price_dol\", \"freq_percentage\"])\n",
    "\n",
    "#if we don't include the columns argument in DataFrame constructor, we can put the label in the columns in the following way:\n",
    "#df_brand_price.rename({0:\"mean_price_dol\", 1:\"freq_percentage\"},axis=1, inplace=True)\n",
    "\n",
    "print(\"TOP 5 cheaper brands:\")\n",
    "df_brand_price.sort_values(by=[\"mean_price_dol\"]).head(5)"
   ]
  },
  {
   "cell_type": "code",
   "execution_count": 63,
   "id": "70a4d199",
   "metadata": {},
   "outputs": [
    {
     "name": "stdout",
     "output_type": "stream",
     "text": [
      "TOP 5 more expensive brands:\n"
     ]
    },
    {
     "data": {
      "text/html": [
       "<div>\n",
       "<style scoped>\n",
       "    .dataframe tbody tr th:only-of-type {\n",
       "        vertical-align: middle;\n",
       "    }\n",
       "\n",
       "    .dataframe tbody tr th {\n",
       "        vertical-align: top;\n",
       "    }\n",
       "\n",
       "    .dataframe thead th {\n",
       "        text-align: right;\n",
       "    }\n",
       "</style>\n",
       "<table border=\"1\" class=\"dataframe\">\n",
       "  <thead>\n",
       "    <tr style=\"text-align: right;\">\n",
       "      <th></th>\n",
       "      <th>mean_price_dol</th>\n",
       "      <th>freq_percentage</th>\n",
       "    </tr>\n",
       "  </thead>\n",
       "  <tbody>\n",
       "    <tr>\n",
       "      <th>porsche</th>\n",
       "      <td>46,455.893</td>\n",
       "      <td>0.605</td>\n",
       "    </tr>\n",
       "    <tr>\n",
       "      <th>land_rover</th>\n",
       "      <td>19,108.092</td>\n",
       "      <td>0.211</td>\n",
       "    </tr>\n",
       "    <tr>\n",
       "      <th>sonstige_autos</th>\n",
       "      <td>12,642.134</td>\n",
       "      <td>0.962</td>\n",
       "    </tr>\n",
       "    <tr>\n",
       "      <th>jeep</th>\n",
       "      <td>11,650.500</td>\n",
       "      <td>0.228</td>\n",
       "    </tr>\n",
       "    <tr>\n",
       "      <th>jaguar</th>\n",
       "      <td>11,635.493</td>\n",
       "      <td>0.157</td>\n",
       "    </tr>\n",
       "  </tbody>\n",
       "</table>\n",
       "</div>"
      ],
      "text/plain": [
       "                mean_price_dol  freq_percentage\n",
       "porsche             46,455.893            0.605\n",
       "land_rover          19,108.092            0.211\n",
       "sonstige_autos      12,642.134            0.962\n",
       "jeep                11,650.500            0.228\n",
       "jaguar              11,635.493            0.157"
      ]
     },
     "execution_count": 63,
     "metadata": {},
     "output_type": "execute_result"
    }
   ],
   "source": [
    "print(\"TOP 5 more expensive brands:\")\n",
    "df_brand_price.sort_values(by=[\"mean_price_dol\"], ascending=False).head(5)"
   ]
  },
  {
   "cell_type": "markdown",
   "id": "9e1fc089",
   "metadata": {},
   "source": [
    "If we check price by brand, from total cars in this dataset, we can see that the cheaper cars are: `daewoo`,`rover`,`daihatsu`,`trabant` and `renault`.\n",
    "And the more expensive brands are `porsche`,`land_rover`,`sonstige_autos`,`jeep` and `jaguar`.\n",
    "\n",
    "However if at same time we check, how many cars from this brands we have in our dataset, we can see we have very few cars(almost all have less than 1% in our dataset (the only exception is renault which has 4.7%). \n",
    "\n",
    "So it could be interesting to check what happens in the brands, for what we have more cars in this dataset:"
   ]
  },
  {
   "cell_type": "code",
   "execution_count": 64,
   "id": "37607d14",
   "metadata": {},
   "outputs": [
    {
     "name": "stderr",
     "output_type": "stream",
     "text": [
      "<ipython-input-64-204e483a8890>:1: UserWarning: Boolean Series key will be reindexed to match DataFrame index.\n",
      "  df_brand_price[freq_perc>5].sort_values(by=[\"mean_price_dol\"], ascending=False)\n"
     ]
    },
    {
     "data": {
      "text/html": [
       "<div>\n",
       "<style scoped>\n",
       "    .dataframe tbody tr th:only-of-type {\n",
       "        vertical-align: middle;\n",
       "    }\n",
       "\n",
       "    .dataframe tbody tr th {\n",
       "        vertical-align: top;\n",
       "    }\n",
       "\n",
       "    .dataframe thead th {\n",
       "        text-align: right;\n",
       "    }\n",
       "</style>\n",
       "<table border=\"1\" class=\"dataframe\">\n",
       "  <thead>\n",
       "    <tr style=\"text-align: right;\">\n",
       "      <th></th>\n",
       "      <th>mean_price_dol</th>\n",
       "      <th>freq_percentage</th>\n",
       "    </tr>\n",
       "  </thead>\n",
       "  <tbody>\n",
       "    <tr>\n",
       "      <th>audi</th>\n",
       "      <td>9,373.771</td>\n",
       "      <td>8.661</td>\n",
       "    </tr>\n",
       "    <tr>\n",
       "      <th>mercedes_benz</th>\n",
       "      <td>8,663.059</td>\n",
       "      <td>9.651</td>\n",
       "    </tr>\n",
       "    <tr>\n",
       "      <th>bmw</th>\n",
       "      <td>8,376.805</td>\n",
       "      <td>10.996</td>\n",
       "    </tr>\n",
       "    <tr>\n",
       "      <th>volkswagen</th>\n",
       "      <td>5,424.919</td>\n",
       "      <td>21.133</td>\n",
       "    </tr>\n",
       "    <tr>\n",
       "      <th>ford</th>\n",
       "      <td>3,762.117</td>\n",
       "      <td>6.998</td>\n",
       "    </tr>\n",
       "    <tr>\n",
       "      <th>opel</th>\n",
       "      <td>2,996.085</td>\n",
       "      <td>10.731</td>\n",
       "    </tr>\n",
       "  </tbody>\n",
       "</table>\n",
       "</div>"
      ],
      "text/plain": [
       "               mean_price_dol  freq_percentage\n",
       "audi                9,373.771            8.661\n",
       "mercedes_benz       8,663.059            9.651\n",
       "bmw                 8,376.805           10.996\n",
       "volkswagen          5,424.919           21.133\n",
       "ford                3,762.117            6.998\n",
       "opel                2,996.085           10.731"
      ]
     },
     "execution_count": 64,
     "metadata": {},
     "output_type": "execute_result"
    }
   ],
   "source": [
    "df_brand_price[freq_perc>5].sort_values(by=[\"mean_price_dol\"], ascending=False)"
   ]
  },
  {
   "cell_type": "code",
   "execution_count": 65,
   "id": "5693a498",
   "metadata": {
    "scrolled": true
   },
   "outputs": [
    {
     "name": "stdout",
     "output_type": "stream",
     "text": [
      "How can we read the values in this table?: \n",
      "\n",
      "The 21.13% of cars in this dataset are from volkswagen and its price in average is 5424.92$.\n",
      "The 10.73% of cars in this dataset are from opel and its price in average is 2996.09$.\n"
     ]
    }
   ],
   "source": [
    "print(\"How can we read the values in this table?: \\n\")\n",
    "print(\"The {:.2f}% of cars in this dataset are from volkswagen and its price in average is {:.2f}$.\".format(df_brand_price.loc['volkswagen','freq_percentage'],df_brand_price.loc['volkswagen','mean_price_dol'] ))\n",
    "\n",
    "print(\"The {:.2f}% of cars in this dataset are from opel and its price in average is {:.2f}$.\".format(df_brand_price.loc['opel','freq_percentage'],df_brand_price.loc['opel','mean_price_dol'] ))"
   ]
  },
  {
   "cell_type": "markdown",
   "id": "71a50ef3",
   "metadata": {},
   "source": [
    "In the above table, we can see the price of most common brands in our dataset, i.e., the price of brands with more than 5% of frequence in the dataset.\n",
    "\n",
    "From this data selection we can also see that:\n",
    "* the most expensive cars are from `audi`, `mercedes_benz` and `bmw´\n",
    "* the less expensive cars are `ford` and `opel`\n",
    "* Volkswagen even is the most common brand in this dataset, is in the middle in of above brands in what concerns mean price."
   ]
  },
  {
   "cell_type": "markdown",
   "id": "25e956fe",
   "metadata": {},
   "source": [
    "### 4.3 - What are the relation between the most commons brands and its mean odometer? "
   ]
  },
  {
   "cell_type": "code",
   "execution_count": 66,
   "id": "c68105d1",
   "metadata": {},
   "outputs": [
    {
     "name": "stdout",
     "output_type": "stream",
     "text": [
      "TOP 5 brands with km:\n"
     ]
    },
    {
     "data": {
      "text/html": [
       "<div>\n",
       "<style scoped>\n",
       "    .dataframe tbody tr th:only-of-type {\n",
       "        vertical-align: middle;\n",
       "    }\n",
       "\n",
       "    .dataframe tbody tr th {\n",
       "        vertical-align: top;\n",
       "    }\n",
       "\n",
       "    .dataframe thead th {\n",
       "        text-align: right;\n",
       "    }\n",
       "</style>\n",
       "<table border=\"1\" class=\"dataframe\">\n",
       "  <thead>\n",
       "    <tr style=\"text-align: right;\">\n",
       "      <th></th>\n",
       "      <th>mean_odometer_km</th>\n",
       "    </tr>\n",
       "  </thead>\n",
       "  <tbody>\n",
       "    <tr>\n",
       "      <th>trabant</th>\n",
       "      <td>55,312.500</td>\n",
       "    </tr>\n",
       "    <tr>\n",
       "      <th>lada</th>\n",
       "      <td>83,518.519</td>\n",
       "    </tr>\n",
       "    <tr>\n",
       "      <th>dacia</th>\n",
       "      <td>84,268.293</td>\n",
       "    </tr>\n",
       "    <tr>\n",
       "      <th>mini</th>\n",
       "      <td>88,308.824</td>\n",
       "    </tr>\n",
       "    <tr>\n",
       "      <th>sonstige_autos</th>\n",
       "      <td>90,313.199</td>\n",
       "    </tr>\n",
       "  </tbody>\n",
       "</table>\n",
       "</div>"
      ],
      "text/plain": [
       "                mean_odometer_km\n",
       "trabant               55,312.500\n",
       "lada                  83,518.519\n",
       "dacia                 84,268.293\n",
       "mini                  88,308.824\n",
       "sonstige_autos        90,313.199"
      ]
     },
     "execution_count": 66,
     "metadata": {},
     "output_type": "execute_result"
    }
   ],
   "source": [
    "#creating empty dictionary to strore our aggregate data\n",
    "brand_avg_odom={}\n",
    "\n",
    "#populating our dictionary with average odemeter per brand\n",
    "for each in autos[\"brand\"].unique():\n",
    "    avg_odom=autos.loc[autos[\"brand\"]==each, \"odometer_km\"].mean()\n",
    "    brand_avg_odom[each]=avg_odom\n",
    "#print(brand_avg_odom)\n",
    "\n",
    "#converting dictionary in series and dataframe using serie and dataframe constructor:\n",
    "s_brand_odom=pd.Series(brand_avg_odom)\n",
    "df_brand_odom=pd.DataFrame(s_brand_odom, columns=[\"mean_odometer_km\"])\n",
    "#print(df_brand_odom)\n",
    "\n",
    "print(\"TOP 5 brands with km:\")\n",
    "df_brand_odom.sort_values(by=[\"mean_odometer_km\"]).head(5)"
   ]
  },
  {
   "cell_type": "code",
   "execution_count": 67,
   "id": "14e11fdc",
   "metadata": {},
   "outputs": [
    {
     "data": {
      "text/html": [
       "<div>\n",
       "<style scoped>\n",
       "    .dataframe tbody tr th:only-of-type {\n",
       "        vertical-align: middle;\n",
       "    }\n",
       "\n",
       "    .dataframe tbody tr th {\n",
       "        vertical-align: top;\n",
       "    }\n",
       "\n",
       "    .dataframe thead th {\n",
       "        text-align: right;\n",
       "    }\n",
       "</style>\n",
       "<table border=\"1\" class=\"dataframe\">\n",
       "  <thead>\n",
       "    <tr style=\"text-align: right;\">\n",
       "      <th></th>\n",
       "      <th>mean_price_dol</th>\n",
       "      <th>freq_percentage</th>\n",
       "      <th>mean_odometer_km</th>\n",
       "    </tr>\n",
       "  </thead>\n",
       "  <tbody>\n",
       "    <tr>\n",
       "      <th>peugeot</th>\n",
       "      <td>3,100.693</td>\n",
       "      <td>2.991</td>\n",
       "      <td>127,122.302</td>\n",
       "    </tr>\n",
       "    <tr>\n",
       "      <th>bmw</th>\n",
       "      <td>8,376.805</td>\n",
       "      <td>10.996</td>\n",
       "      <td>132,651.663</td>\n",
       "    </tr>\n",
       "    <tr>\n",
       "      <th>volkswagen</th>\n",
       "      <td>5,424.919</td>\n",
       "      <td>21.133</td>\n",
       "      <td>128,771.001</td>\n",
       "    </tr>\n",
       "    <tr>\n",
       "      <th>smart</th>\n",
       "      <td>3,591.021</td>\n",
       "      <td>1.418</td>\n",
       "      <td>99,590.288</td>\n",
       "    </tr>\n",
       "    <tr>\n",
       "      <th>ford</th>\n",
       "      <td>3,762.117</td>\n",
       "      <td>6.998</td>\n",
       "      <td>124,295.818</td>\n",
       "    </tr>\n",
       "  </tbody>\n",
       "</table>\n",
       "</div>"
      ],
      "text/plain": [
       "            mean_price_dol  freq_percentage  mean_odometer_km\n",
       "peugeot          3,100.693            2.991       127,122.302\n",
       "bmw              8,376.805           10.996       132,651.663\n",
       "volkswagen       5,424.919           21.133       128,771.001\n",
       "smart            3,591.021            1.418        99,590.288\n",
       "ford             3,762.117            6.998       124,295.818"
      ]
     },
     "execution_count": 67,
     "metadata": {},
     "output_type": "execute_result"
    }
   ],
   "source": [
    "#As we think it can be useful check odometer information comparing with price and brand frequence, we will agregate the new values to our previous dataframe\n",
    "df_brand_price_odom=df_brand_price.copy()\n",
    "df_brand_price_odom[\"mean_odometer_km\"]=df_brand_odom\n",
    "df_brand_price_odom.head(5)"
   ]
  },
  {
   "cell_type": "code",
   "execution_count": 68,
   "id": "e7be7d25",
   "metadata": {
    "scrolled": true
   },
   "outputs": [
    {
     "name": "stdout",
     "output_type": "stream",
     "text": [
      "TOP 5 brands with less km:\n"
     ]
    },
    {
     "data": {
      "text/html": [
       "<div>\n",
       "<style scoped>\n",
       "    .dataframe tbody tr th:only-of-type {\n",
       "        vertical-align: middle;\n",
       "    }\n",
       "\n",
       "    .dataframe tbody tr th {\n",
       "        vertical-align: top;\n",
       "    }\n",
       "\n",
       "    .dataframe thead th {\n",
       "        text-align: right;\n",
       "    }\n",
       "</style>\n",
       "<table border=\"1\" class=\"dataframe\">\n",
       "  <thead>\n",
       "    <tr style=\"text-align: right;\">\n",
       "      <th></th>\n",
       "      <th>mean_price_dol</th>\n",
       "      <th>freq_percentage</th>\n",
       "      <th>mean_odometer_km</th>\n",
       "    </tr>\n",
       "  </thead>\n",
       "  <tbody>\n",
       "    <tr>\n",
       "      <th>saab</th>\n",
       "      <td>3,211.649</td>\n",
       "      <td>0.166</td>\n",
       "      <td>144,415.584</td>\n",
       "    </tr>\n",
       "    <tr>\n",
       "      <th>volvo</th>\n",
       "      <td>4,993.208</td>\n",
       "      <td>0.910</td>\n",
       "      <td>138,581.560</td>\n",
       "    </tr>\n",
       "    <tr>\n",
       "      <th>rover</th>\n",
       "      <td>1,602.290</td>\n",
       "      <td>0.133</td>\n",
       "      <td>137,661.290</td>\n",
       "    </tr>\n",
       "    <tr>\n",
       "      <th>bmw</th>\n",
       "      <td>8,376.805</td>\n",
       "      <td>10.996</td>\n",
       "      <td>132,651.663</td>\n",
       "    </tr>\n",
       "    <tr>\n",
       "      <th>chrysler</th>\n",
       "      <td>3,465.744</td>\n",
       "      <td>0.353</td>\n",
       "      <td>132,378.049</td>\n",
       "    </tr>\n",
       "  </tbody>\n",
       "</table>\n",
       "</div>"
      ],
      "text/plain": [
       "          mean_price_dol  freq_percentage  mean_odometer_km\n",
       "saab           3,211.649            0.166       144,415.584\n",
       "volvo          4,993.208            0.910       138,581.560\n",
       "rover          1,602.290            0.133       137,661.290\n",
       "bmw            8,376.805           10.996       132,651.663\n",
       "chrysler       3,465.744            0.353       132,378.049"
      ]
     },
     "execution_count": 68,
     "metadata": {},
     "output_type": "execute_result"
    }
   ],
   "source": [
    "print(\"TOP 5 brands with less km:\")\n",
    "df_brand_price_odom.sort_values(by=[\"mean_odometer_km\"], ascending=False).head(5)"
   ]
  },
  {
   "cell_type": "code",
   "execution_count": 69,
   "id": "b187079e",
   "metadata": {},
   "outputs": [
    {
     "name": "stdout",
     "output_type": "stream",
     "text": [
      "Brands with more than 5% of frequence:\n"
     ]
    },
    {
     "name": "stderr",
     "output_type": "stream",
     "text": [
      "<ipython-input-69-0ff77f17394f>:2: UserWarning: Boolean Series key will be reindexed to match DataFrame index.\n",
      "  df_brand_price_odom[freq_perc>5].sort_values(by=[\"freq_percentage\"], ascending=False)\n"
     ]
    },
    {
     "data": {
      "text/html": [
       "<div>\n",
       "<style scoped>\n",
       "    .dataframe tbody tr th:only-of-type {\n",
       "        vertical-align: middle;\n",
       "    }\n",
       "\n",
       "    .dataframe tbody tr th {\n",
       "        vertical-align: top;\n",
       "    }\n",
       "\n",
       "    .dataframe thead th {\n",
       "        text-align: right;\n",
       "    }\n",
       "</style>\n",
       "<table border=\"1\" class=\"dataframe\">\n",
       "  <thead>\n",
       "    <tr style=\"text-align: right;\">\n",
       "      <th></th>\n",
       "      <th>mean_price_dol</th>\n",
       "      <th>freq_percentage</th>\n",
       "      <th>mean_odometer_km</th>\n",
       "    </tr>\n",
       "  </thead>\n",
       "  <tbody>\n",
       "    <tr>\n",
       "      <th>volkswagen</th>\n",
       "      <td>5,424.919</td>\n",
       "      <td>21.133</td>\n",
       "      <td>128,771.001</td>\n",
       "    </tr>\n",
       "    <tr>\n",
       "      <th>bmw</th>\n",
       "      <td>8,376.805</td>\n",
       "      <td>10.996</td>\n",
       "      <td>132,651.663</td>\n",
       "    </tr>\n",
       "    <tr>\n",
       "      <th>opel</th>\n",
       "      <td>2,996.085</td>\n",
       "      <td>10.731</td>\n",
       "      <td>129,440.545</td>\n",
       "    </tr>\n",
       "    <tr>\n",
       "      <th>mercedes_benz</th>\n",
       "      <td>8,663.059</td>\n",
       "      <td>9.651</td>\n",
       "      <td>130,923.077</td>\n",
       "    </tr>\n",
       "    <tr>\n",
       "      <th>audi</th>\n",
       "      <td>9,373.771</td>\n",
       "      <td>8.661</td>\n",
       "      <td>129,254.658</td>\n",
       "    </tr>\n",
       "    <tr>\n",
       "      <th>ford</th>\n",
       "      <td>3,762.117</td>\n",
       "      <td>6.998</td>\n",
       "      <td>124,295.818</td>\n",
       "    </tr>\n",
       "  </tbody>\n",
       "</table>\n",
       "</div>"
      ],
      "text/plain": [
       "               mean_price_dol  freq_percentage  mean_odometer_km\n",
       "volkswagen          5,424.919           21.133       128,771.001\n",
       "bmw                 8,376.805           10.996       132,651.663\n",
       "opel                2,996.085           10.731       129,440.545\n",
       "mercedes_benz       8,663.059            9.651       130,923.077\n",
       "audi                9,373.771            8.661       129,254.658\n",
       "ford                3,762.117            6.998       124,295.818"
      ]
     },
     "execution_count": 69,
     "metadata": {},
     "output_type": "execute_result"
    }
   ],
   "source": [
    "print(\"Brands with more than 5% of frequence:\")\n",
    "df_brand_price_odom[freq_perc>5].sort_values(by=[\"freq_percentage\"], ascending=False)"
   ]
  },
  {
   "cell_type": "markdown",
   "id": "3658cb57",
   "metadata": {},
   "source": [
    "Checking above values we can conclude that the most common brands in our dataset has in average as more or less same mileage, in average it is more than 124k km per brand."
   ]
  },
  {
   "cell_type": "markdown",
   "id": "3c56c198",
   "metadata": {},
   "source": [
    "### 4.3 - What are the relation between the most price and its mean odometer? "
   ]
  },
  {
   "cell_type": "markdown",
   "id": "6f1a7c45",
   "metadata": {},
   "source": [
    "Let us to see what happen if we split the odometer into groups and use the aggregation to see if average prices follows any pattern based on the mileage"
   ]
  },
  {
   "cell_type": "code",
   "execution_count": 70,
   "id": "2e806fe9",
   "metadata": {},
   "outputs": [
    {
     "name": "stdout",
     "output_type": "stream",
     "text": [
      "count    46,473.000\n",
      "mean    125,688.787\n",
      "std      39,687.056\n",
      "min       5,000.000\n",
      "25%     100,000.000\n",
      "50%     150,000.000\n",
      "75%     150,000.000\n",
      "max     150,000.000\n",
      "Name: odometer_km, dtype: float64\n"
     ]
    }
   ],
   "source": [
    "print(autos['odometer_km'].describe())"
   ]
  },
  {
   "cell_type": "markdown",
   "id": "f1e3a438",
   "metadata": {},
   "source": [
    "Our odometer groups will be:\n",
    "* less than 10000km\n",
    "* between 10000km and 30000km\n",
    "* between 30000km and 50000km\n",
    "* between 50000km and 75000km\n",
    "* between 75000km and 10000km\n",
    "* between 100000km and 14000km\n",
    "* more than 140000km"
   ]
  },
  {
   "cell_type": "code",
   "execution_count": 71,
   "id": "439c4c22",
   "metadata": {},
   "outputs": [
    {
     "data": {
      "text/html": [
       "<div>\n",
       "<style scoped>\n",
       "    .dataframe tbody tr th:only-of-type {\n",
       "        vertical-align: middle;\n",
       "    }\n",
       "\n",
       "    .dataframe tbody tr th {\n",
       "        vertical-align: top;\n",
       "    }\n",
       "\n",
       "    .dataframe thead th {\n",
       "        text-align: right;\n",
       "    }\n",
       "</style>\n",
       "<table border=\"1\" class=\"dataframe\">\n",
       "  <thead>\n",
       "    <tr style=\"text-align: right;\">\n",
       "      <th></th>\n",
       "      <th>freq_odom_group</th>\n",
       "    </tr>\n",
       "  </thead>\n",
       "  <tbody>\n",
       "    <tr>\n",
       "      <th>odom_until_10k</th>\n",
       "      <td>970</td>\n",
       "    </tr>\n",
       "    <tr>\n",
       "      <th>odom_10k_30k</th>\n",
       "      <td>1499</td>\n",
       "    </tr>\n",
       "    <tr>\n",
       "      <th>odom_30k_50k</th>\n",
       "      <td>1789</td>\n",
       "    </tr>\n",
       "    <tr>\n",
       "      <th>odom_50k_75k</th>\n",
       "      <td>2311</td>\n",
       "    </tr>\n",
       "    <tr>\n",
       "      <th>odom_75k_100k</th>\n",
       "      <td>5094</td>\n",
       "    </tr>\n",
       "    <tr>\n",
       "      <th>odom_100k_140k</th>\n",
       "      <td>4846</td>\n",
       "    </tr>\n",
       "    <tr>\n",
       "      <th>odom_more_140k</th>\n",
       "      <td>29964</td>\n",
       "    </tr>\n",
       "  </tbody>\n",
       "</table>\n",
       "</div>"
      ],
      "text/plain": [
       "                freq_odom_group\n",
       "odom_until_10k              970\n",
       "odom_10k_30k               1499\n",
       "odom_30k_50k               1789\n",
       "odom_50k_75k               2311\n",
       "odom_75k_100k              5094\n",
       "odom_100k_140k             4846\n",
       "odom_more_140k            29964"
      ]
     },
     "execution_count": 71,
     "metadata": {},
     "output_type": "execute_result"
    }
   ],
   "source": [
    "price_by_odometer = {'odom_until_10k':0,'odom_10k_30k':0, 'odom_30k_50k':0, 'odom_50k_75k':0,'odom_75k_100k':0,'odom_100k_140k':0,\n",
    "              'odom_more_140k':0}\n",
    "# Populating it\n",
    "for each in autos['odometer_km']:\n",
    "    if each<=10000:\n",
    "        price_by_odometer['odom_until_10k'] += 1\n",
    "    elif 10000 < each <= 30000:\n",
    "        price_by_odometer['odom_10k_30k'] += 1\n",
    "    elif 30000 < each <= 50000:\n",
    "        price_by_odometer['odom_30k_50k'] += 1\n",
    "    elif 30000 < each <= 75000:\n",
    "        price_by_odometer['odom_50k_75k'] += 1\n",
    "    elif 10000 < each <= 100000:\n",
    "        price_by_odometer['odom_75k_100k'] += 1\n",
    "    elif 10000 < each <= 140000:\n",
    "        price_by_odometer['odom_100k_140k'] += 1\n",
    "    else:\n",
    "        price_by_odometer['odom_more_140k'] += 1\n",
    "price_by_odometer\n",
    "df_price_by_odometer=pd.DataFrame.from_dict(price_by_odometer, orient=\"index\", columns=[\"freq_odom_group\"])\n",
    "df_price_by_odometer"
   ]
  },
  {
   "cell_type": "code",
   "execution_count": 72,
   "id": "953444e2",
   "metadata": {},
   "outputs": [],
   "source": [
    "df_price_by_odometer[\"mean_price\"]=0"
   ]
  },
  {
   "cell_type": "code",
   "execution_count": 73,
   "id": "a34acfc9",
   "metadata": {},
   "outputs": [
    {
     "data": {
      "text/html": [
       "<div>\n",
       "<style scoped>\n",
       "    .dataframe tbody tr th:only-of-type {\n",
       "        vertical-align: middle;\n",
       "    }\n",
       "\n",
       "    .dataframe tbody tr th {\n",
       "        vertical-align: top;\n",
       "    }\n",
       "\n",
       "    .dataframe thead th {\n",
       "        text-align: right;\n",
       "    }\n",
       "</style>\n",
       "<table border=\"1\" class=\"dataframe\">\n",
       "  <thead>\n",
       "    <tr style=\"text-align: right;\">\n",
       "      <th></th>\n",
       "      <th>freq_odom_group</th>\n",
       "      <th>mean_price</th>\n",
       "    </tr>\n",
       "  </thead>\n",
       "  <tbody>\n",
       "    <tr>\n",
       "      <th>odom_until_10k</th>\n",
       "      <td>970</td>\n",
       "      <td>0</td>\n",
       "    </tr>\n",
       "    <tr>\n",
       "      <th>odom_10k_30k</th>\n",
       "      <td>1499</td>\n",
       "      <td>0</td>\n",
       "    </tr>\n",
       "    <tr>\n",
       "      <th>odom_30k_50k</th>\n",
       "      <td>1789</td>\n",
       "      <td>0</td>\n",
       "    </tr>\n",
       "    <tr>\n",
       "      <th>odom_50k_75k</th>\n",
       "      <td>2311</td>\n",
       "      <td>0</td>\n",
       "    </tr>\n",
       "    <tr>\n",
       "      <th>odom_75k_100k</th>\n",
       "      <td>5094</td>\n",
       "      <td>0</td>\n",
       "    </tr>\n",
       "    <tr>\n",
       "      <th>odom_100k_140k</th>\n",
       "      <td>4846</td>\n",
       "      <td>0</td>\n",
       "    </tr>\n",
       "    <tr>\n",
       "      <th>odom_more_140k</th>\n",
       "      <td>29964</td>\n",
       "      <td>0</td>\n",
       "    </tr>\n",
       "  </tbody>\n",
       "</table>\n",
       "</div>"
      ],
      "text/plain": [
       "                freq_odom_group  mean_price\n",
       "odom_until_10k              970           0\n",
       "odom_10k_30k               1499           0\n",
       "odom_30k_50k               1789           0\n",
       "odom_50k_75k               2311           0\n",
       "odom_75k_100k              5094           0\n",
       "odom_100k_140k             4846           0\n",
       "odom_more_140k            29964           0"
      ]
     },
     "execution_count": 73,
     "metadata": {},
     "output_type": "execute_result"
    }
   ],
   "source": [
    "df_price_by_odometer"
   ]
  },
  {
   "cell_type": "code",
   "execution_count": 74,
   "id": "831553e8",
   "metadata": {},
   "outputs": [],
   "source": [
    "df_price_by_odometer.iloc[0,1]=autos.loc[autos[\"odometer_km\"] <=10000, \"price_dollar\"].mean()\n",
    "df_price_by_odometer.iloc[1,1]=autos.loc[autos[\"odometer_km\"] <=30000, \"price_dollar\"].mean()\n",
    "df_price_by_odometer.iloc[2,1]=autos.loc[autos[\"odometer_km\"] <=50000, \"price_dollar\"].mean()\n",
    "df_price_by_odometer.iloc[3,1]=autos.loc[autos[\"odometer_km\"] <=75000, \"price_dollar\"].mean()\n",
    "df_price_by_odometer.iloc[4,1]=autos.loc[autos[\"odometer_km\"] <=100000, \"price_dollar\"].mean()\n",
    "df_price_by_odometer.iloc[5,1]=autos.loc[autos[\"odometer_km\"] <=140000, \"price_dollar\"].mean()\n",
    "df_price_by_odometer.iloc[6,1]=autos.loc[autos[\"odometer_km\"] >140000, \"price_dollar\"].mean()"
   ]
  },
  {
   "cell_type": "code",
   "execution_count": 75,
   "id": "5de22f82",
   "metadata": {},
   "outputs": [
    {
     "data": {
      "text/html": [
       "<div>\n",
       "<style scoped>\n",
       "    .dataframe tbody tr th:only-of-type {\n",
       "        vertical-align: middle;\n",
       "    }\n",
       "\n",
       "    .dataframe tbody tr th {\n",
       "        vertical-align: top;\n",
       "    }\n",
       "\n",
       "    .dataframe thead th {\n",
       "        text-align: right;\n",
       "    }\n",
       "</style>\n",
       "<table border=\"1\" class=\"dataframe\">\n",
       "  <thead>\n",
       "    <tr style=\"text-align: right;\">\n",
       "      <th></th>\n",
       "      <th>freq_odom_group</th>\n",
       "      <th>mean_price</th>\n",
       "    </tr>\n",
       "  </thead>\n",
       "  <tbody>\n",
       "    <tr>\n",
       "      <th>odom_until_10k</th>\n",
       "      <td>970</td>\n",
       "      <td>12,286.290</td>\n",
       "    </tr>\n",
       "    <tr>\n",
       "      <th>odom_10k_30k</th>\n",
       "      <td>1499</td>\n",
       "      <td>15,483.654</td>\n",
       "    </tr>\n",
       "    <tr>\n",
       "      <th>odom_30k_50k</th>\n",
       "      <td>1789</td>\n",
       "      <td>15,100.466</td>\n",
       "    </tr>\n",
       "    <tr>\n",
       "      <th>odom_50k_75k</th>\n",
       "      <td>2311</td>\n",
       "      <td>13,889.271</td>\n",
       "    </tr>\n",
       "    <tr>\n",
       "      <th>odom_75k_100k</th>\n",
       "      <td>5094</td>\n",
       "      <td>11,618.389</td>\n",
       "    </tr>\n",
       "    <tr>\n",
       "      <th>odom_100k_140k</th>\n",
       "      <td>4846</td>\n",
       "      <td>10,036.145</td>\n",
       "    </tr>\n",
       "    <tr>\n",
       "      <th>odom_more_140k</th>\n",
       "      <td>29964</td>\n",
       "      <td>3,783.125</td>\n",
       "    </tr>\n",
       "  </tbody>\n",
       "</table>\n",
       "</div>"
      ],
      "text/plain": [
       "                freq_odom_group  mean_price\n",
       "odom_until_10k              970  12,286.290\n",
       "odom_10k_30k               1499  15,483.654\n",
       "odom_30k_50k               1789  15,100.466\n",
       "odom_50k_75k               2311  13,889.271\n",
       "odom_75k_100k              5094  11,618.389\n",
       "odom_100k_140k             4846  10,036.145\n",
       "odom_more_140k            29964   3,783.125"
      ]
     },
     "execution_count": 75,
     "metadata": {},
     "output_type": "execute_result"
    }
   ],
   "source": [
    "df_price_by_odometer"
   ]
  },
  {
   "cell_type": "markdown",
   "id": "3a1455c9",
   "metadata": {},
   "source": [
    "The results are interesting, as more milleage the car has, lower is its price.\n",
    "The only exception for this rule are the cares with 10k km or less, which has lower price than others. This can be explain by some typing mistake on odometer or on price, or car has other kind of problems."
   ]
  },
  {
   "cell_type": "markdown",
   "id": "ed1175d3",
   "metadata": {},
   "source": [
    "### 4.4 - What are the most common brand/model combination? "
   ]
  },
  {
   "cell_type": "code",
   "execution_count": 76,
   "id": "5056cf14",
   "metadata": {
    "scrolled": true
   },
   "outputs": [
    {
     "name": "stderr",
     "output_type": "stream",
     "text": [
      "<ipython-input-76-98d7d4861509>:16: UserWarning: Boolean Series key will be reindexed to match DataFrame index.\n",
      "  df_brand_model[freq_perc>5].sort_values(by=[\"freq_percentage\"], ascending=False)\n"
     ]
    },
    {
     "data": {
      "text/html": [
       "<div>\n",
       "<style scoped>\n",
       "    .dataframe tbody tr th:only-of-type {\n",
       "        vertical-align: middle;\n",
       "    }\n",
       "\n",
       "    .dataframe tbody tr th {\n",
       "        vertical-align: top;\n",
       "    }\n",
       "\n",
       "    .dataframe thead th {\n",
       "        text-align: right;\n",
       "    }\n",
       "</style>\n",
       "<table border=\"1\" class=\"dataframe\">\n",
       "  <thead>\n",
       "    <tr style=\"text-align: right;\">\n",
       "      <th></th>\n",
       "      <th>model</th>\n",
       "      <th>freq_percentage</th>\n",
       "    </tr>\n",
       "  </thead>\n",
       "  <tbody>\n",
       "    <tr>\n",
       "      <th>volkswagen</th>\n",
       "      <td>{'golf': 3695, 'polo': 1600, 'passat': 1345}</td>\n",
       "      <td>21.133</td>\n",
       "    </tr>\n",
       "    <tr>\n",
       "      <th>bmw</th>\n",
       "      <td>{'3er': 2604, '5er': 1123, '1er': 521}</td>\n",
       "      <td>10.996</td>\n",
       "    </tr>\n",
       "    <tr>\n",
       "      <th>opel</th>\n",
       "      <td>{'corsa': 1582, 'astra': 1339, 'vectra': 538}</td>\n",
       "      <td>10.731</td>\n",
       "    </tr>\n",
       "    <tr>\n",
       "      <th>mercedes_benz</th>\n",
       "      <td>{'c_klasse': 1136, 'e_klasse': 954, 'a_klasse'...</td>\n",
       "      <td>9.651</td>\n",
       "    </tr>\n",
       "    <tr>\n",
       "      <th>audi</th>\n",
       "      <td>{'a4': 1226, 'a3': 825, 'a6': 795}</td>\n",
       "      <td>8.661</td>\n",
       "    </tr>\n",
       "    <tr>\n",
       "      <th>ford</th>\n",
       "      <td>{'focus': 757, 'fiesta': 722, 'mondeo': 479}</td>\n",
       "      <td>6.998</td>\n",
       "    </tr>\n",
       "  </tbody>\n",
       "</table>\n",
       "</div>"
      ],
      "text/plain": [
       "                                                           model  \\\n",
       "volkswagen          {'golf': 3695, 'polo': 1600, 'passat': 1345}   \n",
       "bmw                       {'3er': 2604, '5er': 1123, '1er': 521}   \n",
       "opel               {'corsa': 1582, 'astra': 1339, 'vectra': 538}   \n",
       "mercedes_benz  {'c_klasse': 1136, 'e_klasse': 954, 'a_klasse'...   \n",
       "audi                          {'a4': 1226, 'a3': 825, 'a6': 795}   \n",
       "ford                {'focus': 757, 'fiesta': 722, 'mondeo': 479}   \n",
       "\n",
       "               freq_percentage  \n",
       "volkswagen              21.133  \n",
       "bmw                     10.996  \n",
       "opel                    10.731  \n",
       "mercedes_benz            9.651  \n",
       "audi                     8.661  \n",
       "ford                     6.998  "
      ]
     },
     "execution_count": 76,
     "metadata": {},
     "output_type": "execute_result"
    }
   ],
   "source": [
    "#creating empty dictionary to strore our aggregate data\n",
    "brand_model={}\n",
    "\n",
    "#populating our dictionary with average odemeter per brand\n",
    "for each in autos[\"brand\"].unique():\n",
    "\n",
    "    brand_filter=autos.loc[autos[\"brand\"]==each,\"model\"]\n",
    "    model_freq=brand_filter.value_counts().head(3) #for each brand we will have the most common 3 models\n",
    "    model_dic= model_freq.to_dict()\n",
    "    brand_model[each]=model_dic\n",
    "    \n",
    "    \n",
    "s_brand_model=pd.Series(brand_model)\n",
    "df_brand_model=pd.DataFrame(s_brand_model, columns=[\"model\"])\n",
    "df_brand_model[\"freq_percentage\"]=freq_perc #we will add the frequence of each brand\n",
    "df_brand_model[freq_perc>5].sort_values(by=[\"freq_percentage\"], ascending=False)"
   ]
  },
  {
   "cell_type": "markdown",
   "id": "a6252239",
   "metadata": {},
   "source": [
    "### 4.5 - How much cheaper are cars with damage than their non-damaged counterparts?"
   ]
  },
  {
   "cell_type": "code",
   "execution_count": null,
   "id": "a1165c16",
   "metadata": {
    "scrolled": true
   },
   "outputs": [],
   "source": [
    "\"The cars with deffect not repaired cost in average {:,.2f}$, while the other cost in average {:,.2f}$ \".format(autos.loc[autos[\"unrepaired_damage\"]==\"yes\", \"price_dollar\"].mean(),autos.loc[autos[\"unrepaired_damage\"]==\"no\", \"price_dollar\"].mean())"
   ]
  },
  {
   "cell_type": "markdown",
   "id": "ddaf92bf",
   "metadata": {},
   "source": [
    "This mean that, as expected the cars with unrepaired damages are in average much more cheaper than the cars that don't have damage to repaire.\n",
    "\n",
    "We can see that in average cars with unrepaired damages cost less 3 times the price."
   ]
  },
  {
   "cell_type": "markdown",
   "id": "aa354f8b",
   "metadata": {},
   "source": [
    "### 4.6 - How much expensive are cars with automatic gearbox?"
   ]
  },
  {
   "cell_type": "code",
   "execution_count": null,
   "id": "003f5d79",
   "metadata": {},
   "outputs": [],
   "source": [
    "\"The cars with automatic gearbox cost in average {:,.2f}$, while the manual gearbox cost in average {:,.2f}$ \".format(autos.loc[autos[\"gearbox\"]==\"automatic\", \"price_dollar\"].mean(),autos.loc[autos[\"gearbox\"]==\"manual\", \"price_dollar\"].mean())"
   ]
  },
  {
   "cell_type": "markdown",
   "id": "4079a0d2",
   "metadata": {},
   "source": [
    "As expected the cars with automatic gearbox are in average much more expensive than the cars with manual gearbox.\n",
    "\n",
    "The automatic gearbox cost in average more than double price than the manual gearbox cars."
   ]
  },
  {
   "cell_type": "markdown",
   "id": "6cd5fb55",
   "metadata": {},
   "source": [
    "### 4.7 - How is the price evoluation according to the vehicle type?"
   ]
  },
  {
   "cell_type": "code",
   "execution_count": null,
   "id": "51f0e2e8",
   "metadata": {},
   "outputs": [],
   "source": [
    "#creating empty dictionary to strore our aggregate data\n",
    "vehicle_avg_price={}\n",
    "\n",
    "\n",
    "#populating our dictionary with average price per brand (because we think it can be useful, we will also add the brand freq)\n",
    "for each in autos[\"vehicle_type\"].unique():\n",
    "    avg_price=autos.loc[autos[\"vehicle_type\"]==each, \"price_dollar\"].mean()\n",
    "    vehicle_avg_price[each]=float(avg_price)\n",
    "#print(vehicle_avg_price)\n",
    "\n",
    "print(json.dumps(vehicle_avg_price, indent=4))\n"
   ]
  },
  {
   "cell_type": "markdown",
   "id": "d72c2ab4",
   "metadata": {},
   "source": [
    "The results we got are according to our expectation:\n",
    "* the most expensive types of cars are `coupe` and `suv`\n",
    "* the most cheapest types of cars are `small cars` and `convertible`"
   ]
  },
  {
   "cell_type": "markdown",
   "id": "0a037c29",
   "metadata": {},
   "source": [
    "## 5 - Conclusions"
   ]
  },
  {
   "cell_type": "markdown",
   "id": "b8ebca94",
   "metadata": {},
   "source": [
    "After a brief overview of each column data of our dataset, we identified what could be clean, and what could be improve in order to take the analyse more easier and eficient.\n",
    "\n",
    "Then in point 4, we made some analyzes, and we found very interesting results.\n",
    "\n",
    "We could conclude how vehicle details have impact on price.\n",
    "\n",
    "If we want to buy a car, we must understand if price makes sense attending average price for the same details:\n",
    "* brand\n",
    "* gearbox\n",
    "* unrepaired damages\n",
    "* vehicle car\n",
    "* millenage"
   ]
  }
 ],
 "metadata": {
  "kernelspec": {
   "display_name": "Python 3",
   "language": "python",
   "name": "python3"
  },
  "language_info": {
   "codemirror_mode": {
    "name": "ipython",
    "version": 3
   },
   "file_extension": ".py",
   "mimetype": "text/x-python",
   "name": "python",
   "nbconvert_exporter": "python",
   "pygments_lexer": "ipython3",
   "version": "3.8.8"
  },
  "toc": {
   "base_numbering": 1,
   "nav_menu": {},
   "number_sections": true,
   "sideBar": true,
   "skip_h1_title": false,
   "title_cell": "Table of Contents",
   "title_sidebar": "Contents",
   "toc_cell": false,
   "toc_position": {
    "height": "calc(100% - 180px)",
    "left": "10px",
    "top": "150px",
    "width": "341px"
   },
   "toc_section_display": true,
   "toc_window_display": false
  }
 },
 "nbformat": 4,
 "nbformat_minor": 5
}
