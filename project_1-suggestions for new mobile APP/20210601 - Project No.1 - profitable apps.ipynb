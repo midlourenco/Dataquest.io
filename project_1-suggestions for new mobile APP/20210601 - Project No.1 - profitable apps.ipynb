{
 "cells": [
  {
   "cell_type": "markdown",
   "id": "66534e30",
   "metadata": {},
   "source": [
    "# What are the type of apps attract more users?\n",
    "\n",
    "## Introduction:\n",
    "\n",
    "This project aims to identify what are the more profitable app profiles for the App Store and Google Play markets.\n",
    "\n",
    "We are data analysts in a company which builds Android and iOS mobile app, and makes those apps available on Google Play and the App Store.\n",
    "\n",
    "Our developers only build apps that are free to download and install, and our main source of revenue consists of in-app ads. This means our revenue for any given app is mostly influenced by the number of users who use our app — the more users that see and engage with the ads, the better. Our goal for this project is to analyze data to help our developers understand what type of apps are likely to attract more users.\n",
    "\n",
    "To reach this objective we will need to collect and analyze data about mobile apps available on Google Play and App Store. We we will work with data of 2018 and a data sample reffers to more than 4 million apps (approximatelly 2 million regarding to iOS apps, and 2.1 million to Android apps).\n"
   ]
  },
  {
   "cell_type": "markdown",
   "id": "31f63ab8",
   "metadata": {},
   "source": [
    "## Data Information:\n",
    "We will use existing data sets in order to save time and costs\n",
    "The data sets that we will use are: \n",
    "- Google Play: containing data about approximately 10,000 Android apps from Google Play; the data was collected in August 2018. We can download the data set directly from [this link](https://dq-content.s3.amazonaws.com/350/googleplaystore.csv) .\n",
    "- App Store:containing data about approximately 7,000 iOS apps from the App Store; the data was collected in July 2017. You can download the data set directly from [this link](https://dq-content.s3.amazonaws.com/350/AppleStore.csv) .\n",
    "\n",
    "\n"
   ]
  },
  {
   "cell_type": "markdown",
   "id": "29f676bb",
   "metadata": {},
   "source": [
    "First, we will open both files and transform them as a list."
   ]
  },
  {
   "cell_type": "code",
   "execution_count": null,
   "id": "df6271db",
   "metadata": {},
   "outputs": [],
   "source": [
    "openfile=open()"
   ]
  },
  {
   "cell_type": "markdown",
   "id": "def85332",
   "metadata": {},
   "source": [
    "We will start to explore data contents, using the following function:"
   ]
  },
  {
   "cell_type": "code",
   "execution_count": 1,
   "id": "3ad6add5",
   "metadata": {},
   "outputs": [],
   "source": [
    "def explore_data(dataset, start, end, rows_and_columns=False):\n",
    "    data_slice=dataset[start:end]\n",
    "    for row in dataset_slice:\n",
    "        print(row)\n",
    "        print('\\n')\n",
    "    if rows_and_collumns:\n",
    "        print('Number of rows:', len(dataset))\n",
    "        print('Numner of columnns', len(dataset[0]))"
   ]
  }
 ],
 "metadata": {
  "kernelspec": {
   "display_name": "Python 3",
   "language": "python",
   "name": "python3"
  },
  "language_info": {
   "codemirror_mode": {
    "name": "ipython",
    "version": 3
   },
   "file_extension": ".py",
   "mimetype": "text/x-python",
   "name": "python",
   "nbconvert_exporter": "python",
   "pygments_lexer": "ipython3",
   "version": "3.8.8"
  }
 },
 "nbformat": 4,
 "nbformat_minor": 5
}
