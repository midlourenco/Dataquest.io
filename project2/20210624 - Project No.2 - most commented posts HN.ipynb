{
 "cells": [
  {
   "cell_type": "markdown",
   "id": "eb830f01",
   "metadata": {},
   "source": [
    "### Project N.2: \n",
    "\n",
    "# What are the posts in Hacker News that have more comments?\n"
   ]
  },
  {
   "cell_type": "markdown",
   "id": "859d284b",
   "metadata": {},
   "source": [
    "## 1. Introduction:"
   ]
  },
  {
   "cell_type": "markdown",
   "id": "8997602e",
   "metadata": {},
   "source": [
    "### 1.1. Dataset information:\n",
    "\n",
    "In this project, we will use [this](https://www.kaggle.com/hacker-news/hacker-news-posts) data set which contains information regarding the posts submissions to the popular technology site *[Hacker News](https://www.kaggle.com/hacker-news/hacker-news-posts)*."
   ]
  },
  {
   "cell_type": "markdown",
   "id": "efef076f",
   "metadata": {},
   "source": [
    "### 1.2. Objective:\n",
    "This project aims to take some conclusions about which posts receive more comments. For that we will check comments accoridng to the following two variables:\n",
    "1. **Kind of posts**: we want to check if the posts of certain type have more comments on average. In the general way, there are 3 types of posts:\n",
    "    - `Ask HN` posts: which title starts with \"Ask HN\"\n",
    "    - `Show HN` posts: which title starts with \"Show HN\"\n",
    "    - Other posts\n",
    "2. **Moment when is the post created**: we want to check if posts created at certain time receive more coments on average."
   ]
  },
  {
   "cell_type": "markdown",
   "id": "eba46f22",
   "metadata": {},
   "source": [
    "## 2. Import data set"
   ]
  },
  {
   "cell_type": "markdown",
   "id": "24ceac98",
   "metadata": {},
   "source": [
    "First, we will start to import the data set:"
   ]
  },
  {
   "cell_type": "code",
   "execution_count": 15,
   "id": "7d89cfdb",
   "metadata": {},
   "outputs": [],
   "source": [
    "from csv import reader\n",
    "import datetime as dt"
   ]
  },
  {
   "cell_type": "code",
   "execution_count": 16,
   "id": "e897b183",
   "metadata": {},
   "outputs": [],
   "source": [
    "#opened_file=open(\"HN_posts_year_to_Sep_26_2016.csv\")\n",
    "opened_file=open(\"hacker_news.csv\")\n",
    "read_file=reader(opened_file)\n",
    "hn=list(read_file)"
   ]
  },
  {
   "cell_type": "markdown",
   "id": "748d896e",
   "metadata": {},
   "source": [
    "---> How are the data inside the data set? \n",
    "\n",
    "Let us to check the first 5 rows of our data set to check that information:"
   ]
  },
  {
   "cell_type": "code",
   "execution_count": 17,
   "id": "f3efb5e7",
   "metadata": {
    "scrolled": true
   },
   "outputs": [
    {
     "name": "stdout",
     "output_type": "stream",
     "text": [
      "[['id', 'title', 'url', 'num_points', 'num_comments', 'author', 'created_at'], ['12224879', 'Interactive Dynamic Video', 'http://www.interactivedynamicvideo.com/', '386', '52', 'ne0phyte', '8/4/2016 11:52'], ['10975351', 'How to Use Open Source and Shut the Fuck Up at the Same Time', 'http://hueniverse.com/2016/01/26/how-to-use-open-source-and-shut-the-fuck-up-at-the-same-time/', '39', '10', 'josep2', '1/26/2016 19:30'], ['11964716', \"Florida DJs May Face Felony for April Fools' Water Joke\", 'http://www.thewire.com/entertainment/2013/04/florida-djs-april-fools-water-joke/63798/', '2', '1', 'vezycash', '6/23/2016 22:20']]\n"
     ]
    }
   ],
   "source": [
    "print(hn[0:4])"
   ]
  },
  {
   "cell_type": "markdown",
   "id": "32d1bd74",
   "metadata": {},
   "source": [
    "As we can see, data contains the header in the first row. So, in order to make easier our next work, we will assing the header row to `header` and will re-assign`hn` with data without header row:"
   ]
  },
  {
   "cell_type": "code",
   "execution_count": 18,
   "id": "7ff0b515",
   "metadata": {},
   "outputs": [],
   "source": [
    "headers=hn[0]\n",
    "hn=hn[1:]"
   ]
  },
  {
   "cell_type": "code",
   "execution_count": 19,
   "id": "11361dc1",
   "metadata": {},
   "outputs": [
    {
     "name": "stdout",
     "output_type": "stream",
     "text": [
      "['id', 'title', 'url', 'num_points', 'num_comments', 'author', 'created_at']\n"
     ]
    }
   ],
   "source": [
    "print(headers)"
   ]
  },
  {
   "cell_type": "code",
   "execution_count": 20,
   "id": "1dd6a570",
   "metadata": {},
   "outputs": [
    {
     "name": "stdout",
     "output_type": "stream",
     "text": [
      "[['12224879', 'Interactive Dynamic Video', 'http://www.interactivedynamicvideo.com/', '386', '52', 'ne0phyte', '8/4/2016 11:52'], ['10975351', 'How to Use Open Source and Shut the Fuck Up at the Same Time', 'http://hueniverse.com/2016/01/26/how-to-use-open-source-and-shut-the-fuck-up-at-the-same-time/', '39', '10', 'josep2', '1/26/2016 19:30'], ['11964716', \"Florida DJs May Face Felony for April Fools' Water Joke\", 'http://www.thewire.com/entertainment/2013/04/florida-djs-april-fools-water-joke/63798/', '2', '1', 'vezycash', '6/23/2016 22:20'], ['11919867', 'Technology ventures: From Idea to Enterprise', 'https://www.amazon.com/Technology-Ventures-Enterprise-Thomas-Byers/dp/0073523429', '3', '1', 'hswarna', '6/17/2016 0:01']]\n"
     ]
    }
   ],
   "source": [
    "print(hn[0:4])"
   ]
  },
  {
   "cell_type": "markdown",
   "id": "71ad6d91",
   "metadata": {},
   "source": [
    "Just for our reference, checking more lines, we found one example of `Ask HN`:"
   ]
  },
  {
   "cell_type": "code",
   "execution_count": 21,
   "id": "f1a62af2",
   "metadata": {},
   "outputs": [
    {
     "name": "stdout",
     "output_type": "stream",
     "text": [
      "['10610020', 'Ask HN: Am I the only one outraged by Twitter shutting down share counts?', '', '28', '29', 'tkfx', '11/22/2015 13:43']\n"
     ]
    }
   ],
   "source": [
    "print(hn[17])"
   ]
  },
  {
   "cell_type": "markdown",
   "id": "d68270db",
   "metadata": {},
   "source": [
    "## 3. Number of comments by classification posts"
   ]
  },
  {
   "cell_type": "markdown",
   "id": "d3dfdd96",
   "metadata": {},
   "source": [
    "### 3.1. Posts by classification"
   ]
  },
  {
   "cell_type": "markdown",
   "id": "78b05a30",
   "metadata": {},
   "source": [
    "We will create 3 lists, one for each kind of posts. To reach this goal we will use the string method `startswith`"
   ]
  },
  {
   "cell_type": "code",
   "execution_count": 22,
   "id": "71b554f5",
   "metadata": {},
   "outputs": [],
   "source": [
    "ask_posts=[]\n",
    "show_posts=[]\n",
    "other_posts=[]\n",
    "\n",
    "for each in hn:\n",
    "    subject=each[1]\n",
    "    subject=subject.lower() #--> Why are we using the string method `lower`?\n",
    "                            #In order to avoid to lose some data because differences on capitalization.\n",
    "    \n",
    "    if subject.startswith(\"ask hn\"):\n",
    "        ask_posts.append(each)\n",
    "    elif subject.startswith(\"show hn\"):\n",
    "        show_posts.append(each)\n",
    "    else:\n",
    "        other_posts.append(each)\n"
   ]
  },
  {
   "cell_type": "code",
   "execution_count": 23,
   "id": "ee78b052",
   "metadata": {},
   "outputs": [
    {
     "name": "stdout",
     "output_type": "stream",
     "text": [
      "Among the total number of posts (20,100 posts), we have 1,744 posts of type Ask HN, 1,162 posts of type Show HN, and 17,194 posts of other type.\n"
     ]
    }
   ],
   "source": [
    "print(f\"Among the total number of posts ({len(hn):,} posts), we have {len(ask_posts):,} posts of type Ask HN, {len(show_posts):,} posts of type Show HN, and {len(other_posts):,} posts of other type.\")"
   ]
  },
  {
   "cell_type": "markdown",
   "id": "d361ec41",
   "metadata": {},
   "source": [
    "#### 3.1.1 Ask posts (first five elements):"
   ]
  },
  {
   "cell_type": "code",
   "execution_count": 24,
   "id": "a8d3074b",
   "metadata": {},
   "outputs": [
    {
     "name": "stdout",
     "output_type": "stream",
     "text": [
      "[['12296411', 'Ask HN: How to improve my personal website?', '', '2', '6', 'ahmedbaracat', '8/16/2016 9:55'], ['10610020', 'Ask HN: Am I the only one outraged by Twitter shutting down share counts?', '', '28', '29', 'tkfx', '11/22/2015 13:43'], ['11610310', 'Ask HN: Aby recent changes to CSS that broke mobile?', '', '1', '1', 'polskibus', '5/2/2016 10:14'], ['12210105', 'Ask HN: Looking for Employee #3 How do I do it?', '', '1', '3', 'sph130', '8/2/2016 14:20'], ['10394168', 'Ask HN: Someone offered to buy my browser extension from me. What now?', '', '28', '17', 'roykolak', '10/15/2015 16:38']]\n"
     ]
    }
   ],
   "source": [
    "print(ask_posts[:5])"
   ]
  },
  {
   "cell_type": "markdown",
   "id": "2c4fa915",
   "metadata": {},
   "source": [
    "#### 3.1.2 Show posts (first 5 elements):"
   ]
  },
  {
   "cell_type": "code",
   "execution_count": 25,
   "id": "fa8d90fa",
   "metadata": {},
   "outputs": [
    {
     "name": "stdout",
     "output_type": "stream",
     "text": [
      "[['10627194', 'Show HN: Wio Link  ESP8266 Based Web of Things Hardware Development Platform', 'https://iot.seeed.cc', '26', '22', 'kfihihc', '11/25/2015 14:03'], ['10646440', 'Show HN: Something pointless I made', 'http://dn.ht/picklecat/', '747', '102', 'dhotson', '11/29/2015 22:46'], ['11590768', 'Show HN: Shanhu.io, a programming playground powered by e8vm', 'https://shanhu.io', '1', '1', 'h8liu', '4/28/2016 18:05'], ['12178806', 'Show HN: Webscope  Easy way for web developers to communicate with Clients', 'http://webscopeapp.com', '3', '3', 'fastbrick', '7/28/2016 7:11'], ['10872799', 'Show HN: GeoScreenshot  Easily test Geo-IP based web pages', 'https://www.geoscreenshot.com/', '1', '9', 'kpsychwave', '1/9/2016 20:45']]\n"
     ]
    }
   ],
   "source": [
    "print(show_posts[:5])"
   ]
  },
  {
   "cell_type": "markdown",
   "id": "e0af534f",
   "metadata": {},
   "source": [
    "#### 3.1.3 Other posts (first 5 elements):"
   ]
  },
  {
   "cell_type": "code",
   "execution_count": 26,
   "id": "2277c72a",
   "metadata": {},
   "outputs": [
    {
     "name": "stdout",
     "output_type": "stream",
     "text": [
      "[['12224879', 'Interactive Dynamic Video', 'http://www.interactivedynamicvideo.com/', '386', '52', 'ne0phyte', '8/4/2016 11:52'], ['10975351', 'How to Use Open Source and Shut the Fuck Up at the Same Time', 'http://hueniverse.com/2016/01/26/how-to-use-open-source-and-shut-the-fuck-up-at-the-same-time/', '39', '10', 'josep2', '1/26/2016 19:30'], ['11964716', \"Florida DJs May Face Felony for April Fools' Water Joke\", 'http://www.thewire.com/entertainment/2013/04/florida-djs-april-fools-water-joke/63798/', '2', '1', 'vezycash', '6/23/2016 22:20'], ['11919867', 'Technology ventures: From Idea to Enterprise', 'https://www.amazon.com/Technology-Ventures-Enterprise-Thomas-Byers/dp/0073523429', '3', '1', 'hswarna', '6/17/2016 0:01'], ['10301696', 'Note by Note: The Making of Steinway L1037 (2007)', 'http://www.nytimes.com/2007/11/07/movies/07stein.html?_r=0', '8', '2', 'walterbell', '9/30/2015 4:12']]\n"
     ]
    }
   ],
   "source": [
    "print(other_posts[:5])"
   ]
  },
  {
   "cell_type": "markdown",
   "id": "fdfc096d",
   "metadata": {},
   "source": [
    "### 3.2. Comments per each classification"
   ]
  },
  {
   "cell_type": "markdown",
   "id": "d4723a99",
   "metadata": {},
   "source": [
    "To calculate the average of number of commments per each post classification, we built a function to calculate this value for any input list, and then use this function to calculate the comments average for each type:"
   ]
  },
  {
   "cell_type": "code",
   "execution_count": 27,
   "id": "d0b0c53b",
   "metadata": {},
   "outputs": [
    {
     "name": "stdout",
     "output_type": "stream",
     "text": [
      "In average the posts 'Ask HN' received 14.04 comments\n",
      "In average the posts 'Show HN' received 10.32 comments\n",
      "In average the posts 'Other' received 26.87 comments\n"
     ]
    }
   ],
   "source": [
    "def avg_comments(list_input):\n",
    "    i=0\n",
    "    for each in list_input:\n",
    "        comments=int(each[4])\n",
    "        i+=comments\n",
    "    avg=(i/len(list_input))\n",
    "    return avg\n",
    "\n",
    "print(f\"In average the posts 'Ask HN' received {avg_comments(ask_posts):.2f} comments\")\n",
    "print(f\"In average the posts 'Show HN' received {avg_comments(show_posts):.2f} comments\")\n",
    "print(f\"In average the posts 'Other' received {avg_comments(other_posts):.2f} comments\")"
   ]
  },
  {
   "cell_type": "markdown",
   "id": "a4fbc7ab",
   "metadata": {},
   "source": [
    "--> **Between \"Ask HN\" and \"Show HN\" which posts receive more comments?**\n",
    "\n",
    "<span style=\"background:yellow\"> Based on the values that we got, we can conclude that \"Ask HN\" posts received more comments in average than \"Show HN\" post. <\\span>\n",
    "    \n",
    "In the general view, the \"Show HN\" posts are the ones that received the less number of comments in average."
   ]
  },
  {
   "cell_type": "markdown",
   "id": "44883760",
   "metadata": {},
   "source": [
    "## 4. Number of comments according to the post time"
   ]
  },
  {
   "cell_type": "code",
   "execution_count": 28,
   "id": "630caead",
   "metadata": {},
   "outputs": [
    {
     "name": "stdout",
     "output_type": "stream",
     "text": [
      "<class 'datetime.datetime'>\n"
     ]
    }
   ],
   "source": [
    "#exemple of one date/time in this data set: 9/26/2016 3:19\n",
    "\n",
    "for each in hn:\n",
    "    time=each[6]\n",
    "    time=dt.datetime.strptime(time, \"%m/%d/%Y %H:%M\") #-> with csv in kaggle this step is not need becayse already date format strptime() argument 1 must be str, not datetime.datetime - this means that the time in the data set is already formated as time:\n",
    "    each[6]=time\n",
    "    \n",
    "print(type(hn[1][6]))\n"
   ]
  },
  {
   "cell_type": "markdown",
   "id": "bd17e29f",
   "metadata": {},
   "source": [
    "### 4.1 Checking the average comments according to the month"
   ]
  },
  {
   "cell_type": "markdown",
   "id": "27669fe6",
   "metadata": {},
   "source": [
    "#### 4.1.1. Independently of posts classification:"
   ]
  },
  {
   "cell_type": "code",
   "execution_count": 29,
   "id": "c6979afd",
   "metadata": {
    "scrolled": true
   },
   "outputs": [
    {
     "name": "stdout",
     "output_type": "stream",
     "text": [
      "Dictionary with the total number of comments and posts per months and average comments per month: \n",
      " \n",
      " {8: {'comments': 43888, 'posts': 1562, 'avg': 28.09731113956466}, 1: {'comments': 38702, 'posts': 1694, 'avg': 22.846517119244393}, 6: {'comments': 43036, 'posts': 1585, 'avg': 27.15205047318612}, 9: {'comments': 64922, 'posts': 2511, 'avg': 25.855037833532457}, 10: {'comments': 34869, 'posts': 1693, 'avg': 20.59598346131128}, 11: {'comments': 37287, 'posts': 1665, 'avg': 22.394594594594594}, 3: {'comments': 42171, 'posts': 1676, 'avg': 25.161694510739856}, 5: {'comments': 41574, 'posts': 1532, 'avg': 27.137075718015666}, 4: {'comments': 43807, 'posts': 1615, 'avg': 27.125077399380803}, 7: {'comments': 39021, 'posts': 1505, 'avg': 25.927574750830566}, 2: {'comments': 33388, 'posts': 1511, 'avg': 22.096624751819988}, 12: {'comments': 35861, 'posts': 1551, 'avg': 23.12121212121212}}\n"
     ]
    }
   ],
   "source": [
    "month_dic={}\n",
    "\n",
    "for each in hn:\n",
    "    time=each[6]\n",
    "    comments= int(each[4])\n",
    "    month=time.month\n",
    "    \n",
    "    if month in month_dic:\n",
    "        #month_dic[month]= (month_dic[month][0]+ comments,  month_dic[month][1]+1)\n",
    "        month_dic[month][\"comments\"]+=comments\n",
    "        month_dic[month][\"posts\"]+=1\n",
    "    else:\n",
    "        #month_dic[month]= (comments, 1)\n",
    "        month_dic[month]= {\"comments\":comments, \"posts\":1}\n",
    "    \n",
    "\n",
    "for each in month_dic:\n",
    "    #month_dic[each]=(month_dic[each][0],month_dic[each][1],round(month_dic[each][0]/month_dic[each][1],2))\n",
    "    month_dic[each][\"avg\"]=(month_dic[each][\"comments\"]/ month_dic[each][\"posts\"])\n",
    "    \n",
    "print(\"Dictionary with the total number of comments and posts per months and average comments per month:\", \"\\n\", \"\\n\", month_dic)\n"
   ]
  },
  {
   "cell_type": "markdown",
   "id": "59a625d6",
   "metadata": {},
   "source": [
    "Let us just turn this information easier to read, sort this information:"
   ]
  },
  {
   "cell_type": "code",
   "execution_count": 30,
   "id": "49b10e89",
   "metadata": {
    "scrolled": true
   },
   "outputs": [
    {
     "name": "stdout",
     "output_type": "stream",
     "text": [
      "8 : 28.1\n",
      "6 : 27.15\n",
      "5 : 27.14\n",
      "4 : 27.13\n",
      "7 : 25.93\n",
      "9 : 25.86\n",
      "3 : 25.16\n",
      "12 : 23.12\n",
      "1 : 22.85\n",
      "11 : 22.39\n",
      "2 : 22.1\n",
      "10 : 20.6\n"
     ]
    }
   ],
   "source": [
    "list_=[]\n",
    "for each in month_dic:  \n",
    "    tuples=(round(month_dic[each][\"avg\"],2),each)\n",
    "    list_.append(tuples)\n",
    "table_sorted=sorted(list_, reverse=True)\n",
    "for each in table_sorted:\n",
    "    print(each[1],\":\",each[0])"
   ]
  },
  {
   "cell_type": "markdown",
   "id": "6a37ad3b",
   "metadata": {},
   "source": [
    "<span style=\"background:yellow\"> Now it is evident, that the posts published in Agust received more comments in average, than the others, following April to June. The months when received less comments are in February and October</span>"
   ]
  },
  {
   "cell_type": "markdown",
   "id": "6b9421e4",
   "metadata": {},
   "source": [
    "#### 4.1.2. Checking specific case of \"Ask HN\" posts:"
   ]
  },
  {
   "cell_type": "code",
   "execution_count": 31,
   "id": "0530611e",
   "metadata": {},
   "outputs": [
    {
     "name": "stdout",
     "output_type": "stream",
     "text": [
      "8 : 21.75\n",
      "3 : 18.57\n",
      "5 : 18.16\n",
      "6 : 16.24\n",
      "9 : 15.97\n",
      "1 : 13.61\n",
      "11 : 12.55\n",
      "7 : 11.87\n",
      "4 : 10.78\n",
      "12 : 9.12\n",
      "10 : 8.64\n",
      "2 : 7.52\n"
     ]
    }
   ],
   "source": [
    "month_dic_ahn={}\n",
    "\n",
    "for each in ask_posts:\n",
    "    time=each[6]\n",
    "    comments= int(each[4])\n",
    "    month=time.month\n",
    "    \n",
    "    if month in month_dic_ahn:\n",
    "        month_dic_ahn[month][\"comments\"]+=comments\n",
    "        month_dic_ahn[month][\"posts\"]+=1\n",
    "    else:\n",
    "        month_dic_ahn[month]= {\"comments\":comments, \"posts\":1}\n",
    "    \n",
    "\n",
    "for each in month_dic:\n",
    "    month_dic_ahn[each][\"avg\"]=(month_dic_ahn[each][\"comments\"]/ month_dic_ahn[each][\"posts\"])\n",
    "\n",
    "list_=[]\n",
    "for each in month_dic_ahn:  \n",
    "    tuples=(round(month_dic_ahn[each][\"avg\"],2),each)\n",
    "    list_.append(tuples)\n",
    "table_sorted=sorted(list_, reverse=True)\n",
    "for each in table_sorted:\n",
    "    print(each[1],\":\",each[0])"
   ]
  },
  {
   "cell_type": "markdown",
   "id": "98331e14",
   "metadata": {},
   "source": [
    "<span style=\"background:yellow\"> The conclusions are similar. The posts published in Agust received more comments in average, than the others, following March and May. The months when received less comments are in February and October</span>"
   ]
  },
  {
   "cell_type": "markdown",
   "id": "6293c05b",
   "metadata": {},
   "source": [
    "### 4.2. Checking the average comments according to the clock time"
   ]
  },
  {
   "cell_type": "markdown",
   "id": "c6646cbc",
   "metadata": {},
   "source": [
    "#### 4.2.1. Independently of posts classification:"
   ]
  },
  {
   "cell_type": "code",
   "execution_count": 32,
   "id": "1d7225c8",
   "metadata": {},
   "outputs": [
    {
     "name": "stdout",
     "output_type": "stream",
     "text": [
      "Dictionary with the total number of comments and posts per months and average comments per hour: \n",
      " \n",
      " {11: {'comments': 20664, 'posts': 762, 'avg': 27.118110236220474}, 19: {'comments': 27894, 'posts': 1145, 'avg': 24.361572052401748}, 22: {'comments': 18684, 'posts': 875, 'avg': 21.353142857142856}, 0: {'comments': 17478, 'posts': 697, 'avg': 25.076040172166426}, 4: {'comments': 11537, 'posts': 527, 'avg': 21.891840607210625}, 9: {'comments': 15274, 'posts': 609, 'avg': 25.080459770114942}, 16: {'comments': 30857, 'posts': 1302, 'avg': 23.69969278033794}, 18: {'comments': 31587, 'posts': 1254, 'avg': 25.188995215311003}, 14: {'comments': 33545, 'posts': 1151, 'avg': 29.14422241529105}, 10: {'comments': 16818, 'posts': 686, 'avg': 24.516034985422742}, 12: {'comments': 25351, 'posts': 923, 'avg': 27.465872156013003}, 13: {'comments': 30562, 'posts': 1102, 'avg': 27.733212341197824}, 20: {'comments': 23414, 'posts': 1051, 'avg': 22.27783063748811}, 3: {'comments': 11626, 'posts': 488, 'avg': 23.82377049180328}, 17: {'comments': 34784, 'posts': 1362, 'avg': 25.53891336270191}, 1: {'comments': 12465, 'posts': 588, 'avg': 21.198979591836736}, 23: {'comments': 17582, 'posts': 778, 'avg': 22.59897172236504}, 8: {'comments': 14062, 'posts': 578, 'avg': 24.32871972318339}, 2: {'comments': 13762, 'posts': 529, 'avg': 26.015122873345934}, 21: {'comments': 22652, 'posts': 1030, 'avg': 21.992233009708738}, 15: {'comments': 35809, 'posts': 1234, 'avg': 29.01863857374392}, 6: {'comments': 9253, 'posts': 468, 'avg': 19.771367521367523}, 7: {'comments': 12576, 'posts': 508, 'avg': 24.755905511811022}, 5: {'comments': 10290, 'posts': 453, 'avg': 22.71523178807947}}\n"
     ]
    }
   ],
   "source": [
    "hours_dic={}\n",
    "\n",
    "for each in hn:\n",
    "    time=each[6]\n",
    "    comments= int(each[4])\n",
    "    hours=time.hour\n",
    "    \n",
    "    if hours in hours_dic:\n",
    "        hours_dic[hours][\"comments\"]+=comments\n",
    "        hours_dic[hours][\"posts\"]+=1\n",
    "    else:\n",
    "        hours_dic[hours]= {\"comments\":comments, \"posts\":1}\n",
    "    \n",
    "\n",
    "for each in hours_dic:\n",
    "    hours_dic[each][\"avg\"]=(hours_dic[each][\"comments\"]/ hours_dic[each][\"posts\"])\n",
    "    \n",
    "print(\"Dictionary with the total number of comments and posts per months and average comments per hour:\", \"\\n\", \"\\n\", hours_dic)\n"
   ]
  },
  {
   "cell_type": "code",
   "execution_count": 33,
   "id": "c48ae764",
   "metadata": {},
   "outputs": [
    {
     "name": "stdout",
     "output_type": "stream",
     "text": [
      "14 : 29.14\n",
      "15 : 29.02\n",
      "13 : 27.73\n",
      "12 : 27.47\n",
      "11 : 27.12\n",
      "2 : 26.02\n",
      "17 : 25.54\n",
      "18 : 25.19\n",
      "9 : 25.08\n",
      "0 : 25.08\n",
      "7 : 24.76\n",
      "10 : 24.52\n",
      "19 : 24.36\n",
      "8 : 24.33\n",
      "3 : 23.82\n",
      "16 : 23.7\n",
      "5 : 22.72\n",
      "23 : 22.6\n",
      "20 : 22.28\n",
      "21 : 21.99\n",
      "4 : 21.89\n",
      "22 : 21.35\n",
      "1 : 21.2\n",
      "6 : 19.77\n"
     ]
    }
   ],
   "source": [
    "list_=[]\n",
    "for each in hours_dic:  \n",
    "    tuples=(round(hours_dic[each][\"avg\"],2),each)\n",
    "    list_.append(tuples)\n",
    "table_sorted=sorted(list_, reverse=True)\n",
    "for each in table_sorted:\n",
    "    print(each[1],\":\",each[0])"
   ]
  },
  {
   "cell_type": "markdown",
   "id": "203b78b6",
   "metadata": {},
   "source": [
    "<span style=\"background:yellow\"> Now it is evident, that the posts published between 11am-3pm, and at 2am received more comments in average, than in the other hours.</span>"
   ]
  },
  {
   "cell_type": "markdown",
   "id": "b23cd036",
   "metadata": {},
   "source": [
    "#### 4.1.2. Checking specific case of \"Ask HN\" posts:"
   ]
  },
  {
   "cell_type": "code",
   "execution_count": 34,
   "id": "538dcf2a",
   "metadata": {},
   "outputs": [
    {
     "name": "stdout",
     "output_type": "stream",
     "text": [
      "15 : 38.59\n",
      "2 : 23.81\n",
      "20 : 21.52\n",
      "16 : 16.8\n",
      "21 : 16.01\n",
      "13 : 14.74\n",
      "10 : 13.44\n",
      "14 : 13.23\n",
      "18 : 13.2\n",
      "17 : 11.46\n",
      "1 : 11.38\n",
      "11 : 11.05\n",
      "19 : 10.8\n",
      "8 : 10.25\n",
      "5 : 10.09\n",
      "12 : 9.41\n",
      "6 : 9.02\n",
      "0 : 8.13\n",
      "23 : 7.99\n",
      "7 : 7.85\n",
      "3 : 7.8\n",
      "4 : 7.17\n",
      "22 : 6.75\n",
      "9 : 5.58\n"
     ]
    }
   ],
   "source": [
    "hours_dic_ahn={}\n",
    "\n",
    "for each in ask_posts:\n",
    "    time=each[6]\n",
    "    comments= int(each[4])\n",
    "    hours=time.hour\n",
    "    \n",
    "    if hours in hours_dic_ahn:\n",
    "        hours_dic_ahn[hours][\"comments\"]+=comments\n",
    "        hours_dic_ahn[hours][\"posts\"]+=1\n",
    "    else:\n",
    "        hours_dic_ahn[hours]= {\"comments\":comments, \"posts\":1}\n",
    "    \n",
    "\n",
    "for each in hours_dic_ahn:\n",
    "    hours_dic_ahn[each][\"avg\"]=(hours_dic_ahn[each][\"comments\"]/ hours_dic_ahn[each][\"posts\"])\n",
    "\n",
    "    \n",
    "list_=[]\n",
    "for each in hours_dic_ahn:  \n",
    "    tuples=(round(hours_dic_ahn[each][\"avg\"],2),each)\n",
    "    list_.append(tuples)\n",
    "table_sorted=sorted(list_, reverse=True)\n",
    "for each in table_sorted:\n",
    "    print(each[1],\":\",each[0])\n",
    "#print(hours_dic_ahn)"
   ]
  },
  {
   "cell_type": "markdown",
   "id": "526d42cf",
   "metadata": {},
   "source": [
    "<span style=\"background:yellow\">Checking only \"Ask HN\" posts there are some similar conclusions. The posts published at 3pm and at 2am received more comments in average, than in the other hours.\n",
    "\n",
    "The biggest difference is when we check what happen at 8pm? 8pm is still at top 3 of hours where \"Ask HN\" posts received more comments. However in the general views 8pm is on bottom of lists.  \n",
    "</span>"
   ]
  },
  {
   "cell_type": "markdown",
   "id": "08d213a3",
   "metadata": {},
   "source": [
    "## Conclusions:"
   ]
  },
  {
   "cell_type": "markdown",
   "id": "58fcb8d9",
   "metadata": {},
   "source": [
    "From the results we got, we can conclude that the posts published in August receive more comments than in other months, which can be explained, because this is the month that usually we have many people on vacation, so could have a little more time to comments the posts in the Hacker News.\n",
    "\n",
    "When we did daily analyse, we conclude that if we published our posts between 3pm and 3:59pm, we will receive in average more comments than in other hours.\n",
    "\n",
    "\n",
    "If we want to ask something to the community, there are 2 very different periods when we can get more comments, beteween 5pm-5:59pm and between 2pm-2:59pm. This is very interesting and can be easily explained. The Hacker News community is spread all over the world. So, this should mean that this 2 different schedules where we have more comments from community for posts \"Ask HN\" should be from 2 different timezones in the world.\n",
    "\n",
    "Despite check what happen specifically with \"Ask HN\" posts comparing with general view os posts, we can do similar verification fo any other kind of posts."
   ]
  }
 ],
 "metadata": {
  "kernelspec": {
   "display_name": "Python 3",
   "language": "python",
   "name": "python3"
  },
  "language_info": {
   "codemirror_mode": {
    "name": "ipython",
    "version": 3
   },
   "file_extension": ".py",
   "mimetype": "text/x-python",
   "name": "python",
   "nbconvert_exporter": "python",
   "pygments_lexer": "ipython3",
   "version": "3.8.8"
  }
 },
 "nbformat": 4,
 "nbformat_minor": 5
}
